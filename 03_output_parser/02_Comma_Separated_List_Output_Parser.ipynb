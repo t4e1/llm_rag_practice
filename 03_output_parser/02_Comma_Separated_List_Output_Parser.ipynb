{
 "cells": [
  {
   "cell_type": "markdown",
   "id": "956a5360",
   "metadata": {
    "vscode": {
     "languageId": "raw"
    }
   },
   "source": [
    "## Comma Separated List Output Parser\n",
    "`Comma Separated List Output Parser`란?\n",
    "- LLM의 출력을 쉼표로 구분된 리스트 형태로 파싱하는 도구입니다\n",
    "- 문자열 응답을 Python 리스트로 자동 변환합니다\n",
    "- 여러 항목을 나열하는 경우에 유용합니다 (예: 취미 목록, 관심사 목록 등)\n",
    "- 간단한 텍스트 처리에 적합한 경량 파서입니다\n",
    "- 예시: \"독서, 영화감상, 요리, 운동, 음악감상\" → [\"독서\", \"영화감상\", \"요리\", \"운동\", \"음악감상\"]\n"
   ]
  },
  {
   "cell_type": "markdown",
   "id": "d986d405",
   "metadata": {
    "vscode": {
     "languageId": "raw"
    }
   },
   "source": [
    "LLM 모델 객체 생성하기"
   ]
  },
  {
   "cell_type": "code",
   "execution_count": null,
   "id": "fd0e8ddf",
   "metadata": {},
   "outputs": [],
   "source": [
    "from langchain.chat_models import init_chat_model\n",
    "\n",
    "llm = init_chat_model(\"gpt-4o-mini\", model_provider=\"openai\", temperature=0.5)"
   ]
  },
  {
   "cell_type": "markdown",
   "id": "b7dcc97b",
   "metadata": {
    "vscode": {
     "languageId": "raw"
    }
   },
   "source": [
    "Comma Separated List Output Parser를 사용하지 않는 예시"
   ]
  },
  {
   "cell_type": "code",
   "execution_count": null,
   "id": "f3d03676",
   "metadata": {},
   "outputs": [],
   "source": [
    "from langchain_core.prompts import PromptTemplate\n",
    "\n",
    "# 기본 프롬프트 템플릿 정의\n",
    "template = \"\"\"\n",
    "{category}에 해당하는 음식들을 나열해주세요.\n",
    "\n",
    "각 항목을 쉼표로 구분하여 답변해주세요.\n",
    "\"\"\"\n",
    "\n",
    "# PromptTemplate 생성\n",
    "prompt = PromptTemplate(\n",
    "    template=template,\n",
    "    input_variables=[\"category\"],\n",
    ")\n",
    "\n",
    "# 프롬프트 미리보기\n",
    "sample_category = \"중식\"\n",
    "formatted_prompt = prompt.format(category=sample_category)\n",
    "print(formatted_prompt)\n"
   ]
  },
  {
   "cell_type": "code",
   "execution_count": null,
   "id": "9d65cbab",
   "metadata": {},
   "outputs": [],
   "source": [
    "chain = prompt | llm\n",
    "\n",
    "result = chain.invoke({\"category\": \"병과\"})\n",
    "\n",
    "print(result.content)\n",
    "print(f\"응답 타입: {type(result.content)}\") # 문자열 형태로 나누어져서 나옴."
   ]
  },
  {
   "cell_type": "markdown",
   "id": "ecb507ab",
   "metadata": {
    "vscode": {
     "languageId": "raw"
    }
   },
   "source": [
    "이러한 경우처럼 여러 항목을 나열하는 응답이 필요할 때,  \n",
    "*Comma Separated List Output Parser*를 사용하면 문자열을 자동으로 리스트로 변환할 수 있다."
   ]
  },
  {
   "cell_type": "markdown",
   "id": "ce4aa790",
   "metadata": {
    "vscode": {
     "languageId": "raw"
    }
   },
   "source": [
    "1. Comma Separated List Output Parser 생성하기"
   ]
  },
  {
   "cell_type": "code",
   "execution_count": null,
   "id": "67f0b99e",
   "metadata": {},
   "outputs": [],
   "source": [
    "from langchain.output_parsers import CommaSeparatedListOutputParser\n",
    "\n",
    "# Comma Separated List Output Parser 생성\n",
    "parser = CommaSeparatedListOutputParser()\n",
    "\n",
    "# 파서가 어떤 형식을 요구하는지 확인\n",
    "print(parser.get_format_instructions())"
   ]
  },
  {
   "cell_type": "markdown",
   "id": "31dcc3f4",
   "metadata": {
    "vscode": {
     "languageId": "raw"
    }
   },
   "source": [
    "### `get_format_instructions()` 메서드\n",
    "- `CommaSeparatedListOutputParser`의 출력 형식을 LLM이 이해할 수 있는 명확한 지침으로 변환\n",
    "- LLM이 쉼표로 구분된 리스트 형태로 응답하도록 안내"
   ]
  },
  {
   "cell_type": "markdown",
   "id": "2696c4a0",
   "metadata": {
    "vscode": {
     "languageId": "raw"
    }
   },
   "source": [
    "프롬프트 재정의\n",
    "- `category` : 나열하고 싶은 카테고리 (사용자 입력을 받을 위치)\n",
    "- `format_instructions` : parser로 형식 지정"
   ]
  },
  {
   "cell_type": "code",
   "execution_count": null,
   "id": "3be2bd92",
   "metadata": {},
   "outputs": [],
   "source": [
    "# 프롬프트 템플릿 재정의 (format_instructions 포함)\n",
    "template = \"\"\"\n",
    "{category}에 해당하는 음식들을 나열해주세요.\n",
    "\n",
    "각 항목을 쉼표로 구분하여 답변해주세요.\n",
    "\n",
    "{format_instructions}\n",
    "\"\"\"\n",
    "\n",
    "# PromptTemplate 생성\n",
    "prompt = PromptTemplate(\n",
    "    template=template,\n",
    "    input_variables=[\"category\"],\n",
    "    partial_variables={\"format_instructions\": parser.get_format_instructions()}\n",
    ")\n",
    "\n",
    "# 프롬프트 미리보기\n",
    "sample_category = \"한식\"\n",
    "formatted_prompt = prompt.format(category=sample_category)\n",
    "print(formatted_prompt)"
   ]
  },
  {
   "cell_type": "markdown",
   "id": "575fa3f2",
   "metadata": {
    "vscode": {
     "languageId": "raw"
    }
   },
   "source": [
    "LCEL 체인 만들기\n",
    "- 체인 구조: PromptTemplate → ChatOllama → CommaSeparatedListOutputParser"
   ]
  },
  {
   "cell_type": "code",
   "execution_count": null,
   "id": "31cd4600",
   "metadata": {},
   "outputs": [],
   "source": [
    "# LCEL을 사용한 체인 생성: 프롬프트 → LLM → 파서\n",
    "chain = prompt | llm | parser\n",
    "\n",
    "# 테스트\n",
    "test_category = \"한식\"\n",
    "\n",
    "# 체인 실행\n",
    "result = chain.invoke({\"category\": test_category})\n",
    "\n",
    "print(f\"파싱 결과: {result}\")\n",
    "print(f\"응답 타입: {type(result)}\") # 리스트 형태 응답됨."
   ]
  }
 ],
 "metadata": {
  "kernelspec": {
   "display_name": "Python 3",
   "language": "python",
   "name": "python3"
  },
  "language_info": {
   "codemirror_mode": {
    "name": "ipython",
    "version": 3
   },
   "file_extension": ".py",
   "mimetype": "text/x-python",
   "name": "python",
   "nbconvert_exporter": "python",
   "pygments_lexer": "ipython3",
   "version": "3.11.13"
  }
 },
 "nbformat": 4,
 "nbformat_minor": 5
}
