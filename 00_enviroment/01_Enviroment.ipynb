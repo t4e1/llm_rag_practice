{
 "cells": [
  {
   "cell_type": "markdown",
   "id": "fe038dc7",
   "metadata": {},
   "source": [
    "## OpenAI API (ChatGPT API)\n",
    "OpenAI API는 클라우드 기반으로 GPT 모델을 활용할 수 있는 서비스입니다.\n",
    "API 키를 통해 다양한 GPT 모델(GPT-3.5, GPT-4 등)에 접근하여 텍스트 생성, 대화, 번역 등의 작업을 수행할 수 있습니다.\n",
    "인터넷 연결이 필요하지만 별도의 하드웨어 요구사항 없이 강력한 AI 모델을 사용할 수 있습니다.\n",
    "\n",
    "\n",
    "## 1. 설정\n",
    "### API 키 발급\n",
    "- OpenAI 공식 웹사이트에 접속하여 계정을 생성합니다\n",
    "- https://platform.openai.com\n",
    "\n",
    "### API 키 관리\n",
    "- OpenAI 플랫폼에서 API Keys 섹션으로 이동합니다\n",
    "- 'Create new secret key'를 클릭하여 새로운 API 키를 생성합니다\n",
    "- 생성된 API 키는 안전한 곳에 보관하세요 (다시 확인할 수 없습니다)\n",
    "\n",
    "### 사용 가능한 모델\n",
    "- gpt-3.5-turbo: 빠르고 비용 효율적인 모델\n",
    "- gpt-4: 더 높은 성능의 모델\n",
    "- gpt-4-turbo: 개선된 GPT-4 모델\n",
    "- 모델별 요금과 성능은 OpenAI 공식 문서에서 확인할 수 있습니다"
   ]
  },
  {
   "cell_type": "markdown",
   "id": "5d0a55e2",
   "metadata": {},
   "source": [
    "## OpenAI API 요금 및 사용량 관리\n",
    "- OpenAI API는 사용량에 따라 과금되는 서비스입니다.\n",
    "- 토큰 단위로 계산되며, 입력 토큰과 출력 토큰의 요금이 다를 수 있습니다.\n",
    "\n",
    "## API 사용 제한 설정\n",
    "- 예상치 못한 요금 발생을 방지하기 위해 사용량 제한을 설정할 수 있습니다.\n",
    "\n",
    "### 요금 정책 이해하기   \n",
    "OpenAI API는 모델에 따라 다른 요금 체계를 가지고 있습니다.  \n",
    "- GPT-3.5-turbo: 상대적으로 저렴한 요금\n",
    "- GPT-4: 더 높은 성능, 더 높은 요금\n",
    "- 토큰 수에 따라 비용이 계산되므로 효율적인 프롬프트 작성이 중요합니다.  \n",
    "[참고] - https://openai.com/pricing\n",
    "\n",
    "\n",
    "### API 사용량 모니터링\n",
    "https://platform.openai.com/usage\n",
    "- OpenAI 플랫폼에서 실시간 사용량과 비용을 확인할 수 있습니다.\n",
    "- 일별, 월별 사용량 통계를 제공합니다.\n",
    "\n"
   ]
  },
  {
   "cell_type": "code",
   "execution_count": 10,
   "id": "dc00373f",
   "metadata": {},
   "outputs": [
    {
     "name": "stdout",
     "output_type": "stream",
     "text": [
      "Requirement already satisfied: openai in c:\\users\\jtw57\\miniforge3\\envs\\helloworld\\lib\\site-packages (1.107.0)\n",
      "Requirement already satisfied: anyio<5,>=3.5.0 in c:\\users\\jtw57\\miniforge3\\envs\\helloworld\\lib\\site-packages (from openai) (4.10.0)\n",
      "Requirement already satisfied: distro<2,>=1.7.0 in c:\\users\\jtw57\\miniforge3\\envs\\helloworld\\lib\\site-packages (from openai) (1.9.0)\n",
      "Requirement already satisfied: httpx<1,>=0.23.0 in c:\\users\\jtw57\\miniforge3\\envs\\helloworld\\lib\\site-packages (from openai) (0.28.1)\n",
      "Requirement already satisfied: jiter<1,>=0.4.0 in c:\\users\\jtw57\\miniforge3\\envs\\helloworld\\lib\\site-packages (from openai) (0.10.0)\n",
      "Requirement already satisfied: pydantic<3,>=1.9.0 in c:\\users\\jtw57\\miniforge3\\envs\\helloworld\\lib\\site-packages (from openai) (2.11.7)\n",
      "Requirement already satisfied: sniffio in c:\\users\\jtw57\\miniforge3\\envs\\helloworld\\lib\\site-packages (from openai) (1.3.1)\n",
      "Requirement already satisfied: tqdm>4 in c:\\users\\jtw57\\miniforge3\\envs\\helloworld\\lib\\site-packages (from openai) (4.67.1)\n",
      "Requirement already satisfied: typing-extensions<5,>=4.11 in c:\\users\\jtw57\\miniforge3\\envs\\helloworld\\lib\\site-packages (from openai) (4.15.0)\n",
      "Requirement already satisfied: idna>=2.8 in c:\\users\\jtw57\\miniforge3\\envs\\helloworld\\lib\\site-packages (from anyio<5,>=3.5.0->openai) (3.10)\n",
      "Requirement already satisfied: certifi in c:\\users\\jtw57\\miniforge3\\envs\\helloworld\\lib\\site-packages (from httpx<1,>=0.23.0->openai) (2025.8.3)\n",
      "Requirement already satisfied: httpcore==1.* in c:\\users\\jtw57\\miniforge3\\envs\\helloworld\\lib\\site-packages (from httpx<1,>=0.23.0->openai) (1.0.9)\n",
      "Requirement already satisfied: h11>=0.16 in c:\\users\\jtw57\\miniforge3\\envs\\helloworld\\lib\\site-packages (from httpcore==1.*->httpx<1,>=0.23.0->openai) (0.16.0)\n",
      "Requirement already satisfied: annotated-types>=0.6.0 in c:\\users\\jtw57\\miniforge3\\envs\\helloworld\\lib\\site-packages (from pydantic<3,>=1.9.0->openai) (0.7.0)\n",
      "Requirement already satisfied: pydantic-core==2.33.2 in c:\\users\\jtw57\\miniforge3\\envs\\helloworld\\lib\\site-packages (from pydantic<3,>=1.9.0->openai) (2.33.2)\n",
      "Requirement already satisfied: typing-inspection>=0.4.0 in c:\\users\\jtw57\\miniforge3\\envs\\helloworld\\lib\\site-packages (from pydantic<3,>=1.9.0->openai) (0.4.1)\n",
      "Requirement already satisfied: colorama in c:\\users\\jtw57\\miniforge3\\envs\\helloworld\\lib\\site-packages (from tqdm>4->openai) (0.4.6)\n",
      "Note: you may need to restart the kernel to use updated packages.\n"
     ]
    }
   ],
   "source": [
    "%pip install openai"
   ]
  },
  {
   "cell_type": "code",
   "execution_count": 11,
   "id": "cb2faa07",
   "metadata": {},
   "outputs": [
    {
     "name": "stdout",
     "output_type": "stream",
     "text": [
      "Requirement already satisfied: dotenv in c:\\users\\jtw57\\miniforge3\\envs\\helloworld\\lib\\site-packages (0.9.9)\n",
      "Requirement already satisfied: python-dotenv in c:\\users\\jtw57\\miniforge3\\envs\\helloworld\\lib\\site-packages (from dotenv) (1.1.1)\n",
      "Note: you may need to restart the kernel to use updated packages.\n"
     ]
    }
   ],
   "source": [
    "%pip install dotenv"
   ]
  },
  {
   "cell_type": "code",
   "execution_count": 1,
   "id": "24b2a311",
   "metadata": {},
   "outputs": [
    {
     "name": "stdout",
     "output_type": "stream",
     "text": [
      "OPENAI_API_KEY가 설정되어 있나요?: sk-proj-qg...\n"
     ]
    }
   ],
   "source": [
    "import os\n",
    "from dotenv import load_dotenv\n",
    "\n",
    "# .env 파일에서 환경변수 로드\n",
    "load_dotenv()\n",
    "\n",
    "# OpenAI API 환경변수 값 확인\n",
    "openai_api_key = os.getenv('OPENAI_API_KEY')\n",
    "print(f\"OPENAI_API_KEY가 설정되어 있나요?: {openai_api_key[:10]}...\")"
   ]
  },
  {
   "cell_type": "markdown",
   "id": "1694deb2",
   "metadata": {},
   "source": [
    "OpenAI API를 이용해 테스트해보기"
   ]
  },
  {
   "cell_type": "code",
   "execution_count": 2,
   "id": "a2c0c655",
   "metadata": {},
   "outputs": [
    {
     "name": "stdout",
     "output_type": "stream",
     "text": [
      "RAG는 Risk Assessment Grid의 약자로, 위험 평가 그리드를 의미합니다. 이는 프로젝트나 일정, 업무 등을 진행할 때 발생할 수 있는 위험을 평가하고 관리하기 위한 도구로 사용됩니다. RAG는 주로 세 가지 색상으로 표시되며,\n"
     ]
    }
   ],
   "source": [
    "import openai\n",
    "import os\n",
    "\n",
    "prompt = \"RAG에 대해 최대한 길게 설명해줘\"\n",
    "\n",
    "# OpenAI API 호출\n",
    "response = openai.chat.completions.create(\n",
    "    model=\"gpt-3.5-turbo\",\n",
    "    messages=[\n",
    "        {\"role\": \"user\", \"content\": prompt}\n",
    "    ],\n",
    "    max_tokens=100, # 최대 토큰수\n",
    "    temperature=0.7 # 창의성\n",
    ")\n",
    "\n",
    "print(response.choices[0].message.content)"
   ]
  },
  {
   "cell_type": "markdown",
   "id": "794d8f3a",
   "metadata": {},
   "source": [
    "함수로 바꾸기 -> Prompt_Engineering 에서 사용 할 예정"
   ]
  },
  {
   "cell_type": "code",
   "execution_count": null,
   "id": "4aa44f31",
   "metadata": {},
   "outputs": [],
   "source": [
    "import openai\n",
    "\n",
    "prompt = \"RAG에 대해 최대한 길게 설명해줘\"\n",
    "\n",
    "def generate_response(prompt):\n",
    "    \"\"\"\n",
    "    OpenAI API를 사용하여 응답을 생성하는 함수\n",
    "    \n",
    "    Args:\n",
    "        prompt (str): 입력 프롬프트\n",
    "        model (str): 사용할 모델 (기본값: gpt-3.5-turbo)\n",
    "        max_tokens (int): 최대 토큰 수 (기본값: 150)\n",
    "        temperature (float): 창의성 정도 (기본값: 0.7)\n",
    "    \n",
    "    Returns:\n",
    "        str: AI의 응답\n",
    "    \"\"\"\n",
    "    try:\n",
    "        response = openai.chat.completions.create(\n",
    "            model=\"gpt-3.5-turbo\",\n",
    "            messages=[\n",
    "                {\"role\": \"user\", \"content\": prompt}\n",
    "            ],\n",
    "            temperature=0.5\n",
    "        )\n",
    "        return response.choices[0].message.content\n",
    "    except Exception as e:\n",
    "        return f\"오류 발생: {str(e)}\"\n"
   ]
  }
 ],
 "metadata": {
  "kernelspec": {
   "display_name": "helloworld",
   "language": "python",
   "name": "python3"
  },
  "language_info": {
   "codemirror_mode": {
    "name": "ipython",
    "version": 3
   },
   "file_extension": ".py",
   "mimetype": "text/x-python",
   "name": "python",
   "nbconvert_exporter": "python",
   "pygments_lexer": "ipython3",
   "version": "3.11.13"
  }
 },
 "nbformat": 4,
 "nbformat_minor": 5
}
