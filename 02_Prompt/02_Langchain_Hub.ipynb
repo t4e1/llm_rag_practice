{
 "cells": [
  {
   "cell_type": "markdown",
   "id": "abc88171",
   "metadata": {},
   "source": [
    "## LangchainHub를 사용해 프롬프트 형상관리하기\n",
    "\n",
    "### LangchainHub란?\n",
    "- LangChain에서 제공하는 **온라인 프롬프트 저장소**입니다\n",
    "- 클라우드 기반으로 프롬프트를 **버전 관리**하고 **공유** 가능합니다\n",
    "- 다양한 **사전 정의된 프롬프트** 템플릿을 제공합니다\n",
    "- **API를 통한 원격 로드**를 지원합니다\n",
    "\n",
    "### 주요 기능\n",
    " - 중앙화된 관리: 팀 전체가 동일한 최신 프롬프트를 사용가능\n",
    " - 버전 관리: 프롬프트 변경 이력을 추적가능\n",
    " - 실시간 업데이트: 코드 수정 없이 프롬프트를 변경  \n",
    " - 커뮤니티 공유: 다른 개발자들의 프롬프트를 활용\n"
   ]
  },
  {
   "cell_type": "markdown",
   "id": "ebeb5b5f",
   "metadata": {},
   "source": [
    "LangchainHub 설치 및 설정"
   ]
  },
  {
   "cell_type": "code",
   "execution_count": null,
   "id": "c5384cbc",
   "metadata": {},
   "outputs": [],
   "source": [
    "!pip install langchainhub"
   ]
  },
  {
   "cell_type": "markdown",
   "id": "01166587",
   "metadata": {},
   "source": [
    "LangChain APIKey 설정 필요\n",
    "- 다운로드 받을 땐 없어도됨\n",
    "- 수정 및 업로드 또는 private 접근할땐 필요"
   ]
  },
  {
   "cell_type": "code",
   "execution_count": null,
   "id": "a45818ff",
   "metadata": {},
   "outputs": [],
   "source": [
    "\n",
    "import os\n",
    "from dotenv import load_dotenv\n",
    "from langchain import hub\n",
    "\n",
    "# .env 파일에서 환경변수 로드\n",
    "load_dotenv()\n",
    "\n",
    "# LANGCHAIN_API_KEY 환경변수 값 확인\n",
    "langchain_api_key = os.getenv('LANGCHAIN_API_KEY')\n",
    "print(f\"LANGCHAIN_API_KEY가 설정되어 있나요?: {langchain_api_key[:10]}...\")"
   ]
  },
  {
   "cell_type": "markdown",
   "id": "7b7109ec",
   "metadata": {},
   "source": [
    "llm 모델 준비하기"
   ]
  },
  {
   "cell_type": "code",
   "execution_count": null,
   "id": "efb2b846",
   "metadata": {},
   "outputs": [],
   "source": [
    "from langchain.chat_models import init_chat_model\n",
    "\n",
    "llm = init_chat_model(\"gpt-4o-mini\", model_provider=\"openai\", temperature=0.5)"
   ]
  },
  {
   "cell_type": "markdown",
   "id": "06e9326c",
   "metadata": {
    "vscode": {
     "languageId": "raw"
    }
   },
   "source": [
    "### 1. 허브에 공개된 Prompt 사용하기"
   ]
  },
  {
   "cell_type": "code",
   "execution_count": null,
   "id": "0a5d3188",
   "metadata": {},
   "outputs": [],
   "source": [
    "from langchain import hub\n",
    "\n",
    "prompt = hub.pull(\"bear-ohgiraffers/ko-summary-3\")\n",
    "\n",
    "print(prompt)"
   ]
  },
  {
   "cell_type": "markdown",
   "id": "bb2b7155",
   "metadata": {},
   "source": [
    "### 2. Prompt Hub에 자신의 프롬프트 등록"
   ]
  },
  {
   "cell_type": "code",
   "execution_count": null,
   "id": "cfa5cf92",
   "metadata": {},
   "outputs": [],
   "source": [
    "from langchain_core.prompts import PromptTemplate\n",
    "\n",
    "# 1. 로컬에서 프롬프트 생성\n",
    "custom_prompt = PromptTemplate(\n",
    "    input_variables=[\"topic\", \"difficulty\"],\n",
    "    template=\"\"\"당신은 온라인 교육 전문가입니다.\n",
    "\n",
    "주제: {topic}\n",
    "난이도: {difficulty}\n",
    "\n",
    "위 주제에 대해 온라인 학습에 적합한 내용으로 설명해주세요:\n",
    "1. 핵심 개념\n",
    "2. 실제 적용 사례  \n",
    "3. 학습 팁\n",
    "\n",
    "설명:\"\"\"\n",
    ")\n",
    "\n",
    "# 2. LangchainHub에 업로드\n",
    "# 업로드 예제 코드 (주석처리)\n",
    "# hub.push(\"myusername/online-education-prompt\", custom_prompt)\n",
    "hub.push(\"bear-ohgiraffers/online-education-prompt\", custom_prompt)\n"
   ]
  }
 ],
 "metadata": {
  "kernelspec": {
   "display_name": "Python 3",
   "language": "python",
   "name": "python3"
  },
  "language_info": {
   "codemirror_mode": {
    "name": "ipython",
    "version": 3
   },
   "file_extension": ".py",
   "mimetype": "text/x-python",
   "name": "python",
   "nbconvert_exporter": "python",
   "pygments_lexer": "ipython3",
   "version": "3.11.13"
  }
 },
 "nbformat": 4,
 "nbformat_minor": 5
}
