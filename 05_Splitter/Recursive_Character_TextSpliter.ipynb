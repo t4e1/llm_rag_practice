{
 "cells": [
  {
   "cell_type": "markdown",
   "id": "26ce953e",
   "metadata": {
    "vscode": {
     "languageId": "raw"
    }
   },
   "source": [
    "# Recursive Character Text Splitter\n",
    "`RecursiveCharacterTextSplitter`는  **가장 지능적인** 텍스트 분할 도구입니다.  \n",
    "CharacterTextSplitter의 단일 separator 방식과 달리, **여러 separator를 순차적으로 시도**하여 가장 자연스러운 분할점을 찾습니다.  \n",
    "대부분의 RAG 시스템에서 권장되는 방식입니다\n",
    "### 주요 특징\n",
    "1. **지능적 분할**: 여러 separator를 우선순위에 따라 순차 적용합니다\n",
    "2. **자연스러운 경계**: 문단 → 문장 → 단어 순으로 자연스러운 분할을 수행합니다\n",
    "3. **유연한 설정**: separator 목록을 사용자가 정의 가능합니다\n"
   ]
  },
  {
   "cell_type": "code",
   "execution_count": null,
   "id": "7daa9197",
   "metadata": {},
   "outputs": [],
   "source": [
    "from langchain_community.document_loaders import TextLoader\n",
    "\n",
    "# test.txt 파일의 경로 설정\n",
    "file_path = \"../data/ai.txt\"\n",
    "\n",
    "# TextLoader를 사용하여 텍스트 파일 로드\n",
    "loader = TextLoader(file_path, encoding='utf-8')\n",
    "\n",
    "# 문서 로드\n",
    "document = loader.load()\n",
    "\n",
    "print(f\"로드된 문서 수: {len(document)}\")\n",
    "print(document)"
   ]
  },
  {
   "cell_type": "markdown",
   "id": "527b89ec",
   "metadata": {},
   "source": [
    "## 2. CharacterTextSplitter와의 비교\n",
    "\n",
    "`RecursiveCharacterTextSplitter`의 핵심 차이점을 이해해보겠습니다.\n",
    "\n",
    "### 주요 차이점\n",
    "\n",
    "| 구분 | CharacterTextSplitter | RecursiveCharacterTextSplitter |\n",
    "|------|----------------------|-------------------------------|\n",
    "| **Separator** | 단일 separator | 여러 separator 목록 (우선순위) |\n",
    "| **분할 방식** | 고정된 기준으로 분할 | 적응적으로 최적 기준 선택 |\n",
    "| **자연스러움** | 기계적 분할 | 의미 단위 보존하며 분할 |\n",
    "| **사용 복잡도** | 간단 | 약간 복잡하지만 더 지능적 |\n",
    "| **결과 품질** | 기본적 | 더 자연스럽고 의미 있는 분할 |\n",
    "\n",
    "### Recursive 동작 원리\n",
    "\n",
    "1. **1단계**: 첫 번째 separator(`\"\\n\\n\"`)로 분할 시도\n",
    "2. **2단계**: 청크가 너무 크면 두 번째 separator(`\"\\n\"`)로 재분할\n",
    "3. **3단계**: 여전히 크면 세 번째 separator(`\". \"`)로 재분할\n",
    "4. **4단계**: 마지막으로 네 번째 separator(`\" \"`)로 단어 단위 분할\n",
    "5. **최종**: 모든 separator를 시도해도 크면 강제로 문자 단위 분할\n"
   ]
  },
  {
   "cell_type": "markdown",
   "id": "4492e2c5",
   "metadata": {},
   "source": [
    "**실습** - 눈으로 확인하기위해 chunck_size를 낮게 설정."
   ]
  },
  {
   "cell_type": "code",
   "execution_count": null,
   "id": "cac2e351",
   "metadata": {},
   "outputs": [],
   "source": [
    "from langchain_text_splitters import CharacterTextSplitter\n",
    "\n",
    "character_splitter = CharacterTextSplitter(\n",
    "    separator=\"\\n\",       # 문단 구분만 사용\n",
    "    chunk_size=100,         # 200자 제한\n",
    "    chunk_overlap=20\n",
    ")\n",
    "\n",
    "character_chunks = character_splitter.split_documents(document)\n",
    "\n",
    "print(f\"총 {len(character_chunks)}개 청크 생성\\n\")\n",
    "\n",
    "for i, chunk in enumerate(character_chunks, 1):\n",
    "    chunk_length = len(chunk.page_content)\n",
    "    print(f\"청크 {i} ({chunk_length}자):\")\n",
    "    print(f\"'{chunk.page_content}'\")\n"
   ]
  },
  {
   "cell_type": "markdown",
   "id": "a2fe2152",
   "metadata": {},
   "source": [
    "단일 문단으로 split을 했을때 청크가 너무 길어지거나 너무 많은 문장이 하나의 청크에 섞이는 문제가 발생한다.  \n",
    "이럴때 `RecursiveCharacterTextSplitter`를 사용할 수 있다."
   ]
  },
  {
   "cell_type": "code",
   "execution_count": null,
   "metadata": {},
   "outputs": [],
   "source": [
    "from langchain_text_splitters import RecursiveCharacterTextSplitter\n",
    "\n",
    "recursive_splitter = RecursiveCharacterTextSplitter(\n",
    "    separators=[\"\\n\\n\", \"\\n\", \". \", \" \"],  # 문단 → 줄 → 문장 → 단어 순\n",
    "    chunk_size=100,    \n",
    "    chunk_overlap=20\n",
    ")\n",
    "\n",
    "recursive_chunks = recursive_splitter.split_documents(document)\n",
    "\n",
    "print(f\"총 {len(recursive_chunks)}개 청크 생성\\n\")\n",
    "\n",
    "for i, chunk in enumerate(recursive_chunks, 1):\n",
    "    chunk_length = len(chunk.page_content)\n",
    "    print(f\"청크 {i} ({chunk_length}자):\")\n",
    "    print(f\"'{chunk.page_content}'\")"
   ]
  }
 ],
 "metadata": {
  "kernelspec": {
   "display_name": "Python 3",
   "language": "python",
   "name": "python3"
  },
  "language_info": {
   "codemirror_mode": {
    "name": "ipython",
    "version": 3
   },
   "file_extension": ".py",
   "mimetype": "text/x-python",
   "name": "python",
   "nbconvert_exporter": "python",
   "pygments_lexer": "ipython3",
   "version": "3.11.13"
  }
 },
 "nbformat": 4,
 "nbformat_minor": 5
}
