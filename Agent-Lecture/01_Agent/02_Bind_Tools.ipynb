{
 "cells": [
  {
   "cell_type": "markdown",
   "id": "7af04e1b",
   "metadata": {},
   "source": [
    "# LLM에 도구 바인딩\n",
    "- 우리가 만들거나 기존에 존재하는 tool들을 사용하기 위해서는 LLM 모델에 바인딩하는 과정이 필요합니다.\n",
    "- 두뇌 역할을 하는 LLM에게 사용 할 수 있는 도구들을 쥐어주는 과정이라고 볼 수 있습니다.\n",
    "- LangChain의 `.bind_tools()` 메소드로 LangChain의 도구 객체를 채팅모델에 전달합니다.\n",
    "\n",
    "### 도구바인딩 작동 과정\n",
    "1. 도구정의\n",
    "2. 사용자 요청분석\n",
    "3. 도구 호출 결정\n",
    "4. 실제 도구 실행\n",
    "5. 결과 전달 및 최종 답변 생성"
   ]
  },
  {
   "cell_type": "code",
   "execution_count": 1,
   "id": "3c305976",
   "metadata": {},
   "outputs": [
    {
     "name": "stdout",
     "output_type": "stream",
     "text": [
      "OPENAI_API_KEY가 설정되어 있나요?: sk-proj-WS...\n"
     ]
    }
   ],
   "source": [
    "import os\n",
    "from dotenv import load_dotenv\n",
    "\n",
    "# .env 파일에서 환경변수 로드\n",
    "load_dotenv()\n",
    "\n",
    "# OpenAI API 환경변수 값 확인\n",
    "openai_api_key = os.getenv('OPENAI_API_KEY')\n",
    "print(f\"OPENAI_API_KEY가 설정되어 있나요?: {openai_api_key[:10]}...\")"
   ]
  },
  {
   "cell_type": "markdown",
   "id": "ccec8120",
   "metadata": {},
   "source": [
    "## 바인딩할 도구 만들기\n",
    "- `add_funcition` : 두 수를 더하는 도구\n",
    "- `sub_function` : 두 수를 빼는 도구\n",
    "- `divied_function` : 두 수를 나누는 도구"
   ]
  },
  {
   "cell_type": "code",
   "execution_count": 2,
   "id": "15d4390b",
   "metadata": {},
   "outputs": [],
   "source": [
    "from langchain.tools import tool\n",
    "\n",
    "\n",
    "@tool\n",
    "def count_words(text):\n",
    "    \"\"\"문자열에 포함된 단어의 수를 세는 도구\"\"\"\n",
    "    return len(text.split())\n",
    "\n",
    "    \n",
    "@tool\n",
    "def sub_function(a: int, b: int) -> int:\n",
    "    \"\"\"두 숫자를 뺄셈합니다. 수학적 뺄셈이 필요할 때 사용하세요.\"\"\"\n",
    "    return a - b\n",
    "\n",
    "@tool\n",
    "def divide_function(a: float, b: float) -> float:\n",
    "    \"\"\"두 숫자를 나눕니다. 수학적 나눗셈이 필요할 때 사용하세요. 0으로 나누는 것은 불가능합니다.\"\"\"\n",
    "    if b == 0:\n",
    "        raise ValueError(\"0으로 나눌 수 없습니다\")\n",
    "    return a / b\n",
    "\n",
    "\n",
    "tools = [count_words, sub_function, divide_function]"
   ]
  },
  {
   "cell_type": "markdown",
   "id": "d82eeb6b",
   "metadata": {},
   "source": [
    "bind_tools()로 LLM에 도구 바인딩"
   ]
  },
  {
   "cell_type": "code",
   "execution_count": 3,
   "id": "00dbb888",
   "metadata": {},
   "outputs": [],
   "source": [
    "from langchain.chat_models import init_chat_model\n",
    "\n",
    "# 모델 초기화\n",
    "llm = init_chat_model(\"gpt-4o-mini\", model_provider=\"openai\", temperature=0.5)\n",
    "\n",
    "# 도구 바인딩\n",
    "llm_with_tools = llm.bind_tools(tools)"
   ]
  },
  {
   "cell_type": "code",
   "execution_count": 4,
   "id": "29d95866",
   "metadata": {},
   "outputs": [
    {
     "name": "stdout",
     "output_type": "stream",
     "text": [
      "bound=ChatOpenAI(client=<openai.resources.chat.completions.completions.Completions object at 0x0000025E40E4A1E0>, async_client=<openai.resources.chat.completions.completions.AsyncCompletions object at 0x0000025E40FE6450>, root_client=<openai.OpenAI object at 0x0000025E3F85AD20>, root_async_client=<openai.AsyncOpenAI object at 0x0000025E40B3AC60>, model_name='gpt-4o-mini', temperature=0.5, model_kwargs={}, openai_api_key=SecretStr('**********')) kwargs={'tools': [{'type': 'function', 'function': {'name': 'count_words', 'description': '문자열에 포함된 단어의 수를 세는 도구', 'parameters': {'properties': {'text': {}}, 'required': ['text'], 'type': 'object'}}}, {'type': 'function', 'function': {'name': 'sub_function', 'description': '두 숫자를 뺄셈합니다. 수학적 뺄셈이 필요할 때 사용하세요.', 'parameters': {'properties': {'a': {'type': 'integer'}, 'b': {'type': 'integer'}}, 'required': ['a', 'b'], 'type': 'object'}}}, {'type': 'function', 'function': {'name': 'divide_function', 'description': '두 숫자를 나눕니다. 수학적 나눗셈이 필요할 때 사용하세요. 0으로 나누는 것은 불가능합니다.', 'parameters': {'properties': {'a': {'type': 'number'}, 'b': {'type': 'number'}}, 'required': ['a', 'b'], 'type': 'object'}}}]} config={} config_factories=[]\n"
     ]
    }
   ],
   "source": [
    "print(llm_with_tools)"
   ]
  },
  {
   "cell_type": "markdown",
   "id": "27f1fefb",
   "metadata": {},
   "source": [
    "실행결과를 확인해보면 tools에 우리가 만든 tool의  \n",
    "함수명은 `name`, 설명은 `description`, 매개변수는 `parameters` 으로 들어가 있는것을 확인 할 수 있다."
   ]
  },
  {
   "cell_type": "code",
   "execution_count": 5,
   "id": "46961040",
   "metadata": {},
   "outputs": [],
   "source": [
    "from langchain_core.output_parsers import JsonOutputToolsParser\n",
    "\n",
    "# 출력 파서 설정\n",
    "chain = llm_with_tools | JsonOutputToolsParser()\n",
    "\n",
    "# 실행결과\n",
    "tool_call_results = chain.invoke(\"(10-5)/5 을 단계별로 계산해줘\")"
   ]
  },
  {
   "cell_type": "markdown",
   "id": "f06a5ecc",
   "metadata": {},
   "source": [
    "- type : 도구의 이름\n",
    "- args : 도구에 전달되는 인자"
   ]
  },
  {
   "cell_type": "code",
   "execution_count": 6,
   "id": "8f89edc2",
   "metadata": {},
   "outputs": [
    {
     "name": "stdout",
     "output_type": "stream",
     "text": [
      "[{'args': {'a': 10, 'b': 5}, 'type': 'sub_function'}, {'args': {'a': 5, 'b': 5}, 'type': 'divide_function'}]\n"
     ]
    }
   ],
   "source": [
    "print(tool_call_results)"
   ]
  },
  {
   "cell_type": "code",
   "execution_count": 7,
   "id": "4c26d929",
   "metadata": {},
   "outputs": [
    {
     "name": "stdout",
     "output_type": "stream",
     "text": [
      "도구 sub_function 실행 결과: 5\n",
      "도구 divide_function 실행 결과: 1.0\n"
     ]
    }
   ],
   "source": [
    "def excute_tool_calls(tool_call_results):\n",
    "    for tool_call in tool_call_results:\n",
    "        tool_name = tool_call[\"type\"]\n",
    "        tool_args = tool_call[\"args\"]\n",
    "        \n",
    "        # 도구 이름과 일치하는 도구를 찾기\n",
    "        matching_tool = next((tool for tool in tools if tool.name == tool_name), None)\n",
    "\n",
    "        # 도구가 존재하는 경우\n",
    "        if matching_tool:\n",
    "            # 도구 실행\n",
    "            result = matching_tool.invoke(tool_args) #\n",
    "            # 결과 출력\n",
    "            print(f\"도구 {tool_name} 실행 결과: {result}\")\n",
    "        else:\n",
    "            print(f\"도구 {tool_name}을 찾을 수 없습니다.\")\n",
    "            \n",
    "\n",
    "excute_tool_calls(tool_call_results)"
   ]
  }
 ],
 "metadata": {
  "kernelspec": {
   "display_name": "agentworld",
   "language": "python",
   "name": "python3"
  },
  "language_info": {
   "codemirror_mode": {
    "name": "ipython",
    "version": 3
   },
   "file_extension": ".py",
   "mimetype": "text/x-python",
   "name": "python",
   "nbconvert_exporter": "python",
   "pygments_lexer": "ipython3",
   "version": "3.12.11"
  }
 },
 "nbformat": 4,
 "nbformat_minor": 5
}
