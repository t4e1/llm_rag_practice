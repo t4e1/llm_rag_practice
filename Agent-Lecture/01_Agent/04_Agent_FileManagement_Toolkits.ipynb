{
 "cells": [
  {
   "cell_type": "markdown",
   "id": "997f8437",
   "metadata": {},
   "source": [
    "# Toolkits\n",
    "\n",
    "**툴킷(Toolkits)** 은 특정 사용 사례나 목표를 달성하기 위해 함께 사용되도록 설계된 여러 도구(Tools)들의 묶음입니다.\n",
    "\n",
    "Agent가 복잡한 작업을 수행하려면 단일도구가 아닌 여러 도구의 조합이 필요한 경우가 있는데, 이때 특정 시나리오에 필요한 도구들을 모아놓은 컬렉션"
   ]
  },
  {
   "cell_type": "markdown",
   "id": "6a67e2b4",
   "metadata": {},
   "source": [
    "## File Management Toolkit\n",
    "파일 관리 도구들을 하나로 묶어주는 핵심 클래스입니다. 툴킷을 초기화할 때 몇 가지 중요한 인자를 설정하여 보안과 작동 방식을 제어할 수 있습니다.\n",
    "- `root_dir (루트 디렉토리)`: 에이전트가 파일 작업을 수행할 수 있는 최상위 디렉토리 \n",
    "- `selected_tools (선택적 도구)`: 툴킷에 포함된 여러 도구 중 특정 도구만 선택하여 에이전트에게 부여 가능"
   ]
  },
  {
   "cell_type": "markdown",
   "id": "8caca641",
   "metadata": {},
   "source": [
    "**개별 파일 조작 도구 (Tools)**  \n",
    "FileManagementToolkit 안에는 다음과 같은 구체적인 파일 처리 기능을 수행하는 개별 도구들이 포함되어 있습니다.\n",
    "- `CopyFileTool (파일 복사)`: 지정된 경로의 파일을 다른 경로로 복사합니다.\n",
    "- `DeleteFileTool (파일 삭제)`: 특정 파일을 삭제합니다. 보안상 민감한 기능이므로 신중하게 사용해야 합니다.\n",
    "- `FileSearchTool (파일 검색)`: 특정 디렉토리에서 조건에 맞는 파일을 검색합니다.\n",
    "- `MoveFileTool (파일 이동)`: 파일을 한 위치에서 다른 위치로 이동시킵니다.\n",
    "- `ReadFileTool (파일 읽기)`: 텍스트 파일의 내용을 읽어옵니다.\n",
    "- `WriteFileTool (파일 쓰기)`: 새로운 파일을 생성하거나 기존 파일에 내용을 씁니다.\n",
    "- `ListDirectoryTool (디렉토리 조회)`: 특정 디렉토리 내의 파일과 폴더 목록을 보여줍니다."
   ]
  },
  {
   "cell_type": "markdown",
   "id": "1b650240",
   "metadata": {},
   "source": [
    "docs 폴더를 만들어주세요"
   ]
  },
  {
   "cell_type": "code",
   "execution_count": 1,
   "id": "c69c2bde",
   "metadata": {},
   "outputs": [
    {
     "name": "stdout",
     "output_type": "stream",
     "text": [
      "[파일 관리 도구들]\n",
      "- copy_file: Create a copy of a file in a specified location\n",
      "- file_delete: Delete a file\n",
      "- file_search: Recursively search for files in a subdirectory that match the regex pattern\n",
      "- move_file: Move or rename a file from one location to another\n",
      "- read_file: Read file from disk\n",
      "- write_file: Write file to disk\n",
      "- list_directory: List files and directories in a specified folder\n"
     ]
    }
   ],
   "source": [
    "from langchain_community.agent_toolkits import FileManagementToolkit\n",
    "\n",
    "# 'docs'라는 이름의 디렉토리를 작업 디렉토리로 설정합니다.\n",
    "working_directory = \"docs\"\n",
    "\n",
    "# FileManagementToolkit 객체를 생성합니다. (작업할 디렉토리(root_dir) 설정 필요)\n",
    "toolkit = FileManagementToolkit(root_dir=str(working_directory))\n",
    "\n",
    "# toolkit.get_tools() 메서드를 통해 툴들을 가져올 수 있음\n",
    "# 파일 복사, 검색, 이동, 읽기, 쓰기, 수정, 삭제, 디렉토리 조회 등의 기능을 제공\n",
    "tools = toolkit.get_tools()\n",
    "\n",
    "print(\"[파일 관리 도구들]\")\n",
    "for tool in tools:\n",
    "    print(f\"- {tool.name}: {tool.description}\")"
   ]
  },
  {
   "cell_type": "code",
   "execution_count": 2,
   "id": "56ac4ec7",
   "metadata": {},
   "outputs": [
    {
     "name": "stdout",
     "output_type": "stream",
     "text": [
      "[ReadFileTool(root_dir='docs'), DeleteFileTool(root_dir='docs'), WriteFileTool(root_dir='docs'), ListDirectoryTool(root_dir='docs')]\n"
     ]
    }
   ],
   "source": [
    "active_tools = FileManagementToolkit(\n",
    "    root_dir=str(working_directory),\n",
    "    selected_tools=[\"read_file\", \"file_delete\", \"write_file\", \"list_directory\"]\n",
    "    ).get_tools()\n",
    "\n",
    "print(active_tools)"
   ]
  },
  {
   "cell_type": "code",
   "execution_count": 3,
   "id": "b1e7de0c",
   "metadata": {},
   "outputs": [],
   "source": [
    "# 리스트에서 꺼내기\n",
    "read_file, file_delete, write_file, list_directory = active_tools"
   ]
  },
  {
   "cell_type": "code",
   "execution_count": 7,
   "id": "95375efe",
   "metadata": {},
   "outputs": [
    {
     "data": {
      "text/plain": [
       "'File written successfully to test2.txt.'"
      ]
     },
     "execution_count": 7,
     "metadata": {},
     "output_type": "execute_result"
    }
   ],
   "source": [
    "# 파일 생성\n",
    "write_file.invoke({\"file_path\": \"test2.txt\", \"text\": \"Hello, World! labs!\"})"
   ]
  },
  {
   "cell_type": "code",
   "execution_count": 8,
   "id": "11d7373b",
   "metadata": {},
   "outputs": [
    {
     "data": {
      "text/plain": [
       "'test.txt\\ntest2.txt'"
      ]
     },
     "execution_count": 8,
     "metadata": {},
     "output_type": "execute_result"
    }
   ],
   "source": [
    "# 디렉토리 조회\n",
    "list_directory.invoke({})"
   ]
  },
  {
   "cell_type": "code",
   "execution_count": 9,
   "id": "2aaeef79",
   "metadata": {},
   "outputs": [
    {
     "data": {
      "text/plain": [
       "'Hello, World! labs!'"
      ]
     },
     "execution_count": 9,
     "metadata": {},
     "output_type": "execute_result"
    }
   ],
   "source": [
    "# 파일 읽기\n",
    "read_file.invoke({\"file_path\": \"test.txt\"})"
   ]
  },
  {
   "cell_type": "code",
   "execution_count": 11,
   "id": "d4e98ad2",
   "metadata": {},
   "outputs": [
    {
     "data": {
      "text/plain": [
       "'File deleted successfully: test2.txt.'"
      ]
     },
     "execution_count": 11,
     "metadata": {},
     "output_type": "execute_result"
    }
   ],
   "source": [
    "# 파일 삭제\n",
    "file_delete.invoke({\"file_path\": \"test2.txt\"})\n"
   ]
  },
  {
   "cell_type": "code",
   "execution_count": 12,
   "id": "5a029e0e",
   "metadata": {},
   "outputs": [
    {
     "data": {
      "text/plain": [
       "'No files found in directory .'"
      ]
     },
     "execution_count": 12,
     "metadata": {},
     "output_type": "execute_result"
    }
   ],
   "source": [
    "# 디렉토리 조회\n",
    "list_directory.invoke({})"
   ]
  },
  {
   "cell_type": "markdown",
   "id": "722e6d48",
   "metadata": {},
   "source": [
    "다음의 예제에서는 웹 검색을 통해 찾은 문서를 md파일형태로 저장 할 수 있고,  \n",
    "파일들을 다루는 Agent를 만들어보는 실습을 합니다."
   ]
  },
  {
   "cell_type": "markdown",
   "id": "4a408e6a",
   "metadata": {},
   "source": [
    "환경변수 설정"
   ]
  },
  {
   "cell_type": "code",
   "execution_count": 13,
   "id": "1990910c",
   "metadata": {},
   "outputs": [
    {
     "name": "stdout",
     "output_type": "stream",
     "text": [
      "OPENAI_API_KEY가 설정되어 있나요?: sk-proj-WS...\n"
     ]
    }
   ],
   "source": [
    "import os\n",
    "from dotenv import load_dotenv\n",
    "\n",
    "# .env 파일에서 환경변수 로드\n",
    "load_dotenv()\n",
    "\n",
    "# OpenAI API 환경변수 값 확인\n",
    "openai_api_key = os.getenv('OPENAI_API_KEY')\n",
    "print(f\"OPENAI_API_KEY가 설정되어 있나요?: {openai_api_key[:10]}...\")"
   ]
  },
  {
   "cell_type": "markdown",
   "id": "fdee12b9",
   "metadata": {},
   "source": [
    "**에이전트가 사용할 도구 준비**"
   ]
  },
  {
   "cell_type": "markdown",
   "id": "af024a29",
   "metadata": {},
   "source": [
    "웹검색 도구 정의"
   ]
  },
  {
   "cell_type": "code",
   "execution_count": 14,
   "id": "13572c9c",
   "metadata": {},
   "outputs": [
    {
     "name": "stderr",
     "output_type": "stream",
     "text": [
      "C:\\Users\\jtw57\\AppData\\Local\\Temp\\ipykernel_22224\\1037523343.py:5: LangChainDeprecationWarning: The class `TavilySearchResults` was deprecated in LangChain 0.3.25 and will be removed in 1.0. An updated version of the class exists in the :class:`~langchain-tavily package and should be used instead. To use it run `pip install -U :class:`~langchain-tavily` and import as `from :class:`~langchain_tavily import TavilySearch``.\n",
      "  web_search_tool = TavilySearchResults(\n"
     ]
    }
   ],
   "source": [
    "# Tavily 검색 도구 설정\n",
    "from langchain_community.tools.tavily_search import TavilySearchResults\n",
    "\n",
    "# 검색 도구 생성\n",
    "web_search_tool = TavilySearchResults(\n",
    "    max_results=5,\n",
    "    include_answer=False,\n",
    "    include_raw_content=False,\n",
    "    search_depth=\"advanced\"\n",
    ")"
   ]
  },
  {
   "cell_type": "markdown",
   "id": "6057fad2",
   "metadata": {},
   "source": [
    "파일 관리 툴 추가"
   ]
  },
  {
   "cell_type": "code",
   "execution_count": 15,
   "id": "70b0e0d6",
   "metadata": {},
   "outputs": [],
   "source": [
    "tools = FileManagementToolkit(root_dir=\"docs\").get_tools()"
   ]
  },
  {
   "cell_type": "markdown",
   "id": "0edf5497",
   "metadata": {},
   "source": [
    "툴 리스트에에 웹검색 툴 추가"
   ]
  },
  {
   "cell_type": "code",
   "execution_count": 16,
   "id": "9f7e3520",
   "metadata": {},
   "outputs": [],
   "source": [
    "tools.append(web_search_tool)"
   ]
  },
  {
   "cell_type": "markdown",
   "id": "0cc24293",
   "metadata": {},
   "source": [
    "프롬프트와 llm 준비"
   ]
  },
  {
   "cell_type": "code",
   "execution_count": 17,
   "id": "8866a991",
   "metadata": {},
   "outputs": [],
   "source": [
    "from langchain_core.prompts import ChatPromptTemplate, MessagesPlaceholder\n",
    "from langchain.chat_models import init_chat_model\n",
    "# Agent 프롬프트 생성\n",
    "prompt = ChatPromptTemplate.from_messages(\n",
    "    [\n",
    "        (\n",
    "            \"system\",\n",
    "            \"You are very powerful assistant. \"\n",
    "        ),\n",
    "        (\"user\", \"{input}\"),\n",
    "        MessagesPlaceholder(variable_name=\"agent_scratchpad\"),\n",
    "    ]\n",
    ")\n",
    "\n",
    "llm = init_chat_model(\"gpt-4o-mini\", model_provider=\"openai\")"
   ]
  },
  {
   "cell_type": "markdown",
   "id": "4cf99c1a",
   "metadata": {},
   "source": [
    "Agent 생성"
   ]
  },
  {
   "cell_type": "code",
   "execution_count": 18,
   "id": "37a3b5d3",
   "metadata": {},
   "outputs": [],
   "source": [
    "from langchain.agents import AgentExecutor, create_tool_calling_agent\n",
    "\n",
    "agent = create_tool_calling_agent(llm, tools, prompt)"
   ]
  },
  {
   "cell_type": "markdown",
   "id": "5179309c",
   "metadata": {},
   "source": [
    "Agent Executor 생성"
   ]
  },
  {
   "cell_type": "code",
   "execution_count": 19,
   "id": "90075a48",
   "metadata": {},
   "outputs": [],
   "source": [
    "agent_executor = AgentExecutor(\n",
    "    agent=agent, \n",
    "    tools=tools, \n",
    "    verbose=True, \n",
    "    handle_parsing_errors=True\n",
    ")"
   ]
  },
  {
   "cell_type": "markdown",
   "id": "e9492b7c",
   "metadata": {},
   "source": [
    "에이전트 실행해보기"
   ]
  },
  {
   "cell_type": "code",
   "execution_count": 21,
   "id": "7bda88a3",
   "metadata": {},
   "outputs": [
    {
     "name": "stdout",
     "output_type": "stream",
     "text": [
      "\n",
      "\n",
      "\u001b[1m> Entering new AgentExecutor chain...\u001b[0m\n",
      "\u001b[32;1m\u001b[1;3m\n",
      "Invoking: `tavily_search_results_json` with `{'query': '2025년 9월 18일 서울 날씨'}`\n",
      "\n",
      "\n",
      "\u001b[0m\u001b[33;1m\u001b[1;3m[{'title': '서울의 2025년 9월 날씨: 온도 및 기후 - Climate-Data.org', 'url': 'https://ko.climate-data.org/%EC%95%84%EC%8B%9C%EC%95%84/%EB%8C%80%ED%95%9C%EB%AF%BC%EA%B5%AD/%EC%84%9C%EC%9A%B8-1931/r/9%EC%9B%94-9/', 'content': '| 28. 9월 | 19 °C | 23 °C | 15 °C | 1.0 mm | 0.0 |\\n| 29. 9월 | 18 °C | 22 °C | 15 °C | 6.7 mm | 0.0 |\\n| 30. 9월 | 18 °C | 22 °C | 14 °C | 9.7 mm | 0.0 | [...] | 29. 9월 | 18 °C | 22 °C | 14 °C | 5.8 mm | 8.0 |\\n| 30. 9월 | 18 °C | 22 °C | 13 °C | 10.9 mm | 7.7 | [...] | 19. 9월 | 20 °C | 24 °C | 16 °C | 1.9 mm | 0.0 |\\n| 20. 9월 | 19 °C | 24 °C | 15 °C | 1.8 mm | 0.0 |\\n| 21. 9월 | 18 °C | 22 °C | 14 °C | 10.1 mm | 0.0 |\\n| 22. 9월 | 18 °C | 23 °C | 14 °C | 6.4 mm | 0.0 |\\n| 23. 9월 | 18 °C | 23 °C | 14 °C | 4.1 mm | 0.0 |\\n| 24. 9월 | 19 °C | 23 °C | 14 °C | 2.3 mm | 0.0 |\\n| 25. 9월 | 18 °C | 23 °C | 14 °C | 4.6 mm | 0.0 |\\n| 26. 9월 | 18 °C | 23 °C | 14 °C | 0.9 mm | 0.0 |\\n| 27. 9월 | 18 °C | 23 °C | 14 °C | 1.9 mm | 0.0 |', 'score': 0.8390101}, {'title': '네이버 날씨 - NAVER', 'url': 'https://weather.naver.com/', 'content': '꽃가루는 기관지 천식, 비염, 아토피 피부염 등 알레르기 질환을 유발시키거나 악화시킬 수 있어 주의관찰이 필요합니다. 기온이 20-30℃, 약 2m/s의 약풍에서 강해질 수 있으며, 수목류는 3-5월, 잡초류는 8-10월, 잔디류는 6-8월 주로 발생합니다.\\n\\n  낮음\\n  보통\\n  높음\\n  매우높음\\n\\n 보통\\n\\n  자외선지수\\n 높음\\n\\n  대기정체지수\\n 높음\\n\\n  감기지수\\n 경고\\n\\n  식중독지수\\n 경고\\n\\n  천식질환지수\\n 관심\\n\\n  심뇌혈관질환지수\\n 높음\\n\\n  꽃가루농도지수 잡초류\\n\\n기상청, \\n국민건강보험공단\\n발표,\\n웨더아이\\n제공\\n2025.09.14. 18:00 업데이트\\n\\n## 자세히 보기\\n\\n## 위성영상 자세히 보기\\n\\n 30도 이상\\n 20도 ~ 30도\\n 10도 ~ 20도\\n 0도 ~ 10도\\n -10도 ~ 0도\\n -10도 이하\\n\\n 1mm 이하\\n 5mm 이하\\n 10mm 이하\\n 20mm 이하\\n 50mm 이하\\n 50mm 이상 [...] 북태평양과 북대서양의 높은 해수면온도로 인해 우리나라 부근에 고기압성 순환이 강화되어 기온이 상승하고 강수량이 증가할 가능성이 있겠습니다. (월평균기온) 평년(20.2~20.8℃)보다 높을 확률이 60%입니다. (월강수량) 평년(84.2~202.3㎜)보다 많을 확률이 50%입니다.\\n\\n기상청발표,웨더아이제공\\n\\n## 과거날씨날씨아이콘\\n\\n 2025년\\n 09월\\n\\n과거날씨 달력. 요일 및 날짜별 날씨, 최고&최저 기온 정보 [...] 최저기온23°\\n  /\\n  최고기온26°\\n 목\\n  9.18.\\n\\n  오전\\n  강수확률20%\\n  구름많음\\n\\n  흐림\\n  오후\\n  강수확률30%\\n\\n  최저기온17°\\n  /\\n  최고기온27°\\n 금\\n  9.19.\\n\\n  오전\\n  강수확률30%\\n  구름많음\\n\\n  흐림\\n  오후\\n  강수확률40%\\n\\n  최저기온19°\\n  /\\n  최고기온24°\\n 토\\n  9.20.\\n\\n  오전\\n  강수확률40%\\n  흐림\\n\\n  구름많음\\n  오후\\n  강수확률20%\\n\\n  최저기온18°\\n  /\\n  최고기온26°\\n 일\\n  9.21.\\n\\n  오전\\n  강수확률30%\\n  구름많음\\n\\n  흐림\\n  오후\\n  강수확률40%\\n\\n  최저기온19°\\n  /\\n  최고기온27°\\n 월\\n  9.22.\\n\\n  오전\\n  강수확률40%\\n  흐림\\n\\n  흐림\\n  오후\\n  강수확률40%\\n\\n  최저기온19°\\n  /\\n  최고기온26°\\n 화\\n  9.23.\\n\\n  오전\\n  강수확률40%\\n  흐림\\n\\n  흐림\\n  오후\\n  강수확률40%', 'score': 0.7568076}, {'title': '대한민국의 2025년 9월 날씨: 온도 및 기후', 'url': 'https://ko.climate-data.org/%EC%95%84%EC%8B%9C%EC%95%84/%EB%8C%80%ED%95%9C%EB%AF%BC%EA%B5%AD-23/c/9%EC%9B%94-9/', 'content': '| 29. 9월 | 19 °C | 23 °C | 15 °C | 6.3 mm | 8.7 |\\n| 30. 9월 | 18 °C | 23 °C | 14 °C | 9.5 mm | 7.9 | [...] | 29. 9월 | 19 °C | 23 °C | 15 °C | 0.0 mm | 7.8 |\\n| 30. 9월 | 18 °C | 23 °C | 15 °C | 0.0 mm | 7.3 | [...] | 9. 9월 | 22 °C | 26 °C | 18 °C | 4.0 mm | 8.6 |\\n| 10. 9월 | 22 °C | 26 °C | 18 °C | 5.7 mm | 8.7 |\\n| 11. 9월 | 22 °C | 26 °C | 18 °C | 5.0 mm | 7.7 |\\n| 12. 9월 | 22 °C | 26 °C | 18 °C | 4.6 mm | 8.2 |\\n| 13. 9월 | 22 °C | 26 °C | 18 °C | 3.1 mm | 8.4 |\\n| 14. 9월 | 21 °C | 26 °C | 18 °C | 3.6 mm | 7.9 |\\n| 15. 9월 | 21 °C | 26 °C | 17 °C | 4.4 mm | 8.2 |\\n| 16. 9월 | 21 °C | 26 °C | 18 °C | 5.6 mm | 8.8 |\\n| 17. 9월 | 21 °C | 25 °C | 17 °C | 6.4 mm | 8.4 |\\n| 18. 9월 | 21 °C | 25 °C | 17 °C | 8.5 mm | 7.6 |', 'score': 0.7467494}, {'title': '서울 실시간 날씨 정보 | 서울 공식 관광정보 웹사이트', 'url': 'https://korean.visitseoul.net/weather', 'content': '| 항목 | 오늘예보 | 내일예보 | 모레예보 |\\n| 미세먼지 (PM10) | 좋음 | 좋음 | 좋음 |\\n| 초미세먼지 (PM2.5) | 좋음 | 좋음 | 좋음 |\\n\\n#### 주간예보\\n\\n주간예보 표 : 항목별 날짜, 날씨, 최저/최고기온(℃)\\n\\n| 항목 | 2025-09-12 | 2025-09-13 | 2025-09-14 | 2025-09-15 | 2025-09-16 |\\n| 날씨 | 흐리고 비 | 흐리고 가끔 비 | 구름많음 | 구름많음 | 흐림 |\\n| 최저/최고기온 (℃) | 21℃ / 0℃ | 21℃ / 27℃ | 21℃ / 29℃ | 22℃ / 30℃ | 22℃ / 29℃ |\\n\\n제공 : 케이웨더(Kweather) [...] 찜하기는 관심 있는 여행 정보를 저장하여\\n서울의 주요 지역별로 탐색할 수 있는 기능입니다.\\n\\n나의 찜한 목록 바로가기\\n\\n서울의 날씨\\n\\n홈\\n>\\n\\n여행정보\\n>\\n\\n서울의 날씨\\n\\n서울의 날씨\\n\\n#### 3일 예보\\n\\n3일 예보 표 : 항목별(오늘, 내일, 모레) 날짜, 날씨, 최저/최고기온(℃), 강수확률\\n\\n| 항목 | 오늘 : 2025-09-12 | 내일 : 2025-09-13 | 모레 : 2025-09-14 |\\n| 날씨 | 흐리고 비 | 흐리고 가끔 비 | 구름많음 |\\n| 최저/최고기온 (℃) | 21℃ / 0℃ | 21℃ / 27℃ | 21℃ / 29℃ |\\n| 강수확률 | 20% / 60% | 80% / 80% \\n\\n#### 대기오염 상세\\n\\n대기오염 상세 표 : 항목(오늘예보, 내일예보, 모레예보), 미세먼지(PM10), 초미세먼지(PM2.5)', 'score': 0.7173491}, {'title': '다음날씨 | 동네날씨', 'url': 'https://weather.daum.net/', 'content': '바람(단위:m/s)서 서 2\\n\\n습도(단위:%)70\\n\\n산책지수좋음 좋음\\n\\n시간21시\\n\\n날씨 및 온도맑음 맑음기온28°\\n\\n강수확률(단위:%)0\\n\\n강수량(단위:mm)0\\n\\n바람(단위:m/s)북서 북서 2\\n\\n습도(단위:%)65\\n\\n산책지수좋음 좋음\\n\\n시간22시\\n\\n날씨 및 온도맑음 맑음기온28°\\n\\n강수확률(단위:%)0\\n\\n강수량(단위:mm)0\\n\\n바람(단위:m/s)북서 북서 2\\n\\n습도(단위:%)60\\n\\n산책지수좋음 좋음\\n\\n시간23시\\n\\n날씨 및 온도맑음 맑음기온29°\\n\\n강수확률(단위:%)0\\n\\n강수량(단위:mm)0\\n\\n바람(단위:m/s)북서 북서 3\\n\\n습도(단위:%)60\\n\\n산책지수좋음 좋음\\n\\n시간모레\\n\\n날씨 및 온도맑음 맑음기온29°\\n\\n강수확률(단위:%)0\\n\\n강수량(단위:mm)0\\n\\n바람(단위:m/s)북서 북서 3\\n\\n습도(단위:%)55\\n\\n산책지수좋음 좋음\\n\\n다음\\n\\n제공:케이웨더2025.9.14. 01:00 기준\\n\\nImage 1Image 2Image 3반려견 산책 지수\\n\\n청운효자동 주간예보\\n\\n도움말 [...] 새로운 기사 현재 페이지 _1_/전체 페이지 7\\n\\n경복궁역 CCTV\\n\\n도움말\\n\\n실제 상황과 5~10분 정도 차이가 날 수 있습니다.\\n\\n도움말 팝업 닫기\\n\\n독립문 CCTV 보기 광화문 CCTV 보기\\n\\n제공:경찰청(UTIC) \\n\\n청운효자동 대기정보\\n\\n미세먼지\\n\\n초미세먼지\\n\\n황사\\n\\n오존\\n\\n다음 탭\\n\\n미세먼지\\n\\n현재 좋음 3㎍/㎥\\n\\n대기 정보 범례\\n   좋음\\n   보통\\n   나쁨\\n   매우\\n\\n   현재\\n\\n01시좋음 3\\n   오늘\\n\\n오전좋음\\n   오늘\\n\\n오후좋음\\n   내일\\n\\n오전좋음\\n   내일\\n\\n오후좋음\\n   모레\\n\\n오전좋음\\n   모레\\n\\n오후보통\\n\\n출처:한국환경공단제공:케이웨더2025.9.14. 01:00 기준\\n\\n투데이 버블 beta\\n\\n   반중 집회 명동_사회_\\n   이대형 나지완 최강야구_예능_\\n   Image 9손예진 박찬욱_연예_\\n   Image 10박민우 허리 통증_야구_\\n\\n새로운 키워드 현재 페이지 _1_/전체 페이지 5\\n\\n알림 전체목록 보기\\n\\n일출/일몰 [...] 일몰까지 10:33 남았습니다.\\n\\n_오늘_\\n\\n일출 15:12\\n\\n일몰 03:44\\n\\n_내일_\\n\\n일출 15:12\\n\\n일몰 03:43\\n\\n제공:아큐웨더2025.9.13. 04:25 업데이트\\n\\n월출/월몰\\n\\n하현망간의 달 오늘은 음력 7.22. 입니다.\\n\\n_오늘_\\n\\n월출 21:56\\n\\n월몰 13:43\\n\\n_내일_\\n\\n월출 22:50\\n\\n월몰 14:46\\n\\n제공:아큐웨더2025.9.13. 04:25 업데이트\\n\\n종로구 9월 축제/전시\\n\\n도움말\\n\\n축제 정보는 제공처의 사정에 따라 변경될 수 있습니다.\\n\\n도움말 팝업 닫기\\n\\n   Image 11: 서울아트굿즈페스티벌 2025(새창열림)서울아트굿즈페스티벌 2025 진행중장소 세종문화회관 야외공간 일대 기간 25.9.13. ~ 25.9.14.  자세히 보기 (새창열림) \\n\\n현재페이지 1/전체페이지 45\\n\\n이전 다음\\n\\n  \\n\\n   로그인\\n   공지사항\\n   고객센터\\n   서비스 약관/정책', 'score': 0.69795954}]\u001b[0m\u001b[32;1m\u001b[1;3m\n",
      "Invoking: `write_file` with `{'file_path': 'seoul_weather_20250918.txt', 'text': '서울 날씨 정보 (2025년 9월 18일)\\n\\n- 기온: 최저 21°C / 최고 25°C\\n- 강수 확률: 20% (오전) / 30% (오후)\\n- 날씨: 구름 많음\\n\\n날씨 정보 출처: 네이버 날씨 (https://weather.naver.com/)', 'append': False}`\n",
      "\n",
      "\n",
      "\u001b[0m\u001b[38;5;200m\u001b[1;3mFile written successfully to seoul_weather_20250918.txt.\u001b[0m\u001b[32;1m\u001b[1;3m2025년 9월 18일 서울의 날씨 정보가 파일에 저장되었습니다. 파일 이름은 `seoul_weather_20250918.txt`입니다.\u001b[0m\n",
      "\n",
      "\u001b[1m> Finished chain.\u001b[0m\n",
      "2025년 9월 18일 서울의 날씨 정보가 파일에 저장되었습니다. 파일 이름은 `seoul_weather_20250918.txt`입니다.\n"
     ]
    }
   ],
   "source": [
    "query = \"내일(2025년 9월 18일) 서울 날씨를 검색하고 날씨 정보를 파일로 저장해줘\"\n",
    "result = agent_executor.invoke({\"input\": query})\n",
    "print(result[\"output\"])"
   ]
  },
  {
   "cell_type": "code",
   "execution_count": 23,
   "id": "eb4aa736",
   "metadata": {},
   "outputs": [
    {
     "name": "stdout",
     "output_type": "stream",
     "text": [
      "\n",
      "\n",
      "\u001b[1m> Entering new AgentExecutor chain...\u001b[0m\n",
      "\u001b[32;1m\u001b[1;3m\n",
      "Invoking: `file_search` with `{'pattern': 'seoul_weather_20250918.txt'}`\n",
      "\n",
      "\n",
      "\u001b[0m\u001b[38;5;200m\u001b[1;3mseoul_weather_20250918.txt\u001b[0m\u001b[32;1m\u001b[1;3m\n",
      "Invoking: `read_file` with `{'file_path': 'seoul_weather_20250918.txt'}`\n",
      "\n",
      "\n",
      "\u001b[0m\u001b[33;1m\u001b[1;3m서울 날씨 정보 (2025년 9월 18일)\n",
      "\n",
      "- 기온: 최저 21°C / 최고 25°C\n",
      "- 강수 확률: 20% (오전) / 30% (오후)\n",
      "- 날씨: 구름 많음\n",
      "\n",
      "날씨 정보 출처: 네이버 날씨 (https://weather.naver.com/)\u001b[0m\u001b[32;1m\u001b[1;3m다음은 2025년 9월 18일의 서울 날씨 정보입니다:\n",
      "\n",
      "- 기온: 최저 21°C / 최고 25°C\n",
      "- 강수 확률: 20% (오전) / 30% (오후)\n",
      "- 날씨: 구름 많음\n",
      "\n",
      "날씨 정보 출처: [네이버 날씨](https://weather.naver.com/)\u001b[0m\n",
      "\n",
      "\u001b[1m> Finished chain.\u001b[0m\n",
      "다음은 2025년 9월 18일의 서울 날씨 정보입니다:\n",
      "\n",
      "- 기온: 최저 21°C / 최고 25°C\n",
      "- 강수 확률: 20% (오전) / 30% (오후)\n",
      "- 날씨: 구름 많음\n",
      "\n",
      "날씨 정보 출처: [네이버 날씨](https://weather.naver.com/)\n"
     ]
    }
   ],
   "source": [
    "query = \"seoul_weather_20250918.txt 파일을 찾아서 읽어줘\"\n",
    "result = agent_executor.invoke({\"input\": query})\n",
    "print(result[\"output\"])"
   ]
  }
 ],
 "metadata": {
  "kernelspec": {
   "display_name": "agentworld",
   "language": "python",
   "name": "python3"
  },
  "language_info": {
   "codemirror_mode": {
    "name": "ipython",
    "version": 3
   },
   "file_extension": ".py",
   "mimetype": "text/x-python",
   "name": "python",
   "nbconvert_exporter": "python",
   "pygments_lexer": "ipython3",
   "version": "3.12.11"
  }
 },
 "nbformat": 4,
 "nbformat_minor": 5
}
