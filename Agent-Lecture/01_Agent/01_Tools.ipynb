{
 "cells": [
  {
   "cell_type": "markdown",
   "metadata": {},
   "source": [
    "# 도구 (Tools)\n",
    "\n",
    "LangChain에서의 **Tool(도구)** 는 언어 모델(LLM)이 외부 세계와 상호작용할 수 있도록 연결해주는 인터페이스입니다.\n",
    "LLM이 단순히 텍스트만 생성하는 것을 넘어 실제적인 작업을 수행할 수 있게 만드는 기능의 단위입니다.  \n",
    "\n",
    "**핵심역할**\n",
    "- 기능확장 : 검색 엔진 사용, 계산기, 데이터베이스 조회, API 호출 등 LLM 자체의 능력을 넘어서는 작업 가능"
   ]
  },
  {
   "cell_type": "markdown",
   "metadata": {},
   "source": [
    "### Tool의 핵심 구조\n",
    "**name (이름)**\n",
    "\n",
    "- Tool을 식별하는 고유한 이름입니다.\n",
    "- LLM이 사용할 Tool을 선택할 때 이 이름을 사용합니다.\n",
    "예: google-search, calculator, database-lookup\n",
    "\n",
    "**description (설명)**\n",
    "\n",
    "- 가장 중요한 요소로, 이 Tool이 무엇을 하는지, 언제 사용해야 하는지를 자연어로 상세하게 설명합니다.\n",
    "- LLM은 이 설명을 보고 사용자의 질문 의도에 가장 적합한 Tool을 판단합니다. \n",
    "- 설명이 명확하고 구체적일수록 LLM이 Tool을 더 정확하게 선택할 수 있습니다.\n",
    "예: \"최신 정보를 검색해야 할 때 사용합니다. 구글 검색 엔진을 통해 웹에서 실시간 정보를 가져옵니다.\"\n",
    "\n",
    "**args_schema (입력 스키마)**\n",
    "\n",
    "- Tool을 실행하는 데 필요한 입력값(인자)의 종류와 형식을 정의합니다.\n",
    "- Pydantic 모델을 사용하여 정의하며, 이를 통해 LLM은 어떤 정보를 어떤 형태로 Tool에 전달해야 하는지 알 수 있습니다.\n",
    "예를 들어, 검색 Tool이라면 query라는 이름의 문자열(string) 타입 입력값이 필요하다고 정의할 수 있습니다.\n",
    "\n",
    "\n",
    "\n",
    "### 실제 Agent 동작 방식\n",
    "이 세 가지 요소를 바탕으로 LLM은 다음과 같이 작동합니다.\n",
    "1. Tool 선택:  \n",
    "- 사용자의 질문이 들어오면, LLM은 자신이 사용할 수 있는 모든 Tool의 **description**을 살펴보고 가장 적절한 Tool의 **name**을 선택합니다.\n",
    "2. 입력값 추출:  \n",
    "- 선택한 Tool의 **args_schema**를 보고, 사용자의 질문에서 필요한 입력값을 추출하여 형식에 맞게 정리합니다.\n",
    "3. Tool 호출 요청:  \n",
    "- 최종적으로 **{\"tool\": \"선택한_tool_이름\", \"tool_input\": {\"인자_이름\": \"추출한_값\"}}**과 같은 형식의 JSON 객체를 생성하여 반환합니다"
   ]
  },
  {
   "cell_type": "markdown",
   "metadata": {},
   "source": [
    "## 사용자 정의 도구(Custom Tool)\n",
    "\n",
    "커스텀 도구란, 사용자가 특정 목적을 위해 직접 정의한 기능을 LangChain 에이전트가 활용할 수 있도록 만든 도구를 의미합니다.\n",
    "**내가 만든 파이썬 함수를 LLM(거대 언어 모델)이 이해하고 사용할 수 있는 형태로 포장가능**\n",
    "\n",
    "### @tool 데코레이터\n",
    "- 커스텀 도구를 만드는 가장 일반적이고 쉬운 방법은 @tool 데코레이터(decorator)를 사용하는 것입니다.\n",
    "\n",
    "**사용 방법**\n",
    "1. langchain_core.tools 라이브러리에서 tool을 가져옵니다.\n",
    "2. 도구로 만들고 싶은 함수 위에 @tool을 붙여줍니다.\n",
    "3. 함수의 docstring(독스트링, 설명 부분)에 도구의 설명을 명확하게 작성합니다.  \n",
    "(이 설명은 LLM이 언제 이 도구를 사용해야 할지 판단하는 매우 중요한 기준이 됩니다.)"
   ]
  },
  {
   "cell_type": "code",
   "execution_count": null,
   "metadata": {},
   "outputs": [],
   "source": [
    "import os\n",
    "from dotenv import load_dotenv\n",
    "\n",
    "# .env 파일에서 환경변수 로드\n",
    "load_dotenv()\n",
    "\n",
    "# OpenAI API 환경변수 값 확인\n",
    "openai_api_key = os.getenv('OPENAI_API_KEY')\n",
    "print(f\"OPENAI_API_KEY가 설정되어 있나요?: {openai_api_key[:10]}...\")"
   ]
  },
  {
   "cell_type": "code",
   "execution_count": null,
   "metadata": {},
   "outputs": [],
   "source": [
    "from langchain.tools import tool\n",
    "\n",
    "# 데코레이터를 통해 함수를 도구로 변환\n",
    "@tool\n",
    "def add_numbers(a: int, b: int) -> int: # input 정의\n",
    "    \"\"\"두 숫자를 더합니다.\"\"\"\n",
    "\n",
    "    return a + b # output 정의\n",
    "\n",
    "@tool\n",
    "def multiply_numbers(a: int, b: int) -> int:\n",
    "    \"\"\"두 숫자를 곱합니다.\"\"\"\n",
    "\n",
    "    return a * b"
   ]
  },
  {
   "cell_type": "code",
   "execution_count": null,
   "metadata": {},
   "outputs": [],
   "source": [
    "add_numbers.invoke({\"a\":10, \"b\":20})"
   ]
  },
  {
   "cell_type": "code",
   "execution_count": null,
   "metadata": {},
   "outputs": [],
   "source": [
    "multiply_numbers.invoke({\"a\":10, \"b\":20})"
   ]
  },
  {
   "cell_type": "markdown",
   "metadata": {},
   "source": [
    "**사용 예시**\n",
    "- 사내 데이터베이스 조회: 우리 회사 고객 정보를 조회하는 함수를 만들어 에이전트에게 제공\n",
    "- 특정 API 연동: 환율 정보를 실시간으로 가져오는 API를 호출하는 도구 제작\n",
    "- 복잡한 연산 수행: 특정 비즈니스 로직에 따른 복잡한 계산을 수행하는 함수를 도구화"
   ]
  },
  {
   "cell_type": "markdown",
   "metadata": {},
   "source": [
    "## 랭체인에서 제공하는 자체 built-in-tools\n",
    "\n",
    "LangChain은 다양한 작업을 위해 즉시 사용할 수 있는 여러 자체 도구(built-in tools)를 제공합니다.\n",
    "\n",
    "- 정보검색 : Tavily Search, DuckDuckgoSearch, ..   \n",
    "- 코드실행 : REPL Tool, ..   \n",
    "- API연동 : Requests Tools, OpenWeatherMap, ..  \n",
    "- Database : SQLDatabase Toolkit, ..  \n",
    "\n",
    "\n",
    "**참고**\n",
    "- [LangChain Tools/Toolkits](https://python.langchain.com/docs/integrations/tools/)"
   ]
  },
  {
   "cell_type": "markdown",
   "metadata": {},
   "source": [
    "### Tavily\n",
    "Tavily는 일반 사용자가 아닌 AI 에이전트 전용으로 설계된 검색 엔진입니다.  \n",
    "AI가 웹상의 최신 정보나 전문 지식을 실시간으로 찾아 활용할 수 있도록 돕습니다\n",
    "\n",
    "**API 키 발급 주소**\n",
    "- https://app.tavily.com/\n",
    "\n",
    "발급한 API 키를 환경변수에 설정합니다.\n",
    "\n",
    "`.env` 파일에 아래와 같이 설정합니다.\n",
    "\n",
    "```\n",
    "TAVILY_API_KEY=tvly-[API KEY 입력...]\n",
    "```"
   ]
  },
  {
   "cell_type": "markdown",
   "metadata": {},
   "source": [
    "\n",
    "### TavilySearchResults\n",
    "\n",
    "**설명**\n",
    "- Tavily 검색 API를 쿼리하고 JSON 형식의 결과를 반환합니다.\n",
    "- 포괄적이고 정확하며 신뢰할 수 있는 결과에 최적화된 검색 엔진입니다.\n",
    "- 현재 이벤트에 대한 질문에 답변할 때 유용합니다.\n",
    "\n",
    "**주요 매개변수**\n",
    "- max_results: 검색 결과 수 지정 (기본값: 5)\n",
    "- search_depth: 검색 깊이 조절 (\"basic\" 또는 \"advanced\")\n",
    "- include_answer : 검색결과에 Tavily의 요약정보를 포함할지 결정정 (기본값 True)\n",
    "- include_images : 검색결과에 이미지를 포함할지 결정\n",
    "- include_row_content : 원본텍스트결과를 전체에 포함할지 결정 (True로하면 매우길수있음) (기본값 : False)\n",
    "- include_domains: 특정 도메인으로 검색 범위 제한\n",
    "- exclude_domains: 특정 도메인을 검색에서 제외\n",
    "\n",
    "**반환 값**\n",
    "- 검색 결과를 포함하는 JSON 형식의 문자열(url, content)"
   ]
  },
  {
   "cell_type": "code",
   "execution_count": null,
   "metadata": {},
   "outputs": [],
   "source": [
    "%pip install langchain_community"
   ]
  },
  {
   "cell_type": "code",
   "execution_count": null,
   "metadata": {},
   "outputs": [],
   "source": [
    "from langchain_community.tools.tavily_search import TavilySearchResults\n",
    "\n",
    "# 도구 생성\n",
    "tool = TavilySearchResults(\n",
    "    max_results=3, #관련성 높은 3개만 참조\n",
    "    include_answer=False, # 요약정보 미포함\n",
    "    include_raw_content=True, # 원본정보 포함\n",
    "    include_images=True, # 이미지 포함\n",
    "    search_depth=\"advanced\", # or \"basic\" # 심층탐색\n",
    "    include_domains=[\"naver.com\"], #naver.com에서만 찾기\n",
    "    exclude_domains = []\n",
    ")"
   ]
  },
  {
   "cell_type": "code",
   "execution_count": null,
   "metadata": {},
   "outputs": [],
   "source": [
    "# 도구 실행\n",
    "tool.invoke({\"query\": \"AI Agent에 대해 알려주세요\"})"
   ]
  },
  {
   "cell_type": "markdown",
   "metadata": {},
   "source": [
    "### Python REPL 도구\n",
    "\n",
    " LangChain 에이전트에게 파이썬 코드를 실시간으로 실행할 수 있는 능력을 부여하는 도구\n",
    "- PythonREPLTool\n",
    "\n",
    "**설명**\n",
    "- Python 셸 환경을 제공합니다.\n",
    "- 유효한 Python 명령어를 입력으로 받아 실행합니다.\n",
    "- 결과를 보려면 print(...) 함수를 사용해야 합니다.\n",
    "\n",
    "**주요 특징**\n",
    "- 높은 유연성:  \n",
    "전용 도구가 없는 새로운 유형의 요청이나 복잡한 문제에 직면했을 때, 즉석에서 코드를 생성하여 대응할 수 있습니다.  \n",
    "- 복잡한 연산 및 로직 처리:  \n",
    "단순 계산기를 넘어선 다단계 계산, 데이터 정렬, 조건부 필터링, 반복문 등 복잡한 프로그래밍 로직을 수행할 수 있습니다.\n",
    "- 라이브러리 활용:  \n",
    "실행 환경에 `NumPy`, `Pandas`와 같은 데이터 과학 라이브러리가 설치되어 있다면, 에이전트가 이를 `import`하여 분석작업 가능\n",
    "\n",
    "**사용 방법**\n",
    "- PythonREPLTool 인스턴스 생성\n",
    "- run 또는 arun, invoke 메서드를 사용하여 Python 코드 실행"
   ]
  },
  {
   "cell_type": "code",
   "execution_count": 1,
   "metadata": {},
   "outputs": [
    {
     "name": "stdout",
     "output_type": "stream",
     "text": [
      "Collecting langchain_experimental\n",
      "  Downloading langchain_experimental-0.3.4-py3-none-any.whl.metadata (1.7 kB)\n",
      "Requirement already satisfied: langchain-community<0.4.0,>=0.3.0 in c:\\users\\jtw57\\miniforge3\\envs\\agentworld\\lib\\site-packages (from langchain_experimental) (0.3.29)\n",
      "Requirement already satisfied: langchain-core<0.4.0,>=0.3.28 in c:\\users\\jtw57\\miniforge3\\envs\\agentworld\\lib\\site-packages (from langchain_experimental) (0.3.76)\n",
      "Requirement already satisfied: langchain<2.0.0,>=0.3.27 in c:\\users\\jtw57\\miniforge3\\envs\\agentworld\\lib\\site-packages (from langchain-community<0.4.0,>=0.3.0->langchain_experimental) (0.3.27)\n",
      "Requirement already satisfied: SQLAlchemy<3,>=1.4 in c:\\users\\jtw57\\miniforge3\\envs\\agentworld\\lib\\site-packages (from langchain-community<0.4.0,>=0.3.0->langchain_experimental) (2.0.43)\n",
      "Requirement already satisfied: requests<3,>=2.32.5 in c:\\users\\jtw57\\miniforge3\\envs\\agentworld\\lib\\site-packages (from langchain-community<0.4.0,>=0.3.0->langchain_experimental) (2.32.5)\n",
      "Requirement already satisfied: PyYAML>=5.3 in c:\\users\\jtw57\\miniforge3\\envs\\agentworld\\lib\\site-packages (from langchain-community<0.4.0,>=0.3.0->langchain_experimental) (6.0.2)\n",
      "Requirement already satisfied: aiohttp<4.0.0,>=3.8.3 in c:\\users\\jtw57\\miniforge3\\envs\\agentworld\\lib\\site-packages (from langchain-community<0.4.0,>=0.3.0->langchain_experimental) (3.12.15)\n",
      "Requirement already satisfied: tenacity!=8.4.0,<10,>=8.1.0 in c:\\users\\jtw57\\miniforge3\\envs\\agentworld\\lib\\site-packages (from langchain-community<0.4.0,>=0.3.0->langchain_experimental) (9.1.2)\n",
      "Requirement already satisfied: dataclasses-json<0.7,>=0.6.7 in c:\\users\\jtw57\\miniforge3\\envs\\agentworld\\lib\\site-packages (from langchain-community<0.4.0,>=0.3.0->langchain_experimental) (0.6.7)\n",
      "Requirement already satisfied: pydantic-settings<3.0.0,>=2.10.1 in c:\\users\\jtw57\\miniforge3\\envs\\agentworld\\lib\\site-packages (from langchain-community<0.4.0,>=0.3.0->langchain_experimental) (2.10.1)\n",
      "Requirement already satisfied: langsmith>=0.1.125 in c:\\users\\jtw57\\miniforge3\\envs\\agentworld\\lib\\site-packages (from langchain-community<0.4.0,>=0.3.0->langchain_experimental) (0.4.28)\n",
      "Requirement already satisfied: httpx-sse<1.0.0,>=0.4.0 in c:\\users\\jtw57\\miniforge3\\envs\\agentworld\\lib\\site-packages (from langchain-community<0.4.0,>=0.3.0->langchain_experimental) (0.4.1)\n",
      "Requirement already satisfied: numpy>=1.26.2 in c:\\users\\jtw57\\miniforge3\\envs\\agentworld\\lib\\site-packages (from langchain-community<0.4.0,>=0.3.0->langchain_experimental) (2.3.3)\n",
      "Requirement already satisfied: aiohappyeyeballs>=2.5.0 in c:\\users\\jtw57\\miniforge3\\envs\\agentworld\\lib\\site-packages (from aiohttp<4.0.0,>=3.8.3->langchain-community<0.4.0,>=0.3.0->langchain_experimental) (2.6.1)\n",
      "Requirement already satisfied: aiosignal>=1.4.0 in c:\\users\\jtw57\\miniforge3\\envs\\agentworld\\lib\\site-packages (from aiohttp<4.0.0,>=3.8.3->langchain-community<0.4.0,>=0.3.0->langchain_experimental) (1.4.0)\n",
      "Requirement already satisfied: attrs>=17.3.0 in c:\\users\\jtw57\\miniforge3\\envs\\agentworld\\lib\\site-packages (from aiohttp<4.0.0,>=3.8.3->langchain-community<0.4.0,>=0.3.0->langchain_experimental) (25.3.0)\n",
      "Requirement already satisfied: frozenlist>=1.1.1 in c:\\users\\jtw57\\miniforge3\\envs\\agentworld\\lib\\site-packages (from aiohttp<4.0.0,>=3.8.3->langchain-community<0.4.0,>=0.3.0->langchain_experimental) (1.7.0)\n",
      "Requirement already satisfied: multidict<7.0,>=4.5 in c:\\users\\jtw57\\miniforge3\\envs\\agentworld\\lib\\site-packages (from aiohttp<4.0.0,>=3.8.3->langchain-community<0.4.0,>=0.3.0->langchain_experimental) (6.6.4)\n",
      "Requirement already satisfied: propcache>=0.2.0 in c:\\users\\jtw57\\miniforge3\\envs\\agentworld\\lib\\site-packages (from aiohttp<4.0.0,>=3.8.3->langchain-community<0.4.0,>=0.3.0->langchain_experimental) (0.3.2)\n",
      "Requirement already satisfied: yarl<2.0,>=1.17.0 in c:\\users\\jtw57\\miniforge3\\envs\\agentworld\\lib\\site-packages (from aiohttp<4.0.0,>=3.8.3->langchain-community<0.4.0,>=0.3.0->langchain_experimental) (1.20.1)\n",
      "Requirement already satisfied: marshmallow<4.0.0,>=3.18.0 in c:\\users\\jtw57\\miniforge3\\envs\\agentworld\\lib\\site-packages (from dataclasses-json<0.7,>=0.6.7->langchain-community<0.4.0,>=0.3.0->langchain_experimental) (3.26.1)\n",
      "Requirement already satisfied: typing-inspect<1,>=0.4.0 in c:\\users\\jtw57\\miniforge3\\envs\\agentworld\\lib\\site-packages (from dataclasses-json<0.7,>=0.6.7->langchain-community<0.4.0,>=0.3.0->langchain_experimental) (0.9.0)\n",
      "Requirement already satisfied: langchain-text-splitters<1.0.0,>=0.3.9 in c:\\users\\jtw57\\miniforge3\\envs\\agentworld\\lib\\site-packages (from langchain<2.0.0,>=0.3.27->langchain-community<0.4.0,>=0.3.0->langchain_experimental) (0.3.11)\n",
      "Requirement already satisfied: pydantic<3.0.0,>=2.7.4 in c:\\users\\jtw57\\miniforge3\\envs\\agentworld\\lib\\site-packages (from langchain<2.0.0,>=0.3.27->langchain-community<0.4.0,>=0.3.0->langchain_experimental) (2.11.9)\n",
      "Requirement already satisfied: jsonpatch<2.0,>=1.33 in c:\\users\\jtw57\\miniforge3\\envs\\agentworld\\lib\\site-packages (from langchain-core<0.4.0,>=0.3.28->langchain_experimental) (1.33)\n",
      "Requirement already satisfied: typing-extensions>=4.7 in c:\\users\\jtw57\\miniforge3\\envs\\agentworld\\lib\\site-packages (from langchain-core<0.4.0,>=0.3.28->langchain_experimental) (4.15.0)\n",
      "Requirement already satisfied: packaging>=23.2 in c:\\users\\jtw57\\miniforge3\\envs\\agentworld\\lib\\site-packages (from langchain-core<0.4.0,>=0.3.28->langchain_experimental) (25.0)\n",
      "Requirement already satisfied: jsonpointer>=1.9 in c:\\users\\jtw57\\miniforge3\\envs\\agentworld\\lib\\site-packages (from jsonpatch<2.0,>=1.33->langchain-core<0.4.0,>=0.3.28->langchain_experimental) (3.0.0)\n",
      "Requirement already satisfied: annotated-types>=0.6.0 in c:\\users\\jtw57\\miniforge3\\envs\\agentworld\\lib\\site-packages (from pydantic<3.0.0,>=2.7.4->langchain<2.0.0,>=0.3.27->langchain-community<0.4.0,>=0.3.0->langchain_experimental) (0.7.0)\n",
      "Requirement already satisfied: pydantic-core==2.33.2 in c:\\users\\jtw57\\miniforge3\\envs\\agentworld\\lib\\site-packages (from pydantic<3.0.0,>=2.7.4->langchain<2.0.0,>=0.3.27->langchain-community<0.4.0,>=0.3.0->langchain_experimental) (2.33.2)\n",
      "Requirement already satisfied: typing-inspection>=0.4.0 in c:\\users\\jtw57\\miniforge3\\envs\\agentworld\\lib\\site-packages (from pydantic<3.0.0,>=2.7.4->langchain<2.0.0,>=0.3.27->langchain-community<0.4.0,>=0.3.0->langchain_experimental) (0.4.1)\n",
      "Requirement already satisfied: python-dotenv>=0.21.0 in c:\\users\\jtw57\\miniforge3\\envs\\agentworld\\lib\\site-packages (from pydantic-settings<3.0.0,>=2.10.1->langchain-community<0.4.0,>=0.3.0->langchain_experimental) (1.1.1)\n",
      "Requirement already satisfied: charset_normalizer<4,>=2 in c:\\users\\jtw57\\miniforge3\\envs\\agentworld\\lib\\site-packages (from requests<3,>=2.32.5->langchain-community<0.4.0,>=0.3.0->langchain_experimental) (3.4.3)\n",
      "Requirement already satisfied: idna<4,>=2.5 in c:\\users\\jtw57\\miniforge3\\envs\\agentworld\\lib\\site-packages (from requests<3,>=2.32.5->langchain-community<0.4.0,>=0.3.0->langchain_experimental) (3.10)\n",
      "Requirement already satisfied: urllib3<3,>=1.21.1 in c:\\users\\jtw57\\miniforge3\\envs\\agentworld\\lib\\site-packages (from requests<3,>=2.32.5->langchain-community<0.4.0,>=0.3.0->langchain_experimental) (2.5.0)\n",
      "Requirement already satisfied: certifi>=2017.4.17 in c:\\users\\jtw57\\miniforge3\\envs\\agentworld\\lib\\site-packages (from requests<3,>=2.32.5->langchain-community<0.4.0,>=0.3.0->langchain_experimental) (2025.8.3)\n",
      "Requirement already satisfied: greenlet>=1 in c:\\users\\jtw57\\miniforge3\\envs\\agentworld\\lib\\site-packages (from SQLAlchemy<3,>=1.4->langchain-community<0.4.0,>=0.3.0->langchain_experimental) (3.2.4)\n",
      "Requirement already satisfied: mypy-extensions>=0.3.0 in c:\\users\\jtw57\\miniforge3\\envs\\agentworld\\lib\\site-packages (from typing-inspect<1,>=0.4.0->dataclasses-json<0.7,>=0.6.7->langchain-community<0.4.0,>=0.3.0->langchain_experimental) (1.1.0)\n",
      "Requirement already satisfied: httpx<1,>=0.23.0 in c:\\users\\jtw57\\miniforge3\\envs\\agentworld\\lib\\site-packages (from langsmith>=0.1.125->langchain-community<0.4.0,>=0.3.0->langchain_experimental) (0.28.1)\n",
      "Requirement already satisfied: orjson>=3.9.14 in c:\\users\\jtw57\\miniforge3\\envs\\agentworld\\lib\\site-packages (from langsmith>=0.1.125->langchain-community<0.4.0,>=0.3.0->langchain_experimental) (3.11.3)\n",
      "Requirement already satisfied: requests-toolbelt>=1.0.0 in c:\\users\\jtw57\\miniforge3\\envs\\agentworld\\lib\\site-packages (from langsmith>=0.1.125->langchain-community<0.4.0,>=0.3.0->langchain_experimental) (1.0.0)\n",
      "Requirement already satisfied: zstandard>=0.23.0 in c:\\users\\jtw57\\miniforge3\\envs\\agentworld\\lib\\site-packages (from langsmith>=0.1.125->langchain-community<0.4.0,>=0.3.0->langchain_experimental) (0.25.0)\n",
      "Requirement already satisfied: anyio in c:\\users\\jtw57\\miniforge3\\envs\\agentworld\\lib\\site-packages (from httpx<1,>=0.23.0->langsmith>=0.1.125->langchain-community<0.4.0,>=0.3.0->langchain_experimental) (4.10.0)\n",
      "Requirement already satisfied: httpcore==1.* in c:\\users\\jtw57\\miniforge3\\envs\\agentworld\\lib\\site-packages (from httpx<1,>=0.23.0->langsmith>=0.1.125->langchain-community<0.4.0,>=0.3.0->langchain_experimental) (1.0.9)\n",
      "Requirement already satisfied: h11>=0.16 in c:\\users\\jtw57\\miniforge3\\envs\\agentworld\\lib\\site-packages (from httpcore==1.*->httpx<1,>=0.23.0->langsmith>=0.1.125->langchain-community<0.4.0,>=0.3.0->langchain_experimental) (0.16.0)\n",
      "Requirement already satisfied: sniffio>=1.1 in c:\\users\\jtw57\\miniforge3\\envs\\agentworld\\lib\\site-packages (from anyio->httpx<1,>=0.23.0->langsmith>=0.1.125->langchain-community<0.4.0,>=0.3.0->langchain_experimental) (1.3.1)\n",
      "Downloading langchain_experimental-0.3.4-py3-none-any.whl (209 kB)\n",
      "Installing collected packages: langchain_experimental\n",
      "Successfully installed langchain_experimental-0.3.4\n",
      "Note: you may need to restart the kernel to use updated packages.\n"
     ]
    }
   ],
   "source": [
    "%pip install langchain_experimental"
   ]
  },
  {
   "cell_type": "code",
   "execution_count": 10,
   "metadata": {},
   "outputs": [],
   "source": [
    "from langchain_experimental.tools import PythonREPLTool\n",
    "\n",
    "# 파이썬 코드를 실행하는 도구를 생성합니다.\n",
    "python_tool = PythonREPLTool()"
   ]
  },
  {
   "cell_type": "markdown",
   "metadata": {},
   "source": [
    "파이썬 코드를 실행하고 결과를 반환합니다."
   ]
  },
  {
   "cell_type": "code",
   "execution_count": 11,
   "metadata": {},
   "outputs": [
    {
     "name": "stderr",
     "output_type": "stream",
     "text": [
      "Python REPL can execute arbitrary code. Use with caution.\n"
     ]
    },
    {
     "name": "stdout",
     "output_type": "stream",
     "text": [
      "105\n",
      "\n"
     ]
    }
   ],
   "source": [
    "print(python_tool.invoke(\"print(10+25+8+45+17)\"))"
   ]
  },
  {
   "cell_type": "markdown",
   "metadata": {},
   "source": [
    "아래는 LLM 에게 파이썬 코드를 작성하도록 요청하고 결과를 반환하는 예제입니다.\n",
    "\n",
    "**흐름 정리**\n",
    "1. LLM 모델에게 특정 작업을 수행하는 Python 코드를 작성하도록 요청합니다.\n",
    "2. 작성된 코드를 실행하여 결과를 얻습니다.\n",
    "3. 결과를 출력합니다.\n"
   ]
  },
  {
   "cell_type": "code",
   "execution_count": 12,
   "metadata": {},
   "outputs": [
    {
     "name": "stdout",
     "output_type": "stream",
     "text": [
      "\n",
      "\n",
      "\u001b[1m> Entering new AgentExecutor chain...\u001b[0m\n",
      "\u001b[32;1m\u001b[1;3mTo solve the problem, I need to multiply 12 by 34 and then add 56 to the result. \n",
      "\n",
      "Action: Python_REPL\n",
      "Action Input: \n",
      "```python\n",
      "result = 12 * 34 + 56\n",
      "print(result)\n",
      "```\u001b[0m\u001b[36;1m\u001b[1;3m464\n",
      "\u001b[0m\u001b[32;1m\u001b[1;3mI now know the final answer.\n",
      "\n",
      "Final Answer: 12에 34를 곱하고 56을 더하면 464입니다.\u001b[0m\n",
      "\n",
      "\u001b[1m> Finished chain.\u001b[0m\n",
      "[최종 답변]:\n",
      "12에 34를 곱하고 56을 더하면 464입니다.\n"
     ]
    }
   ],
   "source": [
    "import os\n",
    "from langchain.chat_models import init_chat_model\n",
    "from langchain.agents import AgentExecutor, create_react_agent\n",
    "from langchain_experimental.tools import PythonREPLTool\n",
    "from langchain.prompts import PromptTemplate\n",
    "\n",
    "\n",
    "# 1. 도구 정의 (Python 코드 실행 도구)\n",
    "tools = [PythonREPLTool()]\n",
    "\n",
    "# 2. LLM 정의\n",
    "llm = init_chat_model(model=\"gpt-4o\", temperature=0)\n",
    "\n",
    "# 3. 프롬프트 직접 만들기 (React 프롬프트)\n",
    "template = \"\"\"\n",
    "Answer the following questions as best you can. You have access to the following tools:\n",
    "\n",
    "{tools}\n",
    "\n",
    "Use the following format:\n",
    "\n",
    "Question: the input question you must answer\n",
    "Thought: you should always think about what to do\n",
    "Action: the action to take, should be one of [{tool_names}]\n",
    "Action Input: the input to the action\n",
    "Observation: the result of the action\n",
    "... (this Thought/Action/Action Input/Observation can repeat N times)\n",
    "Thought: I now know the final answer\n",
    "Final Answer: the final answer to the original input question\n",
    "\n",
    "Begin!\n",
    "\n",
    "Question: {input}\n",
    "Thought:{agent_scratchpad}\n",
    "\"\"\"\n",
    "\n",
    "# 위 템플릿으로 프롬프트 객체 생성\n",
    "prompt = PromptTemplate.from_template(template)\n",
    "\n",
    "# 4. 에이전트 및 실행기 생성\n",
    "agent = create_react_agent(llm, tools, prompt)\n",
    "agent_executor = AgentExecutor(agent=agent, tools=tools, verbose=True)\n",
    "\n",
    "# 5. 에이전트 실행\n",
    "response = agent_executor.invoke({\n",
    "    \"input\": \"12에 34를 곱하고 56을 더하면 얼마야?\"\n",
    "})\n",
    "\n",
    "# 6. 최종 결과 출력\n",
    "print(\"[최종 답변]:\")\n",
    "print(response[\"output\"])"
   ]
  }
 ],
 "metadata": {
  "kernelspec": {
   "display_name": "agentworld",
   "language": "python",
   "name": "python3"
  },
  "language_info": {
   "codemirror_mode": {
    "name": "ipython",
    "version": 3
   },
   "file_extension": ".py",
   "mimetype": "text/x-python",
   "name": "python",
   "nbconvert_exporter": "python",
   "pygments_lexer": "ipython3",
   "version": "3.12.11"
  }
 },
 "nbformat": 4,
 "nbformat_minor": 2
}
