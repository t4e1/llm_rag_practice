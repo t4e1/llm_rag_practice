{
  "cells": [
    {
      "cell_type": "markdown",
      "metadata": {},
      "source": [
        "# Agent란?\n",
        "\n",
        "**Agent(에이전트)** 는 주어진 목표를 달성하기 위해 환경과 상호작용하며 의사 결정을 내리고 행동을 취하는 지능형 AI입니다.  \n",
        "LangChain에서 Agent는 **LLM의 추론 능력** 과 **외부 도구들** 을 연결하여 복잡한 작업을 수행할 수 있게 합니다.\n",
        "\n",
        "### Agent의 핵심 구성요소\n",
        "1. **LLM (Large Language Model)**\n",
        "   - Agent의 두뇌 역할\n",
        "   - 자연어 이해와 추론\n",
        "   - 도구 선택 결정\n",
        "\n",
        "2. **Tools (도구)**\n",
        "   - 특정 작업을 수행하는 함수\n",
        "   - 계산기, 검색엔진, API 호출 등\n",
        "   - Agent가 실제 행동을 취하는 수단\n",
        "\n",
        "3. **Agent Executor (실행기)**\n",
        "   - LLM과 도구 간의 상호작용 관리\n",
        "   - 실행 흐름 제어\n",
        "   - 에러 처리 및 재시도 로직"
      ]
    },
    {
      "cell_type": "markdown",
      "metadata": {},
      "source": [
        "## 도구(Tool) 정의와 바인딩\n",
        "\n",
        "### 도구의 3가지 핵심 구성요소\n",
        "\n",
        "모든 LangChain 도구는 다음 세 가지 요소로 구성됩니다:\n",
        "\n",
        "1. **name (이름)**: 도구를 식별하는 고유한 이름\n",
        "2. **description (설명)**: 도구의 기능과 사용 시점을 설명\n",
        "3. **args_schema (인자 스키마)**: 입력 파라미터의 형식 정의\n"
      ]
    },
    {
      "cell_type": "code",
      "execution_count": 1,
      "metadata": {},
      "outputs": [
        {
          "name": "stdout",
          "output_type": "stream",
          "text": [
            "OpenAI API 키가 설정되어 있습니다: sk-proj-WS...\n"
          ]
        }
      ],
      "source": [
        "# 환경 설정\n",
        "import os\n",
        "from dotenv import load_dotenv\n",
        "\n",
        "# .env 파일에서 환경변수 로드\n",
        "load_dotenv()\n",
        "\n",
        "# API 키 확인\n",
        "openai_api_key = os.getenv('OPENAI_API_KEY')\n",
        "print(f\"OpenAI API 키가 설정되어 있습니다: {openai_api_key[:10]}...\")\n"
      ]
    },
    {
      "cell_type": "markdown",
      "metadata": {},
      "source": [
        "실습을 위한 사용자 정의 도구 만들기\n",
        "\n",
        "`@tool` 데코레이터를 사용하여 간단하게 사용자 정의 도구를 만들 수 있습니다"
      ]
    },
    {
      "cell_type": "code",
      "execution_count": 2,
      "metadata": {},
      "outputs": [
        {
          "name": "stdout",
          "output_type": "stream",
          "text": [
            "도구명: add_numbers\n",
            "설명: 두 숫자를 더합니다. 수학적 덧셈이 필요할 때 사용하세요.\n",
            "구조: {'description': '두 숫자를 더합니다. 수학적 덧셈이 필요할 때 사용하세요.', 'properties': {'a': {'title': 'A', 'type': 'integer'}, 'b': {'title': 'B', 'type': 'integer'}}, 'required': ['a', 'b'], 'title': 'add_numbers', 'type': 'object'}\n",
            "--------------------------------------------------\n",
            "도구명: multiply_numbers\n",
            "설명: 두 숫자를 곱합니다. 수학적 곱셈이 필요할 때 사용하세요.\n",
            "구조: {'description': '두 숫자를 곱합니다. 수학적 곱셈이 필요할 때 사용하세요.', 'properties': {'a': {'title': 'A', 'type': 'integer'}, 'b': {'title': 'B', 'type': 'integer'}}, 'required': ['a', 'b'], 'title': 'multiply_numbers', 'type': 'object'}\n",
            "--------------------------------------------------\n",
            "도구명: divide_numbers\n",
            "설명: 두 숫자를 나눕니다. 수학적 나눗셈이 필요할 때 사용하세요. 0으로 나누는 것은 불가능합니다.\n",
            "구조: {'description': '두 숫자를 나눕니다. 수학적 나눗셈이 필요할 때 사용하세요. 0으로 나누는 것은 불가능합니다.', 'properties': {'a': {'title': 'A', 'type': 'number'}, 'b': {'title': 'B', 'type': 'number'}}, 'required': ['a', 'b'], 'title': 'divide_numbers', 'type': 'object'}\n",
            "--------------------------------------------------\n"
          ]
        },
        {
          "name": "stderr",
          "output_type": "stream",
          "text": [
            "C:\\Users\\jtw57\\AppData\\Local\\Temp\\ipykernel_13900\\442671679.py:28: PydanticDeprecatedSince20: The `schema` method is deprecated; use `model_json_schema` instead. Deprecated in Pydantic V2.0 to be removed in V3.0. See Pydantic V2 Migration Guide at https://errors.pydantic.dev/2.11/migration/\n",
            "  print(f\"구조: {tool.args_schema.schema()}\")\n"
          ]
        }
      ],
      "source": [
        "from langchain.tools import tool\n",
        "\n",
        "# @tool 데코레이터를 사용한 도구 정의\n",
        "@tool\n",
        "def add_numbers(a: int, b: int) -> int:\n",
        "    \"\"\"두 숫자를 더합니다. 수학적 덧셈이 필요할 때 사용하세요.\"\"\"\n",
        "    return a + b\n",
        "\n",
        "@tool\n",
        "def multiply_numbers(a: int, b: int) -> int:\n",
        "    \"\"\"두 숫자를 곱합니다. 수학적 곱셈이 필요할 때 사용하세요.\"\"\"\n",
        "    return a * b\n",
        "\n",
        "@tool\n",
        "def divide_numbers(a: float, b: float) -> float:\n",
        "    \"\"\"두 숫자를 나눕니다. 수학적 나눗셈이 필요할 때 사용하세요. 0으로 나누는 것은 불가능합니다.\"\"\"\n",
        "    if b == 0:\n",
        "        raise ValueError(\"0으로 나눌 수 없습니다\")\n",
        "    return a / b\n",
        "\n",
        "# 도구 리스트 생성\n",
        "math_tools = [add_numbers, multiply_numbers, divide_numbers]\n",
        "\n",
        "# 도구 정보 확인\n",
        "for tool in math_tools:\n",
        "    print(f\"도구명: {tool.name}\")\n",
        "    print(f\"설명: {tool.description}\")\n",
        "    print(f\"구조: {tool.args_schema.schema()}\")\n",
        "    print(\"-\" * 50)\n"
      ]
    },
    {
      "cell_type": "markdown",
      "metadata": {},
      "source": [
        "LLM에 도구 바인딩\n",
        "\n",
        "`bind_tools()` 메서드를 사용하여 LLM에 도구를 연결합니다:\n"
      ]
    },
    {
      "cell_type": "code",
      "execution_count": null,
      "metadata": {},
      "outputs": [],
      "source": [
        "from langchain_core.prompts import ChatPromptTemplate, MessagesPlaceholder\n",
        "from langchain.chat_models import init_chat_model\n",
        "# Agent 프롬프트 생성\n",
        "# system 프롬프트 : LLM 이 동작될 방향 설정 \n",
        "# user 프롬프트 : input 값 \n",
        "# Ai assistant : input 값에 대해 LLM 이 응답한 내용\n",
        "prompt = ChatPromptTemplate.from_messages(\n",
        "    [\n",
        "        (\n",
        "            \"system\",\n",
        "            \"You are very powerful assistant\",\n",
        "        ),\n",
        "        (\"user\", \"{input}\"),\n",
        "        \n",
        "        # LLM 이 전달하는 명령서가 들어갈 위치\n",
        "        MessagesPlaceholder(variable_name=\"agent_scratchpad\"),\n",
        "    ]\n",
        ")\n",
        "\n",
        "# 모델 생성\n",
        "llm = init_chat_model(\"gpt-4o-mini\", model_provider=\"openai\")"
      ]
    },
    {
      "cell_type": "markdown",
      "metadata": {},
      "source": [
        "계산기 Agent 구현"
      ]
    },
    {
      "cell_type": "markdown",
      "metadata": {},
      "source": [
        "## AgentExecutor\n",
        "- 에이전트를 실행하는 역할, 에이전트가 어떤 작업을 수행할지 결정하고, 필요한 도구를 사용하며,  \n",
        "최종답변을 만들어내는 전체과정을 관리하는 실행기\n",
        "\n",
        "**핵심역할**\n",
        "- 에이전트와 도구 연결 :   \n",
        "생성된 Agent와 그 Agent가 사용할 수 있는 도구 목록을 받아 이 둘을 연결한다.\n",
        "\n",
        "- 실행 루프 관리 :   \n",
        "에이전트가 어떤 도구를 사용할지 결정하고, 실행한 뒤 결과를 에이전트에게 전달하는 과정을 반복한다. (최종답변이 나올때까지)\n",
        "\n",
        "- 중간과정 기록 :   \n",
        "에이전트가 중간에 어떤 생각을 하고 어떤 행동을 취했으며 결과(Observation)이 어땠는지 기록하고 관리한다.\n",
        "\n",
        "#### 주요매개변수\n",
        "**핵심 요소 (필수)**  \n",
        "- `agent`: 실행의 주체인 \"뇌\"입니다. 어떤 판단을 내릴지 결정합니다.  \n",
        "- `tools`: 에이전트가 사용할 수 있는 \"손발\"과 같은 도구들의 목록입니다.\n",
        "\n",
        "**부가 기능 (선택)**    \n",
        "- `verbose`: 에이전트의 생각(Thought), 행동(Action) 등 모든 실행 과정을 화면에 상세히 출력해 디버깅을 쉽게 도와줍니다.  \n",
        "- `return_intermediate_steps`: 실행 과정을 화면에 출력하는 대신, 그 기록을 결과값으로 직접 돌려받고 싶을 때 사용합니다. \n",
        "- `memory`: 이전 대화 내용을 기억하게 만들어, 문맥을 이해하는 연속적인 대화가 가능하도록 합니다. \n",
        "- `max_iterations`: 에이전트가 무한 루프에 빠지지 않도록 최대 반복 횟수를 제한합니다.  \n",
        "- `max_execution_time`: 전체 실행 시간이 너무 길어지지 않도록 시간을 제한합니다.\n",
        "- `handle_parsing_errors`: 에이전트가 내린 결정(예: 도구 이름)을 해석하다 오류가 났을 때 어떻게 대처할지 정합니다."
      ]
    },
    {
      "cell_type": "code",
      "execution_count": 4,
      "metadata": {},
      "outputs": [
        {
          "name": "stdout",
          "output_type": "stream",
          "text": [
            "계산기 Agent가 생성되었습니다!\n"
          ]
        }
      ],
      "source": [
        "from langchain.agents import AgentExecutor, create_tool_calling_agent\n",
        "\n",
        "# 1. Agent 생성\n",
        "# tool_calling_agent : 구조화된 tool call(Json)을 모델이 출력 -> AgentExecutor한테 전달\n",
        "math_agent = create_tool_calling_agent(llm, math_tools, prompt)\n",
        "\n",
        "# 2. Agent Executor 생성\n",
        "math_executor = AgentExecutor(\n",
        "    agent=math_agent,\n",
        "    tools=math_tools,\n",
        "    verbose=True,  # 실행 과정을 자세히 보여줍니다\n",
        "    handle_parsing_errors=True  # 파싱 에러를 자동으로 처리합니다\n",
        ")\n",
        "\n",
        "print(\"계산기 Agent가 생성되었습니다!\")"
      ]
    },
    {
      "cell_type": "markdown",
      "metadata": {},
      "source": [
        "### 계산기 Agent 테스트\n",
        "\n",
        "간단한 계산부터 복잡한 계산까지 테스트해보겠습니다:"
      ]
    },
    {
      "cell_type": "code",
      "execution_count": 5,
      "metadata": {},
      "outputs": [
        {
          "name": "stdout",
          "output_type": "stream",
          "text": [
            "\n",
            "\n",
            "\u001b[1m> Entering new AgentExecutor chain...\u001b[0m\n",
            "\u001b[32;1m\u001b[1;3m\n",
            "Invoking: `multiply_numbers` with `{'a': 25, 'b': 4}`\n",
            "\n",
            "\n",
            "\u001b[0m\u001b[33;1m\u001b[1;3m100\u001b[0m\u001b[32;1m\u001b[1;3m25 곱하기 4는 100입니다.\u001b[0m\n",
            "\n",
            "\u001b[1m> Finished chain.\u001b[0m\n",
            "\n",
            "=== 최종 결과 ===\n",
            "25 곱하기 4는 100입니다.\n"
          ]
        }
      ],
      "source": [
        "# 간단한 계산 테스트\n",
        "result = math_executor.invoke({\n",
        "    \"input\": \"25*4 에 대해 계산하세요\"\n",
        "})\n",
        "\n",
        "print(\"\\n=== 최종 결과 ===\")\n",
        "print(result[\"output\"])\n"
      ]
    },
    {
      "cell_type": "code",
      "execution_count": 7,
      "metadata": {},
      "outputs": [
        {
          "name": "stdout",
          "output_type": "stream",
          "text": [
            "\n",
            "\n",
            "\u001b[1m> Entering new AgentExecutor chain...\u001b[0m\n",
            "\u001b[32;1m\u001b[1;3m\n",
            "Invoking: `add_numbers` with `{'a': 15, 'b': 25}`\n",
            "\n",
            "\n",
            "\u001b[0m\u001b[36;1m\u001b[1;3m40\u001b[0m\u001b[32;1m\u001b[1;3m\n",
            "Invoking: `multiply_numbers` with `{'a': 30, 'b': 3}`\n",
            "\n",
            "\n",
            "\u001b[0m\u001b[33;1m\u001b[1;3m90\u001b[0m\u001b[32;1m\u001b[1;3m\n",
            "Invoking: `divide_numbers` with `{'a': 90, 'b': 6}`\n",
            "\n",
            "\n",
            "\u001b[0m\u001b[38;5;200m\u001b[1;3m15.0\u001b[0m\u001b[32;1m\u001b[1;3m계산 결과는 다음과 같습니다:\n",
            "\n",
            "1. \\(15 + 25 = 40\\)\n",
            "2. \\((40 \\times 3) = 120\\)\n",
            "3. \\(\\frac{120}{6} = 20.0\\)\n",
            "\n",
            "따라서, \\(((15 + 25) \\times 3) / 6 = 20\\)입니다.\u001b[0m\n",
            "\n",
            "\u001b[1m> Finished chain.\u001b[0m\n",
            "\n",
            "=== 최종 결과 ===\n",
            "계산 결과는 다음과 같습니다:\n",
            "\n",
            "1. \\(15 + 25 = 40\\)\n",
            "2. \\((40 \\times 3) = 120\\)\n",
            "3. \\(\\frac{120}{6} = 20.0\\)\n",
            "\n",
            "따라서, \\(((15 + 25) \\times 3) / 6 = 20\\)입니다.\n"
          ]
        }
      ],
      "source": [
        "# 복잡한 계산 테스트\n",
        "result = math_executor.invoke({\n",
        "    \"input\": \"((15 + 25)*3)/6 을 계산하세요\"\n",
        "})\n",
        "\n",
        "print(\"\\n=== 최종 결과 ===\")\n",
        "print(result[\"output\"])\n"
      ]
    },
    {
      "cell_type": "markdown",
      "metadata": {},
      "source": [
        "## 검색 Agent 구현\n",
        "\n",
        "이제 실시간 정보 검색이 가능한 Agent를 만들어보겠습니다.\n",
        "\n",
        "### 검색 도구 설정\n",
        "\n",
        "**주의**: Tavily 검색 도구를 사용하려면 API 키가 필요합니다. \n",
        "- 발급 주소: https://app.tavily.com/\n",
        "- `.env` 파일에 `TAVILY_API_KEY=your_key_here` 추가\n"
      ]
    },
    {
      "cell_type": "code",
      "execution_count": 8,
      "metadata": {},
      "outputs": [
        {
          "name": "stdout",
          "output_type": "stream",
          "text": [
            "검색 도구가 준비되었습니다.\n"
          ]
        },
        {
          "name": "stderr",
          "output_type": "stream",
          "text": [
            "C:\\Users\\jtw57\\AppData\\Local\\Temp\\ipykernel_13900\\1950780117.py:5: LangChainDeprecationWarning: The class `TavilySearchResults` was deprecated in LangChain 0.3.25 and will be removed in 1.0. An updated version of the class exists in the :class:`~langchain-tavily package and should be used instead. To use it run `pip install -U :class:`~langchain-tavily` and import as `from :class:`~langchain_tavily import TavilySearch``.\n",
            "  search_tool = TavilySearchResults(\n"
          ]
        }
      ],
      "source": [
        "# Tavily 검색 도구 설정 (API 키가 필요합니다)\n",
        "from langchain_community.tools.tavily_search import TavilySearchResults\n",
        "\n",
        "# 검색 도구 생성\n",
        "search_tool = TavilySearchResults(\n",
        "    max_results=3,\n",
        "    include_answer=True,\n",
        "    include_raw_content=False,\n",
        "    search_depth=\"basic\"\n",
        ")\n",
        "\n",
        "# 검색 도구 리스트\n",
        "search_tools = [search_tool]\n",
        "\n",
        "print(\"검색 도구가 준비되었습니다.\")\n"
      ]
    },
    {
      "cell_type": "code",
      "execution_count": 9,
      "metadata": {},
      "outputs": [
        {
          "name": "stdout",
          "output_type": "stream",
          "text": [
            "검색 Agent가 생성되었습니다!\n"
          ]
        }
      ],
      "source": [
        "# 검색 Agent 생성\n",
        "search_agent = create_tool_calling_agent(llm, search_tools, prompt)\n",
        "search_executor = AgentExecutor(\n",
        "    agent=search_agent,\n",
        "    tools=search_tools,\n",
        "    verbose=True,\n",
        "    handle_parsing_errors=True\n",
        ")\n",
        "\n",
        "print(\"검색 Agent가 생성되었습니다!\")\n"
      ]
    },
    {
      "cell_type": "code",
      "execution_count": 10,
      "metadata": {},
      "outputs": [
        {
          "name": "stdout",
          "output_type": "stream",
          "text": [
            "\n",
            "\n",
            "\u001b[1m> Entering new AgentExecutor chain...\u001b[0m\n",
            "\u001b[32;1m\u001b[1;3m\n",
            "Invoking: `tavily_search_results_json` with `{'query': '2025 AI trends'}`\n",
            "\n",
            "\n",
            "\u001b[0m\u001b[36;1m\u001b[1;3m[{'title': '5 AI Trends Shaping Innovation and ROI in 2025 | Morgan Stanley', 'url': 'https://www.morganstanley.com/insights/articles/ai-trends-reasoning-frontier-models-2025-tmt', 'content': '[Skip to content](https://www.morganstanley.com/insights/articles/ai-trends-reasoning-frontier-models-2025-tmt#maincontent) [](https://www.morganstanley.com/insights/articles/ai-trends-reasoning-frontier-models-2025-tmt#mobileNav) *   [Sustainable Investing](https://www.morganstanley.com/about-us/sustainability-at-morgan-stanley) *   [Email this](mailto:?body=Did%20you%20know,%20%22Recent%20AI%20advancements%20will%20harness%20the%20power%20of%20Jevons%20Paradox,%20to%20drive%20the%20long-term%20demand%20for%20AI%20and%20further%20increase%20the%20total%20addressable%20market%20for%20all%20participants%20in%20the%20ecosystem.%22.%20You%20can%20read%20more%20about%20it%20here:%20https://www.morganstanley.com/insights/articles/ai-trends-reasoning-frontier-models-2025-tmt&subject=I%20found%20this%20article%20on%20MorganStanley.com) [](https://www.morganstanley.com/insights/articles/ai-trends-reasoning-frontier-models-2025-tmt) 2. They spoke about offsetting costs with customizable chips that optimize compute performance and targeting long-term utilization of their land and construction sites.They also addressed[](https://www.morganstanley.com/insights/articles/ai-trends-reasoning-frontier-models-2025-tmt)[recent advancements in AI](https://www.morganstanley.com/insights/articles/deepseek-ai-watershed-moment) that improve computing efficiency as positive for their businesses, as it helps reduce costs and increase AI demand. [](https://www.morganstanley.com/insights/articles/ai-trends-reasoning-frontier-models-2025-tmt) 3. *   [Tweet this(opens in a new tab)](https://twitter.com/share?url=https://www.morganstanley.com/insights/articles/ai-trends-reasoning-frontier-models-2025-tmt&text=%22Writing%20code%20has%20become%20much%20faster%20with%20AI,%20but%20now%20the%20value%20is%20in%20testing%20and%20understanding%20it%20and%20seeing%20if%20it%20works%20for%20the%20business.%E2%80%9D%20%22) *   [Share this on LinkedIn(opens in a new tab)](https://www.linkedin.com/shareArticle?mini=true&url=https://www.morganstanley.com/insights/articles/ai-trends-reasoning-frontier-models-2025-tmt&title=5%20AI%20Trends%20Shaping%20Innovation%20and%20ROI%20in%202025&summary=%22Writing%20code%20has%20become%20much%20faster%20with%20AI,%20but%20now%20the%20value%20is%20in%20testing%20and%20understanding%20it%20and%20seeing%20if%20it%20works%20for%20the%20business.%E2%80%9D%20%22) *   [Share this on Facebook(opens in a new tab)](https://www.facebook.com/dialog/share?app_id=773782963242623&display=page&href=https://www.morganstanley.com/insights/articles/ai-trends-reasoning-frontier-models-2025-tmt&redirect_uri=https://www.morganstanley.com/insights/articles/ai-trends-reasoning-frontier-models-2025-tmt&quote=%22Writing%20code%20has%20become%20much%20faster%20with%20AI,%20but%20now%20the%20value%20is%20in%20testing%20and%20understanding%20it%20and%20seeing%20if%20it%20works%20for%20the%20business.%E2%80%9D%20%22) *   [Email this](mailto:?body=Did%20you%20know,%20%22Writing%20code%20has%20become%20much%20faster%20with%20AI,%20but%20now%20the%20value%20is%20in%20testing%20and%20understanding%20it%20and%20seeing%20if%20it%20works%20for%20the%20business.%E2%80%9D%20%22.%20You%20can%20read%20more%20about%20it%20here:%20https://www.morganstanley.com/insights/articles/ai-trends-reasoning-frontier-models-2025-tmt&subject=I%20found%20this%20article%20on%20MorganStanley.com) [](https://www.morganstanley.com/insights/articles/ai-trends-reasoning-frontier-models-2025-tmt) 4. Companies in the data and cloud infrastructure ecosystem are catering to enterprises by building tools that can help them automate observability—the ability to understand a system’s behavior by analyzing the data it generates—and creating evaluation systems for their AI uses, to help customers drive [ROI](https://www.morganstanley.com/insights/articles/ai-monetization-race-to-roi-tmt). [](https://www.morganstanley.com/insights/articles/ai-trends-reasoning-frontier-models-2025-tmt) 5.', 'score': 0.90965873}, {'title': 'McKinsey technology trends outlook 2025', 'url': 'https://www.mckinsey.com/capabilities/mckinsey-digital/our-insights/the-top-trends-in-tech', 'content': 'An overarching artificial intelligence category replaces these four trends: applied AI, generative AI, industrializing machine learning, and', 'score': 0.90791017}, {'title': \"6 AI trends you'll see more of in 2025 - Microsoft Source\", 'url': 'https://news.microsoft.com/source/features/ai/6-ai-trends-youll-see-more-of-in-2025/', 'content': 'In 2025, AI will evolve from a tool for work and home to an integral part of both. AI-powered agents will do more with greater autonomy and help simplify your', 'score': 0.90633047}]\u001b[0m\u001b[32;1m\u001b[1;3m2025년에는 여러 가지 흥미로운 AI 트렌드가 예상됩니다. 여기 몇 가지 주요 트렌드를 소개합니다:\n",
            "\n",
            "1. **AI의 통합화**:\n",
            "   - AI는 작업 및 가정에서 도구 이상의 역할을 하게 되며, 더 많은 자율성을 가진 AI 기반 에이전트가 등장할 것입니다. 이들은 일상 생활의 복잡성을 줄이는 데 기여할 전망입니다. [자세한 내용 보기](https://news.microsoft.com/source/features/ai/6-ai-trends-youll-see-more-of-in-2025/)\n",
            "\n",
            "2. **적용 AI 및 생성적 AI의 발전**:\n",
            "   - McKinsey의 보고서에 따르면, AI는 단순히 특정 툴을 넘어서 전체 비즈니스 프로세스를 변혁시키는 중요한 요소로 자리 잡을 것입니다. 특히 생성적 AI는 콘텐츠 생성, 디자인, 프로그래밍 등 여러 분야에서 활용될 것입니다. [자세한 내용 보기](https://www.mckinsey.com/capabilities/mckinsey-digital/our-insights/the-top-trends-in-tech)\n",
            "\n",
            "3. **데이터 및 클라우드 인프라의 발전**:\n",
            "   - 데이터와 클라우드 인프라 생태계의 기업들은 고객들이 AI 사용의 ROI(투자 수익)를 극대화할 수 있도록 도와주는 자동화 도구를 개발하고 있을 것입니다. [자세한 내용 보기](https://www.morganstanley.com/insights/articles/ai-trends-reasoning-frontier-models-2025-tmt)\n",
            "\n",
            "4. **AI 모니터링 및 평가 시스템**:\n",
            "   - AI의 활용에 대한 평가 시스템이 더욱 발전하여 기업들이 AI의 성과를 정확히 이해하고 개선할 수 있도록 도와줄 것입니다.\n",
            "\n",
            "5. **지속적인 비용 감소 및 효율성 증가**:\n",
            "   - AI의 발전은 컴퓨팅 효율성을 높이고 비용을 줄이는 데 긍정적인 영향을 미칠 것입니다. 이는 AI 수요를 더욱 촉진할 것으로 예상됩니다.\n",
            "\n",
            "이러한 트렌드들은 AI가 비즈니스와 일상 생활의 중요한 부분으로 자리잡아가는 과정을 보여주며, 앞으로의 변화에 대비할 수 있도록 도와줄 것입니다.\u001b[0m\n",
            "\n",
            "\u001b[1m> Finished chain.\u001b[0m\n",
            "=== 최종 결과 ===\n",
            "2025년에는 여러 가지 흥미로운 AI 트렌드가 예상됩니다. 여기 몇 가지 주요 트렌드를 소개합니다:\n",
            "\n",
            "1. **AI의 통합화**:\n",
            "   - AI는 작업 및 가정에서 도구 이상의 역할을 하게 되며, 더 많은 자율성을 가진 AI 기반 에이전트가 등장할 것입니다. 이들은 일상 생활의 복잡성을 줄이는 데 기여할 전망입니다. [자세한 내용 보기](https://news.microsoft.com/source/features/ai/6-ai-trends-youll-see-more-of-in-2025/)\n",
            "\n",
            "2. **적용 AI 및 생성적 AI의 발전**:\n",
            "   - McKinsey의 보고서에 따르면, AI는 단순히 특정 툴을 넘어서 전체 비즈니스 프로세스를 변혁시키는 중요한 요소로 자리 잡을 것입니다. 특히 생성적 AI는 콘텐츠 생성, 디자인, 프로그래밍 등 여러 분야에서 활용될 것입니다. [자세한 내용 보기](https://www.mckinsey.com/capabilities/mckinsey-digital/our-insights/the-top-trends-in-tech)\n",
            "\n",
            "3. **데이터 및 클라우드 인프라의 발전**:\n",
            "   - 데이터와 클라우드 인프라 생태계의 기업들은 고객들이 AI 사용의 ROI(투자 수익)를 극대화할 수 있도록 도와주는 자동화 도구를 개발하고 있을 것입니다. [자세한 내용 보기](https://www.morganstanley.com/insights/articles/ai-trends-reasoning-frontier-models-2025-tmt)\n",
            "\n",
            "4. **AI 모니터링 및 평가 시스템**:\n",
            "   - AI의 활용에 대한 평가 시스템이 더욱 발전하여 기업들이 AI의 성과를 정확히 이해하고 개선할 수 있도록 도와줄 것입니다.\n",
            "\n",
            "5. **지속적인 비용 감소 및 효율성 증가**:\n",
            "   - AI의 발전은 컴퓨팅 효율성을 높이고 비용을 줄이는 데 긍정적인 영향을 미칠 것입니다. 이는 AI 수요를 더욱 촉진할 것으로 예상됩니다.\n",
            "\n",
            "이러한 트렌드들은 AI가 비즈니스와 일상 생활의 중요한 부분으로 자리잡아가는 과정을 보여주며, 앞으로의 변화에 대비할 수 있도록 도와줄 것입니다.\n"
          ]
        }
      ],
      "source": [
        "# 검색 Agent 테스트\n",
        "result = search_executor.invoke({\n",
        "    \"input\": \"2025년 AI 트렌드에 대해 알려주세요.\"\n",
        "})\n",
        "\n",
        "print(\"=== 최종 결과 ===\")\n",
        "print(result[\"output\"])\n"
      ]
    },
    {
      "cell_type": "markdown",
      "metadata": {},
      "source": [
        "## 종합 Agent 구현\n",
        "\n",
        "계산과 검색 기능을 모두 가진 종합 Agent를 만들어보겠습니다."
      ]
    },
    {
      "cell_type": "code",
      "execution_count": 11,
      "metadata": {},
      "outputs": [
        {
          "name": "stdout",
          "output_type": "stream",
          "text": [
            "총 4개의 도구가 준비되었습니다:\n"
          ]
        }
      ],
      "source": [
        "# 모든 도구를 결합\n",
        "all_tools = math_tools + [search_tool]\n",
        "\n",
        "print(f\"총 {len(all_tools)}개의 도구가 준비되었습니다:\")"
      ]
    },
    {
      "cell_type": "markdown",
      "metadata": {},
      "source": [
        "종합 Agent 생성"
      ]
    },
    {
      "cell_type": "code",
      "execution_count": 12,
      "metadata": {},
      "outputs": [],
      "source": [
        "comprehensive_agent = create_tool_calling_agent(llm, all_tools, prompt)\n",
        "comprehensive_executor = AgentExecutor(\n",
        "    agent=comprehensive_agent,\n",
        "    tools=all_tools,\n",
        "    verbose=True,\n",
        "    handle_parsing_errors=True,\n",
        "    max_iterations=10  # 최대 반복 횟수 제한\n",
        ")"
      ]
    },
    {
      "cell_type": "markdown",
      "metadata": {},
      "source": [
        "복합 작업 테스트"
      ]
    },
    {
      "cell_type": "code",
      "execution_count": 13,
      "metadata": {},
      "outputs": [
        {
          "name": "stdout",
          "output_type": "stream",
          "text": [
            "\n",
            "\n",
            "\u001b[1m> Entering new AgentExecutor chain...\u001b[0m\n",
            "\u001b[32;1m\u001b[1;3m\n",
            "Invoking: `add_numbers` with `{'a': 916, 'b': -15}`\n",
            "\n",
            "\n",
            "\u001b[0m\u001b[36;1m\u001b[1;3m901\u001b[0m\u001b[32;1m\u001b[1;3m\n",
            "Invoking: `tavily_search_results_json` with `{'query': 'Korean celebrities birthdays on 901'}`\n",
            "\n",
            "\n",
            "\u001b[0m\u001b[36;1m\u001b[1;3m[{'title': \"Famous People's Birthdays, January, South Korea Celebrity Birthdays\", 'url': 'https://www.bornglorious.com/south_korea/birthday/?pd=01', 'content': '1 Jennie (singer) · 2 Lee Seung-gi · 3 Jisoo (singer, born 1995) · 4 Seung-Hui Cho · 5 Moon Jae-in · 6 Kai (entertainer, born 1994) · 7 Son Ye-jin · 8 Song Kang-ho.', 'score': 0.58408195}, {'title': \"Famous People's Birthdays, September 01, South Korea Celebrity ...\", 'url': 'https://www.bornglorious.com/south_korea/birthday/?pd=0901', 'content': '1 Jungkook · 2 Roh Moo-hyun · 3 Amy Anderson (comedian) · 4 Hwang Jung-min · 5 Woo Hye-rim · 6 Kim Jae-hwa · 7 Mikyung Sung · 8 Lee Jung-hyun (politician).', 'score': 0.5803764}, {'title': 'South Korea | Famous Birthdays', 'url': 'https://www.famousbirthdays.com/birthplace/southkorea.html', 'content': \"# South Korea # South Korea It is a member of the OECD's Development Assistance Committee, the G20, the IPEF, and the Paris Club. South Koreans are considered one year old when born. # Celebrities Born In South Korea Lee Jung-jae, 52 TV Actor Jennie Kim, 29 Kim Taehyung, 29 Lee Know, 26 Lee Byung-hun, 55 Sung-hoon Park, 22 Wi Ha-joon, 34 TV Actor South Korea by Career Cities in South Korea TV Actor G Dragon, 36 Park Ji-hoon, 26 Kim Jin-woo, 53 Lee David, 31 TikTok Star Kang Ha-neul, 35 TV Actor Ina Kim, 14 YouTube Star TV Actor Zach Choi, 38 YouTube Star TV Actor Soobin Choi, 24 YouTube Star\", 'score': 0.35053307}]\u001b[0m\u001b[32;1m\u001b[1;3m916에서 15를 빼면 901입니다. \n",
            "\n",
            "901일에 생일인 한국 연예인으로는 다음과 같은 인물들이 있습니다:\n",
            "\n",
            "1. **정국(Jungkook)** - BTS의 멤버\n",
            "2. **노무현(Roh Moo-hyun)** - 전 대통령\n",
            "3. **에이미 앤더슨(Amy Anderson)** - 코미디언\n",
            "4. **황정민(Hwang Jung-min)** - 배우\n",
            "5. **우혜림(Woo Hye-rim)**\n",
            "6. **김재화(Kim Jae-hwa)**\n",
            "7. **미경(Mikyung Sung)**\n",
            "8. **이정현(Lee Jung-hyun)** - 정치인\n",
            "\n",
            "관련 링크: [Celebrities Born on September 01](https://www.bornglorious.com/south_korea/birthday/?pd=0901) \n",
            "\n",
            "더 궁금한 것이 있으면 말씀해 주세요!\u001b[0m\n",
            "\n",
            "\u001b[1m> Finished chain.\u001b[0m\n",
            "=== 최종 결과 ===\n",
            "916에서 15를 빼면 901입니다. \n",
            "\n",
            "901일에 생일인 한국 연예인으로는 다음과 같은 인물들이 있습니다:\n",
            "\n",
            "1. **정국(Jungkook)** - BTS의 멤버\n",
            "2. **노무현(Roh Moo-hyun)** - 전 대통령\n",
            "3. **에이미 앤더슨(Amy Anderson)** - 코미디언\n",
            "4. **황정민(Hwang Jung-min)** - 배우\n",
            "5. **우혜림(Woo Hye-rim)**\n",
            "6. **김재화(Kim Jae-hwa)**\n",
            "7. **미경(Mikyung Sung)**\n",
            "8. **이정현(Lee Jung-hyun)** - 정치인\n",
            "\n",
            "관련 링크: [Celebrities Born on September 01](https://www.bornglorious.com/south_korea/birthday/?pd=0901) \n",
            "\n",
            "더 궁금한 것이 있으면 말씀해 주세요!\n"
          ]
        }
      ],
      "source": [
        "result = comprehensive_executor.invoke({\n",
        "    \"input\": \"916에서 15를 빼고, 그날이 생일인 한국 연예인을 찾아주세요\"\n",
        "})\n",
        "\n",
        "print(\"=== 최종 결과 ===\")\n",
        "print(result[\"output\"])"
      ]
    }
  ],
  "metadata": {
    "kernelspec": {
      "display_name": "agentworld",
      "language": "python",
      "name": "python3"
    },
    "language_info": {
      "codemirror_mode": {
        "name": "ipython",
        "version": 3
      },
      "file_extension": ".py",
      "mimetype": "text/x-python",
      "name": "python",
      "nbconvert_exporter": "python",
      "pygments_lexer": "ipython3",
      "version": "3.12.11"
    }
  },
  "nbformat": 4,
  "nbformat_minor": 2
}
