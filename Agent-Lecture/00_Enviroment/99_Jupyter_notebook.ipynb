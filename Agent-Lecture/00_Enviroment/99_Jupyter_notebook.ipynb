{
 "cells": [
  {
   "cell_type": "markdown",
   "id": "8a9b171b",
   "metadata": {
    "vscode": {
     "languageId": "raw"
    }
   },
   "source": [
    "# Jupyter Notebook 주요 단축키 연습 튜토리얼\n",
    "\n",
    "이 노트북에서는 Jupyter Notebook의 핵심 단축키들을 학습하고 연습할 수 있습니다.\n",
    "\n",
    "## 학습 목표\n",
    "- Jupyter Notebook의 두 가지 모드 이해\n",
    "- 필수 단축키 숙지 및 활용\n",
    "- 효율적인 노트북 작업 환경 구축\n",
    "- 실무에서 자주 사용하는 단축키 마스터\n",
    "\n",
    "\n",
    "> **💡 연습 팁**: 각 단축키를 직접 실행해보면서 익혀보세요!\n"
   ]
  },
  {
   "cell_type": "markdown",
   "id": "d75e7bcd",
   "metadata": {
    "vscode": {
     "languageId": "raw"
    }
   },
   "source": [
    "## 1. 기본 개념: 두 가지 모드\n",
    "\n",
    "Jupyter Notebook은 **두 가지 모드**로 작동합니다:\n",
    "\n",
    "### 명령 모드 (Command Mode)\n",
    "- **상태**: 셀 테두리가 **파란색**\n",
    "- **용도**: 셀 조작, 노트북 전체 제어\n",
    "- **전환**: `Esc` 키 또는 셀 외부 클릭\n",
    "- **표시**: 셀 왼쪽에 파란색 세로 막대\n",
    "\n",
    "### 편집 모드 (Edit Mode)  \n",
    "- **상태**: 셀 테두리가 **초록색**\n",
    "- **용도**: 셀 내용 편집, 코드/텍스트 작성\n",
    "- **전환**: `Enter` 키 또는 셀 내부 클릭\n",
    "- **표시**: 셀 왼쪽에 초록색 세로 막대, 커서 깜빡임\n",
    "\n",
    "---\n",
    "\n",
    "### 🔄 모드 전환 연습\n",
    "\n",
    "**연습 1**: 아래 셀을 클릭해서 모드 전환을 연습해보세요\n",
    "1. 셀 외부를 클릭 → 명령 모드 (파란색)\n",
    "2. 셀 내부를 클릭 → 편집 모드 (초록색)\n",
    "3. `Esc` 키 → 명령 모드로 전환\n",
    "4. `Enter` 키 → 편집 모드로 전환\n"
   ]
  },
  {
   "cell_type": "code",
   "execution_count": null,
   "id": "4d468b2a",
   "metadata": {},
   "outputs": [],
   "source": [
    "# 모드 전환 연습용 셀\n",
    "# 이 셀을 클릭하고 Esc/Enter 키로 모드를 전환해보세요\n",
    "\n",
    "print(\"현재 편집 모드입니다 🟢\")\n",
    "print(\"Esc 키를 눌러서 명령 모드로 전환해보세요\")\n",
    "print(\"다시 Enter 키를 눌러서 편집 모드로 돌아와보세요\")\n"
   ]
  },
  {
   "cell_type": "markdown",
   "id": "d7c711bd",
   "metadata": {
    "vscode": {
     "languageId": "raw"
    }
   },
   "source": [
    "## 2. 셀 실행 단축키\n",
    "\n",
    "### 가장 중요한 실행 단축키들\n",
    "\n",
    "| 단축키 | 설명 | 모드 |\n",
    "|--------|------|------|\n",
    "| `Shift + Enter` | **셀 실행 후 다음 셀로 이동** | 두 모드 모두 |\n",
    "| `Ctrl + Enter` | **셀 실행 (현재 셀 유지)** | 두 모드 모두 |\n",
    "| `Alt + Enter` | **셀 실행 후 아래에 새 셀 생성** | 두 모드 모두 |\n",
    "\n",
    "### 실행 단축키 연습\n",
    "\n",
    "**연습 2**: 아래 셀에서 각 실행 단축키를 시도해보세요\n",
    "1. `Shift + Enter` - 실행 후 다음 셀로 이동\n",
    "2. `Ctrl + Enter` - 실행 후 현재 셀 유지  \n",
    "3. `Alt + Enter` - 실행 후 새 셀 생성\n"
   ]
  },
  {
   "cell_type": "code",
   "execution_count": null,
   "id": "f55338e0",
   "metadata": {},
   "outputs": [],
   "source": [
    "# 📝 연습 2-1: Shift + Enter 연습\n",
    "# 이 셀에서 Shift + Enter를 눌러보세요\n",
    "\n",
    "import time\n",
    "print(\"Shift + Enter 연습 중...\")\n",
    "print(f\"현재 시간: {time.strftime('%H:%M:%S')}\")\n",
    "print(\"실행 완료! 다음 셀로 이동했나요?\")\n"
   ]
  },
  {
   "cell_type": "code",
   "execution_count": null,
   "id": "ccd4768d",
   "metadata": {},
   "outputs": [],
   "source": [
    "# 📝 연습 2-2: Ctrl + Enter 연습  \n",
    "# 이 셀에서 Ctrl + Enter를 눌러보세요\n",
    "\n",
    "import random\n",
    "number = random.randint(1, 100)\n",
    "print(f\"랜덤 숫자: {number}\")\n",
    "print(\"실행 완료! 현재 셀에 머물러 있나요?\")\n"
   ]
  },
  {
   "cell_type": "code",
   "execution_count": null,
   "id": "562908d9",
   "metadata": {},
   "outputs": [],
   "source": [
    "# 📝 연습 2-3: Alt + Enter 연습\n",
    "# 이 셀에서 Alt + Enter를 눌러보세요\n",
    "\n",
    "print(\"Alt + Enter 연습 중...\")\n",
    "print(\"실행 완료! 아래에 새 셀이 생성되었나요?\")\n",
    "print(\"새로 생성된 셀에 자유롭게 코드를 작성해보세요!\")"
   ]
  },
  {
   "cell_type": "markdown",
   "id": "f655b9a1",
   "metadata": {
    "vscode": {
     "languageId": "raw"
    }
   },
   "source": [
    "## 3. 셀 관리 단축키\n",
    "\n",
    "### 명령 모드에서 사용하는 셀 관리 단축키\n",
    "\n",
    "| 단축키 | 설명 | \n",
    "|--------|------|\n",
    "| `A` | **위에 새 셀 추가** (Above) |\n",
    "| `B` | **아래에 새 셀 추가** (Below) |\n",
    "| `DD` | **셀 삭제** (D를 두 번 빠르게) |\n",
    "| `Z` | **실행 취소** (삭제된 셀 복구) |\n",
    "| `C` | **셀 복사** |\n",
    "| `V` | **셀 붙여넣기** |\n",
    "| `X` | **셀 잘라내기** |\n",
    "\n",
    "### 셀 관리 연습\n",
    "\n",
    "**연습 3**: 명령 모드(파란색)에서 다음 단축키들을 연습해보세요\n",
    "**주의**: 반드시 **명령 모드(Esc 키)**에서 실행하세요!\n"
   ]
  },
  {
   "cell_type": "code",
   "execution_count": null,
   "id": "423f2511",
   "metadata": {},
   "outputs": [],
   "source": [
    "# 📝 연습 3: 셀 관리 연습용 셀\n",
    "# 명령 모드에서 다음 단축키들을 차례로 연습해보세요:\n",
    "\n",
    "print(\"셀 관리 단축키 연습 완료!\")"
   ]
  }
 ],
 "metadata": {
  "kernelspec": {
   "display_name": "Python 3",
   "language": "python",
   "name": "python3"
  },
  "language_info": {
   "codemirror_mode": {
    "name": "ipython",
    "version": 3
   },
   "file_extension": ".py",
   "mimetype": "text/x-python",
   "name": "python",
   "nbconvert_exporter": "python",
   "pygments_lexer": "ipython3",
   "version": "3.11.10"
  }
 },
 "nbformat": 4,
 "nbformat_minor": 5
}
