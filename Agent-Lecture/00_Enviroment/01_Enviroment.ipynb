{
 "cells": [
  {
   "cell_type": "markdown",
   "id": "fe038dc7",
   "metadata": {},
   "source": [
    "## OpenAI API (ChatGPT API)\n",
    "OpenAI API는 클라우드 기반으로 GPT 모델을 활용할 수 있는 서비스입니다.\n",
    "API 키를 통해 다양한 GPT 모델(GPT-3.5, GPT-4 등)에 접근하여 텍스트 생성, 대화, 번역 등의 작업을 수행할 수 있습니다.\n",
    "인터넷 연결이 필요하지만 별도의 하드웨어 요구사항 없이 강력한 AI 모델을 사용할 수 있습니다.\n",
    "\n",
    "\n",
    "### API 키 발급\n",
    "- OpenAI 공식 웹사이트에 접속하여 계정을 생성합니다\n",
    "- https://platform.openai.com\n",
    "\n",
    "### API 키 관리\n",
    "- OpenAI 플랫폼에서 API Keys 섹션으로 이동합니다\n",
    "- 'Create new secret key'를 클릭하여 새로운 API 키를 생성합니다\n",
    "- 생성된 API 키는 안전한 곳에 보관하세요 (다시 확인할 수 없습니다)\n",
    "\n",
    "### 사용 가능한 모델\n",
    "- gpt-3.5-turbo: 빠르고 비용 효율적인 모델\n",
    "- gpt-4: 더 높은 성능의 모델\n",
    "- gpt-4-turbo: 개선된 GPT-4 모델\n",
    "- 모델별 요금과 성능은 OpenAI 공식 문서에서 확인할 수 있습니다"
   ]
  },
  {
   "cell_type": "markdown",
   "id": "5d0a55e2",
   "metadata": {},
   "source": [
    "## OpenAI API 요금 및 사용량 관리\n",
    "- OpenAI API는 사용량에 따라 과금되는 서비스입니다.\n",
    "- 토큰 단위로 계산되며, 입력 토큰과 출력 토큰의 요금이 다를 수 있습니다.\n",
    "\n",
    "## API 사용 제한 설정\n",
    "- 예상치 못한 요금 발생을 방지하기 위해 사용량 제한을 설정할 수 있습니다.\n",
    "\n",
    "### 요금 정책 이해하기   \n",
    "OpenAI API는 모델에 따라 다른 요금 체계를 가지고 있습니다.  \n",
    "- 토큰 수에 따라 비용이 계산되므로 효율적인 프롬프트 작성이 중요합니다.  \n",
    "[참고] - https://openai.com/pricing\n",
    "\n",
    "### API 사용량 모니터링\n",
    "https://platform.openai.com/usage\n",
    "- OpenAI 플랫폼에서 실시간 사용량과 비용을 확인할 수 있습니다.\n",
    "- 일별, 월별 사용량 통계를 제공합니다.\n",
    "\n"
   ]
  },
  {
   "cell_type": "code",
   "execution_count": 1,
   "id": "dc00373f",
   "metadata": {},
   "outputs": [
    {
     "name": "stdout",
     "output_type": "stream",
     "text": [
      "Requirement already satisfied: openai in c:\\users\\jtw57\\miniforge3\\envs\\agentworld\\lib\\site-packages (1.107.3)\n",
      "Requirement already satisfied: langchain-openai in c:\\users\\jtw57\\miniforge3\\envs\\agentworld\\lib\\site-packages (0.3.33)\n",
      "Requirement already satisfied: langchain in c:\\users\\jtw57\\miniforge3\\envs\\agentworld\\lib\\site-packages (0.3.27)\n",
      "Collecting dotenv\n",
      "  Using cached dotenv-0.9.9-py2.py3-none-any.whl.metadata (279 bytes)\n",
      "Requirement already satisfied: anyio<5,>=3.5.0 in c:\\users\\jtw57\\miniforge3\\envs\\agentworld\\lib\\site-packages (from openai) (4.10.0)\n",
      "Requirement already satisfied: distro<2,>=1.7.0 in c:\\users\\jtw57\\miniforge3\\envs\\agentworld\\lib\\site-packages (from openai) (1.9.0)\n",
      "Requirement already satisfied: httpx<1,>=0.23.0 in c:\\users\\jtw57\\miniforge3\\envs\\agentworld\\lib\\site-packages (from openai) (0.28.1)\n",
      "Requirement already satisfied: jiter<1,>=0.4.0 in c:\\users\\jtw57\\miniforge3\\envs\\agentworld\\lib\\site-packages (from openai) (0.11.0)\n",
      "Requirement already satisfied: pydantic<3,>=1.9.0 in c:\\users\\jtw57\\miniforge3\\envs\\agentworld\\lib\\site-packages (from openai) (2.11.9)\n",
      "Requirement already satisfied: sniffio in c:\\users\\jtw57\\miniforge3\\envs\\agentworld\\lib\\site-packages (from openai) (1.3.1)\n",
      "Requirement already satisfied: tqdm>4 in c:\\users\\jtw57\\miniforge3\\envs\\agentworld\\lib\\site-packages (from openai) (4.67.1)\n",
      "Requirement already satisfied: typing-extensions<5,>=4.11 in c:\\users\\jtw57\\miniforge3\\envs\\agentworld\\lib\\site-packages (from openai) (4.15.0)\n",
      "Requirement already satisfied: idna>=2.8 in c:\\users\\jtw57\\miniforge3\\envs\\agentworld\\lib\\site-packages (from anyio<5,>=3.5.0->openai) (3.10)\n",
      "Requirement already satisfied: certifi in c:\\users\\jtw57\\miniforge3\\envs\\agentworld\\lib\\site-packages (from httpx<1,>=0.23.0->openai) (2025.8.3)\n",
      "Requirement already satisfied: httpcore==1.* in c:\\users\\jtw57\\miniforge3\\envs\\agentworld\\lib\\site-packages (from httpx<1,>=0.23.0->openai) (1.0.9)\n",
      "Requirement already satisfied: h11>=0.16 in c:\\users\\jtw57\\miniforge3\\envs\\agentworld\\lib\\site-packages (from httpcore==1.*->httpx<1,>=0.23.0->openai) (0.16.0)\n",
      "Requirement already satisfied: annotated-types>=0.6.0 in c:\\users\\jtw57\\miniforge3\\envs\\agentworld\\lib\\site-packages (from pydantic<3,>=1.9.0->openai) (0.7.0)\n",
      "Requirement already satisfied: pydantic-core==2.33.2 in c:\\users\\jtw57\\miniforge3\\envs\\agentworld\\lib\\site-packages (from pydantic<3,>=1.9.0->openai) (2.33.2)\n",
      "Requirement already satisfied: typing-inspection>=0.4.0 in c:\\users\\jtw57\\miniforge3\\envs\\agentworld\\lib\\site-packages (from pydantic<3,>=1.9.0->openai) (0.4.1)\n",
      "Requirement already satisfied: langchain-core<1.0.0,>=0.3.76 in c:\\users\\jtw57\\miniforge3\\envs\\agentworld\\lib\\site-packages (from langchain-openai) (0.3.76)\n",
      "Requirement already satisfied: tiktoken<1,>=0.7 in c:\\users\\jtw57\\miniforge3\\envs\\agentworld\\lib\\site-packages (from langchain-openai) (0.11.0)\n",
      "Requirement already satisfied: langsmith>=0.3.45 in c:\\users\\jtw57\\miniforge3\\envs\\agentworld\\lib\\site-packages (from langchain-core<1.0.0,>=0.3.76->langchain-openai) (0.4.28)\n",
      "Requirement already satisfied: tenacity!=8.4.0,<10.0.0,>=8.1.0 in c:\\users\\jtw57\\miniforge3\\envs\\agentworld\\lib\\site-packages (from langchain-core<1.0.0,>=0.3.76->langchain-openai) (9.1.2)\n",
      "Requirement already satisfied: jsonpatch<2.0,>=1.33 in c:\\users\\jtw57\\miniforge3\\envs\\agentworld\\lib\\site-packages (from langchain-core<1.0.0,>=0.3.76->langchain-openai) (1.33)\n",
      "Requirement already satisfied: PyYAML>=5.3 in c:\\users\\jtw57\\miniforge3\\envs\\agentworld\\lib\\site-packages (from langchain-core<1.0.0,>=0.3.76->langchain-openai) (6.0.2)\n",
      "Requirement already satisfied: packaging>=23.2 in c:\\users\\jtw57\\miniforge3\\envs\\agentworld\\lib\\site-packages (from langchain-core<1.0.0,>=0.3.76->langchain-openai) (25.0)\n",
      "Requirement already satisfied: jsonpointer>=1.9 in c:\\users\\jtw57\\miniforge3\\envs\\agentworld\\lib\\site-packages (from jsonpatch<2.0,>=1.33->langchain-core<1.0.0,>=0.3.76->langchain-openai) (3.0.0)\n",
      "Requirement already satisfied: regex>=2022.1.18 in c:\\users\\jtw57\\miniforge3\\envs\\agentworld\\lib\\site-packages (from tiktoken<1,>=0.7->langchain-openai) (2025.9.1)\n",
      "Requirement already satisfied: requests>=2.26.0 in c:\\users\\jtw57\\miniforge3\\envs\\agentworld\\lib\\site-packages (from tiktoken<1,>=0.7->langchain-openai) (2.32.5)\n",
      "Requirement already satisfied: langchain-text-splitters<1.0.0,>=0.3.9 in c:\\users\\jtw57\\miniforge3\\envs\\agentworld\\lib\\site-packages (from langchain) (0.3.11)\n",
      "Requirement already satisfied: SQLAlchemy<3,>=1.4 in c:\\users\\jtw57\\miniforge3\\envs\\agentworld\\lib\\site-packages (from langchain) (2.0.43)\n",
      "Requirement already satisfied: charset_normalizer<4,>=2 in c:\\users\\jtw57\\miniforge3\\envs\\agentworld\\lib\\site-packages (from requests>=2.26.0->tiktoken<1,>=0.7->langchain-openai) (3.4.3)\n",
      "Requirement already satisfied: urllib3<3,>=1.21.1 in c:\\users\\jtw57\\miniforge3\\envs\\agentworld\\lib\\site-packages (from requests>=2.26.0->tiktoken<1,>=0.7->langchain-openai) (2.5.0)\n",
      "Requirement already satisfied: greenlet>=1 in c:\\users\\jtw57\\miniforge3\\envs\\agentworld\\lib\\site-packages (from SQLAlchemy<3,>=1.4->langchain) (3.2.4)\n",
      "Requirement already satisfied: python-dotenv in c:\\users\\jtw57\\miniforge3\\envs\\agentworld\\lib\\site-packages (from dotenv) (1.1.1)\n",
      "Requirement already satisfied: orjson>=3.9.14 in c:\\users\\jtw57\\miniforge3\\envs\\agentworld\\lib\\site-packages (from langsmith>=0.3.45->langchain-core<1.0.0,>=0.3.76->langchain-openai) (3.11.3)\n",
      "Requirement already satisfied: requests-toolbelt>=1.0.0 in c:\\users\\jtw57\\miniforge3\\envs\\agentworld\\lib\\site-packages (from langsmith>=0.3.45->langchain-core<1.0.0,>=0.3.76->langchain-openai) (1.0.0)\n",
      "Requirement already satisfied: zstandard>=0.23.0 in c:\\users\\jtw57\\miniforge3\\envs\\agentworld\\lib\\site-packages (from langsmith>=0.3.45->langchain-core<1.0.0,>=0.3.76->langchain-openai) (0.25.0)\n",
      "Requirement already satisfied: colorama in c:\\users\\jtw57\\miniforge3\\envs\\agentworld\\lib\\site-packages (from tqdm>4->openai) (0.4.6)\n",
      "Using cached dotenv-0.9.9-py2.py3-none-any.whl (1.9 kB)\n",
      "Installing collected packages: dotenv\n",
      "Successfully installed dotenv-0.9.9\n",
      "Note: you may need to restart the kernel to use updated packages.\n"
     ]
    }
   ],
   "source": [
    "%pip install openai langchain-openai langchain dotenv"
   ]
  },
  {
   "cell_type": "code",
   "execution_count": 2,
   "id": "24b2a311",
   "metadata": {},
   "outputs": [
    {
     "name": "stdout",
     "output_type": "stream",
     "text": [
      "OPENAI_API_KEY가 설정되어 있나요?: sk-proj-WS...\n"
     ]
    }
   ],
   "source": [
    "import os\n",
    "from dotenv import load_dotenv\n",
    "\n",
    "# .env 파일에서 환경변수 로드\n",
    "load_dotenv()\n",
    "\n",
    "# OpenAI API 환경변수 값 확인\n",
    "openai_api_key = os.getenv('OPENAI_API_KEY')\n",
    "print(f\"OPENAI_API_KEY가 설정되어 있나요?: {openai_api_key[:10]}...\")"
   ]
  },
  {
   "cell_type": "markdown",
   "id": "1694deb2",
   "metadata": {},
   "source": [
    "OpenAI API를 이용해 테스트해보기"
   ]
  },
  {
   "cell_type": "code",
   "execution_count": 5,
   "id": "a2c0c655",
   "metadata": {},
   "outputs": [],
   "source": [
    "from langchain.chat_models import init_chat_model\n",
    "\n",
    "llm = init_chat_model(\"gpt-4o-mini\", model_provider=\"openai\", temperature=0.5)\n",
    "\n",
    "response = llm.invoke(\"Agent에 대해 한줄로 설명해줘\")"
   ]
  },
  {
   "cell_type": "code",
   "execution_count": 6,
   "id": "99dddd58",
   "metadata": {},
   "outputs": [
    {
     "data": {
      "text/plain": [
       "'Agent는 특정한 환경에서 주어진 목표를 달성하기 위해 행동하는 자율적인 프로그램이나 시스템입니다.'"
      ]
     },
     "execution_count": 6,
     "metadata": {},
     "output_type": "execute_result"
    }
   ],
   "source": [
    "response.content"
   ]
  }
 ],
 "metadata": {
  "kernelspec": {
   "display_name": "agentworld",
   "language": "python",
   "name": "python3"
  },
  "language_info": {
   "codemirror_mode": {
    "name": "ipython",
    "version": 3
   },
   "file_extension": ".py",
   "mimetype": "text/x-python",
   "name": "python",
   "nbconvert_exporter": "python",
   "pygments_lexer": "ipython3",
   "version": "3.12.11"
  }
 },
 "nbformat": 4,
 "nbformat_minor": 5
}
