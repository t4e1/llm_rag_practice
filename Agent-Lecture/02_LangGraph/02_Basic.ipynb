{
  "cells": [
    {
      "cell_type": "markdown",
      "metadata": {},
      "source": [
        "## Node\n",
        "**Node**는 LangGraph에서 **개별 작업을 수행하는 기본 단위**입니다.   \n",
        "각 노드는 현재 상태를 입력으로 받아 특정 작업을 수행한 후, 결과를 상태에 반영합니다.\n",
        "\n",
        "### Node의 핵심 특징\n",
        "\n",
        "#### 1. **독립성 (Independence)**\n",
        "- 각 노드는 독립적으로 정의되고 실행됩니다\n",
        "- 다른 노드에 의존하지 않고 자체적인 로직을 가집니다\n",
        "\n",
        "#### 2. **입출력 (Input/Output)**\n",
        "- **입력**: 현재 상태(State) 객체\n",
        "- **출력**: 업데이트된 상태(State) 객체\n",
        "\n",
        "#### 3. **재사용성 (Reusability)**\n",
        "- 동일한 노드를 여러 그래프에서 재사용 가능\n",
        "- 모듈화된 설계로 유지보수 용이\n",
        "\n",
        "### Node의 기본 구조\n",
        "\n",
        "```python\n",
        "def my_node(state):\n",
        "    # 1. 상태에서 필요한 데이터 추출\n",
        "    input_data = state.get(\"some_key\")\n",
        "    \n",
        "    # 2. 작업 수행 (예: 데이터 처리, LLM 호출, API 호출 등)\n",
        "    result = process_data(input_data)\n",
        "    \n",
        "    # 3. 결과를 상태에 반영\n",
        "    state[\"output_key\"] = result\n",
        "    \n",
        "    # 4. 업데이트된 상태 반환\n",
        "    return state\n",
        "```\n",
        "\n",
        "### Node가 수행할 수 있는 작업들\n",
        "\n",
        "1. **LLM 호출**\n",
        "   - ChatGPT, Claude 등의 언어 모델 호출\n",
        "   - 프롬프트 처리 및 응답 생성\n",
        "\n",
        "2. **데이터 처리**\n",
        "   - 텍스트 가공, 형식 변환\n",
        "   - 계산 및 분석 작업\n",
        "\n",
        "3. **외부 API 호출**\n",
        "   - 웹 검색, 데이터베이스 조회\n",
        "   - 외부 서비스 통합\n",
        "\n",
        "4. **도구 사용**\n",
        "   - 계산기, 달력, 파일 시스템 접근\n",
        "   - 전문 도구 및 라이브러리 활용\n",
        "\n",
        "5. **조건 판단**\n",
        "   - 상태 확인 및 분기 결정\n",
        "   - 품질 검증 및 오류 처리\n",
        "\n",
        "> **Node 설계 팁**\n",
        "> - Node는 단일 책임 원칙(Single Responsibility Principle)을 따르는 것이 좋습니다\n",
        "> - 너무 큰 기능을 하나의 Node에 담지 말고, 작은 단위로 나누어 구현하세요\n",
        "> - 작은 단위로 구성할수록 재사용성이 높아지고 디버깅이 쉬워집니다\n",
        "\n"
      ]
    },
    {
      "cell_type": "code",
      "execution_count": 1,
      "metadata": {},
      "outputs": [
        {
          "name": "stdout",
          "output_type": "stream",
          "text": [
            "Collecting langgraph\n",
            "  Downloading langgraph-0.6.7-py3-none-any.whl.metadata (6.8 kB)\n",
            "Requirement already satisfied: langchain-core>=0.1 in c:\\users\\jtw57\\miniforge3\\envs\\agentworld\\lib\\site-packages (from langgraph) (0.3.76)\n",
            "Collecting langgraph-checkpoint<3.0.0,>=2.1.0 (from langgraph)\n",
            "  Downloading langgraph_checkpoint-2.1.1-py3-none-any.whl.metadata (4.2 kB)\n",
            "Collecting langgraph-prebuilt<0.7.0,>=0.6.0 (from langgraph)\n",
            "  Downloading langgraph_prebuilt-0.6.4-py3-none-any.whl.metadata (4.5 kB)\n",
            "Collecting langgraph-sdk<0.3.0,>=0.2.2 (from langgraph)\n",
            "  Downloading langgraph_sdk-0.2.8-py3-none-any.whl.metadata (1.5 kB)\n",
            "Requirement already satisfied: pydantic>=2.7.4 in c:\\users\\jtw57\\miniforge3\\envs\\agentworld\\lib\\site-packages (from langgraph) (2.11.9)\n",
            "Collecting xxhash>=3.5.0 (from langgraph)\n",
            "  Downloading xxhash-3.5.0-cp312-cp312-win_amd64.whl.metadata (13 kB)\n",
            "Collecting ormsgpack>=1.10.0 (from langgraph-checkpoint<3.0.0,>=2.1.0->langgraph)\n",
            "  Downloading ormsgpack-1.10.0-cp312-cp312-win_amd64.whl.metadata (44 kB)\n",
            "Requirement already satisfied: httpx>=0.25.2 in c:\\users\\jtw57\\miniforge3\\envs\\agentworld\\lib\\site-packages (from langgraph-sdk<0.3.0,>=0.2.2->langgraph) (0.28.1)\n",
            "Requirement already satisfied: orjson>=3.10.1 in c:\\users\\jtw57\\miniforge3\\envs\\agentworld\\lib\\site-packages (from langgraph-sdk<0.3.0,>=0.2.2->langgraph) (3.11.3)\n",
            "Requirement already satisfied: anyio in c:\\users\\jtw57\\miniforge3\\envs\\agentworld\\lib\\site-packages (from httpx>=0.25.2->langgraph-sdk<0.3.0,>=0.2.2->langgraph) (4.10.0)\n",
            "Requirement already satisfied: certifi in c:\\users\\jtw57\\miniforge3\\envs\\agentworld\\lib\\site-packages (from httpx>=0.25.2->langgraph-sdk<0.3.0,>=0.2.2->langgraph) (2025.8.3)\n",
            "Requirement already satisfied: httpcore==1.* in c:\\users\\jtw57\\miniforge3\\envs\\agentworld\\lib\\site-packages (from httpx>=0.25.2->langgraph-sdk<0.3.0,>=0.2.2->langgraph) (1.0.9)\n",
            "Requirement already satisfied: idna in c:\\users\\jtw57\\miniforge3\\envs\\agentworld\\lib\\site-packages (from httpx>=0.25.2->langgraph-sdk<0.3.0,>=0.2.2->langgraph) (3.10)\n",
            "Requirement already satisfied: h11>=0.16 in c:\\users\\jtw57\\miniforge3\\envs\\agentworld\\lib\\site-packages (from httpcore==1.*->httpx>=0.25.2->langgraph-sdk<0.3.0,>=0.2.2->langgraph) (0.16.0)\n",
            "Requirement already satisfied: langsmith>=0.3.45 in c:\\users\\jtw57\\miniforge3\\envs\\agentworld\\lib\\site-packages (from langchain-core>=0.1->langgraph) (0.4.28)\n",
            "Requirement already satisfied: tenacity!=8.4.0,<10.0.0,>=8.1.0 in c:\\users\\jtw57\\miniforge3\\envs\\agentworld\\lib\\site-packages (from langchain-core>=0.1->langgraph) (9.1.2)\n",
            "Requirement already satisfied: jsonpatch<2.0,>=1.33 in c:\\users\\jtw57\\miniforge3\\envs\\agentworld\\lib\\site-packages (from langchain-core>=0.1->langgraph) (1.33)\n",
            "Requirement already satisfied: PyYAML>=5.3 in c:\\users\\jtw57\\miniforge3\\envs\\agentworld\\lib\\site-packages (from langchain-core>=0.1->langgraph) (6.0.2)\n",
            "Requirement already satisfied: typing-extensions>=4.7 in c:\\users\\jtw57\\miniforge3\\envs\\agentworld\\lib\\site-packages (from langchain-core>=0.1->langgraph) (4.15.0)\n",
            "Requirement already satisfied: packaging>=23.2 in c:\\users\\jtw57\\miniforge3\\envs\\agentworld\\lib\\site-packages (from langchain-core>=0.1->langgraph) (25.0)\n",
            "Requirement already satisfied: jsonpointer>=1.9 in c:\\users\\jtw57\\miniforge3\\envs\\agentworld\\lib\\site-packages (from jsonpatch<2.0,>=1.33->langchain-core>=0.1->langgraph) (3.0.0)\n",
            "Requirement already satisfied: requests-toolbelt>=1.0.0 in c:\\users\\jtw57\\miniforge3\\envs\\agentworld\\lib\\site-packages (from langsmith>=0.3.45->langchain-core>=0.1->langgraph) (1.0.0)\n",
            "Requirement already satisfied: requests>=2.0.0 in c:\\users\\jtw57\\miniforge3\\envs\\agentworld\\lib\\site-packages (from langsmith>=0.3.45->langchain-core>=0.1->langgraph) (2.32.5)\n",
            "Requirement already satisfied: zstandard>=0.23.0 in c:\\users\\jtw57\\miniforge3\\envs\\agentworld\\lib\\site-packages (from langsmith>=0.3.45->langchain-core>=0.1->langgraph) (0.25.0)\n",
            "Requirement already satisfied: annotated-types>=0.6.0 in c:\\users\\jtw57\\miniforge3\\envs\\agentworld\\lib\\site-packages (from pydantic>=2.7.4->langgraph) (0.7.0)\n",
            "Requirement already satisfied: pydantic-core==2.33.2 in c:\\users\\jtw57\\miniforge3\\envs\\agentworld\\lib\\site-packages (from pydantic>=2.7.4->langgraph) (2.33.2)\n",
            "Requirement already satisfied: typing-inspection>=0.4.0 in c:\\users\\jtw57\\miniforge3\\envs\\agentworld\\lib\\site-packages (from pydantic>=2.7.4->langgraph) (0.4.1)\n",
            "Requirement already satisfied: charset_normalizer<4,>=2 in c:\\users\\jtw57\\miniforge3\\envs\\agentworld\\lib\\site-packages (from requests>=2.0.0->langsmith>=0.3.45->langchain-core>=0.1->langgraph) (3.4.3)\n",
            "Requirement already satisfied: urllib3<3,>=1.21.1 in c:\\users\\jtw57\\miniforge3\\envs\\agentworld\\lib\\site-packages (from requests>=2.0.0->langsmith>=0.3.45->langchain-core>=0.1->langgraph) (2.5.0)\n",
            "Requirement already satisfied: sniffio>=1.1 in c:\\users\\jtw57\\miniforge3\\envs\\agentworld\\lib\\site-packages (from anyio->httpx>=0.25.2->langgraph-sdk<0.3.0,>=0.2.2->langgraph) (1.3.1)\n",
            "Downloading langgraph-0.6.7-py3-none-any.whl (153 kB)\n",
            "Downloading langgraph_checkpoint-2.1.1-py3-none-any.whl (43 kB)\n",
            "Downloading langgraph_prebuilt-0.6.4-py3-none-any.whl (28 kB)\n",
            "Downloading langgraph_sdk-0.2.8-py3-none-any.whl (56 kB)\n",
            "Downloading ormsgpack-1.10.0-cp312-cp312-win_amd64.whl (121 kB)\n",
            "Downloading xxhash-3.5.0-cp312-cp312-win_amd64.whl (30 kB)\n",
            "Installing collected packages: xxhash, ormsgpack, langgraph-sdk, langgraph-checkpoint, langgraph-prebuilt, langgraph\n",
            "\n",
            "   ------------- -------------------------- 2/6 [langgraph-sdk]\n",
            "   -------------------- ------------------- 3/6 [langgraph-checkpoint]\n",
            "   -------------------------- ------------- 4/6 [langgraph-prebuilt]\n",
            "   --------------------------------- ------ 5/6 [langgraph]\n",
            "   --------------------------------- ------ 5/6 [langgraph]\n",
            "   --------------------------------- ------ 5/6 [langgraph]\n",
            "   --------------------------------- ------ 5/6 [langgraph]\n",
            "   ---------------------------------------- 6/6 [langgraph]\n",
            "\n",
            "Successfully installed langgraph-0.6.7 langgraph-checkpoint-2.1.1 langgraph-prebuilt-0.6.4 langgraph-sdk-0.2.8 ormsgpack-1.10.0 xxhash-3.5.0\n",
            "Note: you may need to restart the kernel to use updated packages.\n"
          ]
        }
      ],
      "source": [
        "%pip install langgraph"
      ]
    },
    {
      "cell_type": "markdown",
      "metadata": {},
      "source": [
        "### TypedDict 란?\n",
        "딕셔너리의 키(key)와 그에 해당하는 값(value)의 타입을 명시적으로 지정할 수 있게 해주는 도구  \n",
        "딕셔너리를 사용하되, 특정 키에는 특정 타입의 값만 들어가도록 구조를 정의하고 싶을 때 사용  \n",
        "\n",
        "**특징**\n",
        "- 정적 타입 체커이기 때문에 런타임에는 일반 딕셔너리랑 동일하게 작동\n",
        "- mypy를 사용하거나 IDE의 타입 체킹기능을 On하면 확인 가능\n",
        "\n",
        "  \n",
        "  \n",
        "> **VS코드 타입체커 사용법**\n",
        "> 1. ctrl + , (기본설정 -> 설정 이동)\n",
        "> 2. Type Checking Mode 검색\n",
        "> 3. Pylance의 Checking Mode \"basic\"으로 설정"
      ]
    },
    {
      "cell_type": "code",
      "execution_count": 2,
      "metadata": {},
      "outputs": [],
      "source": [
        "from typing import Dict, TypedDict\n",
        "\n",
        "# 일반적인 파이썬 딕셔너리\n",
        "normal_dict: Dict[str, str] = {\n",
        "    \"name\": \"bear\", \n",
        "    \"age\": \"20\",\n",
        "    \"job\": \"강사\"\n",
        "}\n",
        "\n",
        "# TypedDict로 정의한 딕셔너리\n",
        "class Person(TypedDict):\n",
        "    name: str\n",
        "    age: int \n",
        "    job: str\n",
        "\n",
        "typed_dict: Person = {\n",
        "    \"name\": \"bear\",\n",
        "    \"age\": 20, \n",
        "    \"job\": \"강사\"\n",
        "}"
      ]
    },
    {
      "cell_type": "code",
      "execution_count": 3,
      "metadata": {},
      "outputs": [
        {
          "name": "stdout",
          "output_type": "stream",
          "text": [
            "{'name': 'bear', 'age': 30, 'job': '강사', 'new': '추가적인 내용'}\n"
          ]
        }
      ],
      "source": [
        "# 일반 dict의 경우\n",
        "normal_dict[\"age\"] = 30 # 문자열에서 정수로 변경되어도 문제 없음.\n",
        "normal_dict[\"new\"] = \"추가적인 내용\" # 새필드 추가가능\n",
        "\n",
        "print(normal_dict)"
      ]
    },
    {
      "cell_type": "code",
      "execution_count": 6,
      "metadata": {},
      "outputs": [
        {
          "name": "stdout",
          "output_type": "stream",
          "text": [
            "{'name': 'bear', 'age': 30, 'job': '강사'}\n",
            "{'name': 'bear', 'age': '30', 'job': '강사'}\n"
          ]
        }
      ],
      "source": [
        "#TypedDict의 경우\n",
        "typed_dict[\"age\"] = 30 # 정수형으로 올바르게 사용\n",
        "print(typed_dict)\n",
        "\n",
        "typed_dict[\"age\"] = \"30\" \n",
        "print(typed_dict)"
      ]
    },
    {
      "cell_type": "markdown",
      "metadata": {},
      "source": [
        "1. 상태(State) 정의하기\n",
        "- State는 TypedDict 라는 Python 문법으로 정의한다."
      ]
    },
    {
      "cell_type": "code",
      "execution_count": 7,
      "metadata": {},
      "outputs": [],
      "source": [
        "# 상태 클래스 정의\n",
        "class State(TypedDict):\n",
        "    \"\"\"\n",
        "    그래프에서 사용할 상태 정의\n",
        "    - input_text: 입력 텍스트\n",
        "    - processed_text: 처리된 텍스트\n",
        "    - word_count: 단어 수\n",
        "    \"\"\"\n",
        "    input_text: str\n",
        "    processed_text: str\n",
        "    word_count: int"
      ]
    },
    {
      "cell_type": "markdown",
      "metadata": {},
      "source": [
        "2. 첫 번째 Node 만들기\n",
        "- 이제 텍스트를 대문자로 변환하는 간단한 노드 만들기"
      ]
    },
    {
      "cell_type": "code",
      "execution_count": 8,
      "metadata": {},
      "outputs": [],
      "source": [
        "# 텍스트를 대문자로 변환해주는 노드\n",
        "def text_processor_node(state: State) -> State:\n",
        "\n",
        "    # 1. 상태에서 입력 텍스트 가져오기\n",
        "    input_text = state[\"input_text\"]\n",
        "    \n",
        "    # 2. 텍스트를 대문자로 변환\n",
        "    processed_text = input_text.upper()\n",
        "    \n",
        "    # 3. 결과를 상태에 저장\n",
        "    state[\"processed_text\"] = processed_text\n",
        "    \n",
        "    return state"
      ]
    },
    {
      "cell_type": "markdown",
      "metadata": {},
      "source": [
        "3. 두 번째 Node 만들기\n",
        "- 이번에는 단어 수를 세는 노드를 만들어보겠습니다.\n"
      ]
    },
    {
      "cell_type": "code",
      "execution_count": 9,
      "metadata": {},
      "outputs": [],
      "source": [
        "# 단어 수를 세는 노드\n",
        "def word_counter_node(state: State) -> State:\n",
        "    \n",
        "    # 1. 처리된 텍스트 가져오기\n",
        "    processed_text = state[\"processed_text\"]\n",
        "    \n",
        "    # 2. 단어 수 계산\n",
        "    word_count = len(processed_text.split())\n",
        "    \n",
        "    # 3. 결과를 상태에 저장\n",
        "    state[\"word_count\"] = word_count\n",
        "    \n",
        "    return state\n"
      ]
    },
    {
      "cell_type": "markdown",
      "metadata": {},
      "source": [
        "4. 그래프 구성하기"
      ]
    },
    {
      "cell_type": "code",
      "execution_count": 10,
      "metadata": {},
      "outputs": [],
      "source": [
        "from langgraph.graph import StateGraph, START, END\n",
        "\n",
        "# 1. 그래프 생성\n",
        "workflow = StateGraph(State)\n",
        "\n",
        "# 2. 노드들을 그래프에 추가\n",
        "workflow.add_node(\"text_processor\", text_processor_node)\n",
        "workflow.add_node(\"word_counter\", word_counter_node)\n",
        "\n",
        "# 3. 엣지(연결) 설정\n",
        "workflow.add_edge(START, \"text_processor\")  # 시작 → 텍스트 처리\n",
        "workflow.add_edge(\"text_processor\", \"word_counter\")  # 텍스트 처리 → 단어 카운터\n",
        "workflow.add_edge(\"word_counter\", END)  # 단어 카운터 → 끝\n",
        "\n",
        "# 4. 그래프 컴파일\n",
        "graph = workflow.compile()"
      ]
    },
    {
      "cell_type": "markdown",
      "metadata": {},
      "source": [
        "5. 그래프 실행하기"
      ]
    },
    {
      "cell_type": "code",
      "execution_count": 12,
      "metadata": {},
      "outputs": [
        {
          "name": "stdout",
          "output_type": "stream",
          "text": [
            "최종 결과:\n",
            "원본 텍스트: 안녕하세요 LangGraph를 배우고 있습니다\n",
            "처리된 텍스트: 안녕하세요 LANGGRAPH를 배우고 있습니다\n",
            "단어 수: 4\n",
            "그래프 실행 완료!\n"
          ]
        }
      ],
      "source": [
        "initial_state = {\n",
        "    \"input_text\": \"안녕하세요 LangGraph를 배우고 있습니다\",\n",
        "    \"processed_text\": \"\",\n",
        "    \"word_count\": 0\n",
        "}\n",
        "\n",
        "# 그래프 실행\n",
        "final_state = graph.invoke(initial_state)\n",
        "\n",
        "print(\"최종 결과:\")\n",
        "print(f\"원본 텍스트: {final_state['input_text']}\")\n",
        "print(f\"처리된 텍스트: {final_state['processed_text']}\")\n",
        "print(f\"단어 수: {final_state['word_count']}\")\n",
        "print(\"그래프 실행 완료!\")\n"
      ]
    },
    {
      "cell_type": "code",
      "execution_count": 11,
      "metadata": {},
      "outputs": [
        {
          "data": {
            "image/png": "[encoded data removed]",
            "text/plain": [
              "<IPython.core.display.Image object>"
            ]
          },
          "metadata": {},
          "output_type": "display_data"
        }
      ],
      "source": [
        "from IPython.display import Image, display\n",
        "\n",
        "try:\n",
        "    display(Image(graph.get_graph().draw_mermaid_png()))\n",
        "except Exception:\n",
        "    pass"
      ]
    }
  ],
  "metadata": {
    "kernelspec": {
      "display_name": "agentworld",
      "language": "python",
      "name": "python3"
    },
    "language_info": {
      "codemirror_mode": {
        "name": "ipython",
        "version": 3
      },
      "file_extension": ".py",
      "mimetype": "text/x-python",
      "name": "python",
      "nbconvert_exporter": "python",
      "pygments_lexer": "ipython3",
      "version": "3.12.11"
    }
  },
  "nbformat": 4,
  "nbformat_minor": 2
}
