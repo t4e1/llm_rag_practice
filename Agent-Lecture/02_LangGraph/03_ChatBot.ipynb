{
 "cells": [
  {
   "cell_type": "markdown",
   "id": "7541e17d",
   "metadata": {},
   "source": [
    "# LangGraph ChatBot 구축\n",
    "\n",
    "#### add_message\n",
    "**add_message**는 LangGraph에서 메시지 기반 애플리케이션을 구축할 때 사용하는 **특별한 reducer 함수**  \n",
    "\n",
    "**주요기능**\n",
    "- 두개의 메시지 리스트를 병합\n",
    "- 동일한 ID를 가진 메시지가 있을 경우 새로운 메시지로 기존 메시지를 대체\n",
    "\n",
    "**주요인자**\n",
    "- left(messages) : 기본 메시지 리스트\n",
    "- right(messages) : 병합할 리스트 또는 단일 메시지"
   ]
  },
  {
   "cell_type": "code",
   "execution_count": null,
   "id": "517880be",
   "metadata": {},
   "outputs": [],
   "source": [
    "from langchain_core.messages import HumanMessage, AIMessage\n",
    "from langgraph.graph import add_messages\n",
    "\n",
    "human_message = [HumanMessage(content=\"안녕하세요!\", id=\"1\")]\n",
    "ai_message = [AIMessage(content=\"안녕하세요! 무엇을 도와드릴까요?\", id=\"2\")]\n",
    "\n",
    "messages = add_messages(human_message, ai_message)\n",
    "print(messages)"
   ]
  },
  {
   "cell_type": "markdown",
   "id": "f72d817b",
   "metadata": {},
   "source": [
    "동일한 메시지 id가 있을 경우 가 있을 경우 대체됨"
   ]
  },
  {
   "cell_type": "code",
   "execution_count": null,
   "id": "e5584ac2",
   "metadata": {},
   "outputs": [],
   "source": [
    "human_message = [HumanMessage(content=\"야식 뭐먹을까요?\", id=\"1\")]\n",
    "\n",
    "result = add_messages(messages, human_message)\n",
    "\n",
    "print(result)"
   ]
  },
  {
   "cell_type": "markdown",
   "id": "27fb5a3f",
   "metadata": {},
   "source": [
    "### add_messages의 핵심 구조\n",
    "\n",
    "```python\n",
    "from typing import Annotated\n",
    "from langgraph.graph.message import add_messages\n",
    "\n",
    "class State(TypedDict):\n",
    "    messages: Annotated[list[AnyMessage], add_messages]\n",
    "```\n",
    "\n",
    "- \"messages\"키는 add_messages 리듀서라는 함수에 주석이 달려있어 \n",
    "- LangGraph한테 기존 목록에 새로운 메시지를 추가하도록 지시하는 역할을 해줌\n",
    "\n",
    "#### 구조 분석\n",
    "\n",
    "1. **`messages`**: 메시지들을 저장할 필드\n",
    "2. **`list[AnyMessage]`**: 모든 종류의 메시지를 담을 수 있는 리스트\n",
    "3. **`Annotated[..., add_messages]`**: `add_messages` reducer를 사용하여 메시지 추가\n",
    "\n",
    "\n",
    "> **Annotated**\n",
    "> - Python의 typing 모듈에서 제공하는 타입 힌트, 기존 타입에 메타데이터를 추가가능\n",
    "> - 코드 자체에 추가설명을 포함시켜 문서화하는 효과를 얻기 위해 사용\n",
    "> - LangGraph에서는 Annotated를 사용하여 에이전트가 어떻게 합치고 저장해나갈지 선언적으로 정의할 수 있음.\n",
    "\n",
    "\n",
    "#### 메시지 타입들\n",
    "\n",
    "- **`HumanMessage`**: 사용자가 보낸 메시지\n",
    "- **`AIMessage`**: AI가 생성한 응답 메시지\n",
    "- **`SystemMessage`**: 시스템 설정 메시지\n",
    "- **`ToolMessage`**: 도구 실행 결과 메시지\n"
   ]
  },
  {
   "cell_type": "markdown",
   "id": "c953da21",
   "metadata": {},
   "source": [
    "다음은 add_Messages를 활용해 ChatBot을 만드는 예제입니다."
   ]
  },
  {
   "cell_type": "markdown",
   "id": "7a8c78dd",
   "metadata": {},
   "source": [
    "**1. Messages State 정의하기**\n",
    "\n",
    "ChatBot을 만들기 위해서는 먼저 **메시지를 저장할 수 있는 상태**를 정의해야 합니다."
   ]
  },
  {
   "cell_type": "code",
   "execution_count": null,
   "id": "b1567539",
   "metadata": {},
   "outputs": [],
   "source": [
    "from typing import Annotated, TypedDict\n",
    "from langchain_core.messages import AnyMessage, HumanMessage, AIMessage\n",
    "\n",
    "# ChatBot을 위한 State 정의\n",
    "class State(TypedDict):\n",
    "    messages: Annotated[list[AnyMessage], add_messages]\n"
   ]
  },
  {
   "cell_type": "markdown",
   "id": "46f9d9ec",
   "metadata": {},
   "source": [
    "add_messages 동작 확인해보기\n",
    "\n",
    "실제로 add_messages가 어떻게 동작하는지 확인해보겠습니다."
   ]
  },
  {
   "cell_type": "markdown",
   "id": "dc122353",
   "metadata": {},
   "source": [
    "**2. ChatBot Node 구현하기**"
   ]
  },
  {
   "cell_type": "code",
   "execution_count": null,
   "id": "0e6dbba2",
   "metadata": {},
   "outputs": [],
   "source": [
    "import os\n",
    "from dotenv import load_dotenv\n",
    "\n",
    "# .env 파일에서 환경변수 로드\n",
    "load_dotenv()\n",
    "\n",
    "# OpenAI API 환경변수 값 확인\n",
    "openai_api_key = os.getenv('OPENAI_API_KEY')\n",
    "print(f\"OPENAI_API_KEY가 설정되어 있나요?: {openai_api_key[:10]}...\")"
   ]
  },
  {
   "cell_type": "code",
   "execution_count": null,
   "id": "7fbf6024",
   "metadata": {},
   "outputs": [],
   "source": [
    "from langchain.chat_models import init_chat_model\n",
    "\n",
    "llm = init_chat_model(\"gpt-4o-mini\", model_provider=\"openai\")"
   ]
  },
  {
   "cell_type": "markdown",
   "id": "9d0999ed",
   "metadata": {},
   "source": [
    "**ChatBot Node 구현**\n",
    "\n",
    "ChatBot Node는 다음과 같은 역할을 수행합니다:\n",
    "1. 현재 상태에서 **모든 메시지**를 가져오기\n",
    "2. LLM에 메시지들을 전달하여 **응답 생성**\n",
    "3. 생성된 응답을 **새로운 AIMessage**로 반환"
   ]
  },
  {
   "cell_type": "code",
   "execution_count": null,
   "id": "665c0387",
   "metadata": {},
   "outputs": [],
   "source": [
    "# ChatBot Node 함수 정의\n",
    "def chatbot_node(state: State):\n",
    "    \n",
    "    # 1. 현재 상태에서 모든 메시지 가져오기\n",
    "    messages = state[\"messages\"]\n",
    "    \n",
    "    # 2. LLM 호출하여 응답 생성\n",
    "    response = llm.invoke(messages)\n",
    "    \n",
    "    # 3. 생성된 응답을 새로운 상태로 반환\n",
    "    # add_messages 덕분에 기존 메시지들이 보존되고 새 응답이 추가됨\n",
    "    return {\"messages\": [response]}"
   ]
  },
  {
   "cell_type": "markdown",
   "id": "97768195",
   "metadata": {},
   "source": [
    "**3. ChatBot 그래프 구축하기**"
   ]
  },
  {
   "cell_type": "code",
   "execution_count": null,
   "id": "4564904f",
   "metadata": {},
   "outputs": [],
   "source": [
    "from langgraph.graph import StateGraph, START, END\n",
    "\n",
    "# ChatBot 그래프 구축\n",
    "    \n",
    "# 1. StateGraph 초기화\n",
    "workflow = StateGraph(State)\n",
    "    \n",
    "# 2. ChatBot Node 추가\n",
    "workflow.add_node(\"chatbot\", chatbot_node)\n",
    "    \n",
    "# 3. 그래프 흐름 설정\n",
    "workflow.add_edge(START, \"chatbot\")  # 시작 → chatbot\n",
    "workflow.add_edge(\"chatbot\", END)    # chatbot → 끝\n",
    "    \n",
    "# 4. 그래프 컴파일\n",
    "graph = workflow.compile()"
   ]
  },
  {
   "cell_type": "markdown",
   "id": "a91c70ae",
   "metadata": {},
   "source": [
    "**4. 그래프 시각화**"
   ]
  },
  {
   "cell_type": "code",
   "execution_count": null,
   "id": "f6c62810",
   "metadata": {},
   "outputs": [],
   "source": [
    "# 그래프 시각화 (선택사항)\n",
    "from IPython.display import Image, display\n",
    "\n",
    "try:\n",
    "    # 그래프 구조를 Mermaid 다이어그램으로 표시\n",
    "    display(Image(graph.get_graph().draw_mermaid_png()))\n",
    "except Exception as e:\n",
    "    pass"
   ]
  },
  {
   "cell_type": "markdown",
   "id": "d3f98915",
   "metadata": {},
   "source": [
    "**ChatBot 실행 및 테스트**"
   ]
  },
  {
   "cell_type": "code",
   "execution_count": null,
   "id": "4798a6fb",
   "metadata": {},
   "outputs": [],
   "source": [
    "# 첫 번째 대화\n",
    "user_input = \"안녕하세요! 자기소개를 해주세요.\"\n",
    "\n",
    "result = graph.invoke({\"messages\": [user_input]})"
   ]
  },
  {
   "cell_type": "code",
   "execution_count": null,
   "id": "ee7f2551",
   "metadata": {},
   "outputs": [],
   "source": [
    "print(result['messages'][-1].content)"
   ]
  },
  {
   "cell_type": "markdown",
   "id": "51086579",
   "metadata": {},
   "source": [
    "**스트리밍(streaming) 실행**  \n",
    "→ 그래프내에서 각 노드가 실행되는 과정을 차례대로 받아올 수 있습니다.  \n",
    "→ 각 노드별 처리과정 (입력 -> 실행 -> 출력)을 하나의 응답으로 스트리밍 해준다."
   ]
  },
  {
   "cell_type": "code",
   "execution_count": null,
   "id": "be9897a5",
   "metadata": {},
   "outputs": [],
   "source": [
    "for event in graph.stream({\"messages\": [(\"user\", user_input)]}, stream_mode=\"values\"):\n",
    "    # 이벤트 값 출력\n",
    "    for key, value in event.items():\n",
    "        print(f\"\\n=================\\nSTEP: {key}\\n=================\\n\")\n",
    "        print(value[-1])"
   ]
  }
 ],
 "metadata": {
  "kernelspec": {
   "display_name": "agentworld",
   "language": "python",
   "name": "python3"
  },
  "language_info": {
   "codemirror_mode": {
    "name": "ipython",
    "version": 3
   },
   "file_extension": ".py",
   "mimetype": "text/x-python",
   "name": "python",
   "nbconvert_exporter": "python",
   "pygments_lexer": "ipython3",
   "version": "3.12.11"
  }
 },
 "nbformat": 4,
 "nbformat_minor": 5
}
