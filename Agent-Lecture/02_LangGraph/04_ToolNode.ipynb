{
 "cells": [
  {
   "cell_type": "markdown",
   "id": "37e1bd23",
   "metadata": {},
   "source": [
    "### ToolNode란?\n",
    "**ToolNode**는 LangGraph에서 **외부 도구들을 실행하는 특별한 노드**입니다.\n",
    "- `자동화된 도구 실행`:  \n",
    "    LLM이 생성한 도구 호출 요청(tool calls)을 감지하고, 해당 도구를 실제로 실행합니다.\n",
    "\n",
    "- `State 업데이트`: \n",
    "    도구 실행 결과를 ToolMessage 형태로 만들어 그래프의 상태(State)에 추가합니다. 이를 통해 에이전트는 도구 사용 결과를 인지하고 다음 단계를 계획할 수 있습니다.\n",
    "\n",
    "- `동시 실행 및 오류 처리`: \n",
    "    여러 도구를 동시에 호출하고 실행할 수 있으며, 도구 실행 중 발생하는 오류를 처리하는 기능도 내장되어 있습니다.\n",
    "\n",
    "#### 동작방식\n",
    "1. `State 입력받기`  \n",
    "    - State를 전달 받고 \n",
    "    - messages리스트의 가장 마지막 메시지를 찾음\n",
    "2. `도구호출 확인`  \n",
    "    - 해당 메시지가 AI 에이전트가 생성한 **AIMesasage** 이고, \n",
    "    - 안에 tool_calls 속성이 포함되어 있는지를 확인\n",
    "3. `도구 실행`  \n",
    "    - tool_calls가 있다면 해당하는 이름과 일치하는 도구를 찾고 실행\n",
    "4. `State 업데이트`\n",
    "    - 실행된 도구의 결과를 받아 **ToolMessage** 라는 형태로 응답\n",
    "    - 실행한 도구이름, 실행결과, tool_call_id"
   ]
  },
  {
   "cell_type": "code",
   "execution_count": null,
   "id": "b99e8a0f",
   "metadata": {},
   "outputs": [],
   "source": [
    "import os\n",
    "from dotenv import load_dotenv\n",
    "\n",
    "# .env 파일에서 환경변수 로드\n",
    "load_dotenv()\n",
    "\n",
    "# OpenAI API 환경변수 값 확인\n",
    "openai_api_key = os.getenv('OPENAI_API_KEY')\n",
    "print(f\"OPENAI_API_KEY가 설정되어 있나요?: {openai_api_key[:10]}...\")"
   ]
  },
  {
   "cell_type": "markdown",
   "id": "ac3cb5fc",
   "metadata": {},
   "source": [
    "**Tavily 검색 도구 설정**"
   ]
  },
  {
   "cell_type": "code",
   "execution_count": null,
   "id": "243726f3",
   "metadata": {},
   "outputs": [],
   "source": [
    "from langchain_community.tools.tavily_search import TavilySearchResults\n",
    "\n",
    "# Tavily 검색 도구 생성\n",
    "tavily_tool = TavilySearchResults(\n",
    "    max_results=3,  # 최대 검색 결과 수\n",
    "    search_depth=\"advanced\",  # 검색 깊이 설정\n",
    "    include_answer=True,  # 직접적인 답변 포함\n",
    "    include_raw_content=False,  # 원본 콘텐츠 제외 (크기 줄이기)\n",
    "    include_images=False  # 이미지 제외\n",
    ")\n",
    "\n",
    "# 도구 목록 생성\n",
    "tools = [tavily_tool]"
   ]
  },
  {
   "cell_type": "markdown",
   "id": "66fcba37",
   "metadata": {},
   "source": [
    "**LLM 모델 설정 및 도구 바인딩**"
   ]
  },
  {
   "cell_type": "code",
   "execution_count": null,
   "id": "4593f190",
   "metadata": {},
   "outputs": [],
   "source": [
    "from langchain.chat_models import init_chat_model\n",
    "\n",
    "# LLM 설정\n",
    "llm = init_chat_model(\"gpt-4o-mini\", model_provider=\"openai\")\n",
    "\n",
    "# 도구바인딩\n",
    "llm_with_tools = llm.bind_tools(tools)"
   ]
  },
  {
   "cell_type": "markdown",
   "id": "55019a14",
   "metadata": {},
   "source": [
    "**Chatbot Node 생성**"
   ]
  },
  {
   "cell_type": "code",
   "execution_count": null,
   "id": "d54b2c3d",
   "metadata": {},
   "outputs": [],
   "source": [
    "# ChatBot Node 함수 정의\n",
    "def chatbot_node(state: State):\n",
    "    \n",
    "    # 1. 현재 상태에서 모든 메시지 가져오기\n",
    "    messages = state[\"messages\"]\n",
    "    \n",
    "    # 2. LLM 호출하여 응답 생성\n",
    "    response = llm_with_tools.invoke(messages)\n",
    "    \n",
    "    # 3. 생성된 응답을 새로운 상태로 반환\n",
    "    return {\"messages\": [response]}"
   ]
  },
  {
   "cell_type": "markdown",
   "id": "e1c969eb",
   "metadata": {},
   "source": [
    "**상태(State) 정의**\n",
    "- 검색 과정에서 필요한 정보를 추적하기 위한 상태를 정의합니다."
   ]
  },
  {
   "cell_type": "code",
   "execution_count": null,
   "id": "dce3cefa",
   "metadata": {},
   "outputs": [],
   "source": [
    "from typing import Annotated, TypedDict\n",
    "from langchain_core.messages import AnyMessage\n",
    "from langgraph.graph.message import add_messages\n",
    "\n",
    "class State(TypedDict):\n",
    "    # 모든 대화 메시지들 (HumanMessage, AIMessage, ToolMessage 등)\n",
    "    messages: Annotated[list[AnyMessage], add_messages]"
   ]
  },
  {
   "cell_type": "markdown",
   "id": "1322f031",
   "metadata": {},
   "source": [
    "**Tool Node**"
   ]
  },
  {
   "cell_type": "code",
   "execution_count": null,
   "id": "6cb31834",
   "metadata": {},
   "outputs": [],
   "source": [
    "from langgraph.prebuilt import ToolNode\n",
    "\n",
    "\n",
    "# ToolNode 초기화\n",
    "tool_node = ToolNode(tools=tools)"
   ]
  },
  {
   "cell_type": "markdown",
   "id": "5ade7534",
   "metadata": {},
   "source": [
    "**그래프 생성**"
   ]
  },
  {
   "cell_type": "code",
   "execution_count": null,
   "id": "cd030106",
   "metadata": {},
   "outputs": [],
   "source": [
    "from langgraph.graph import StateGraph, START, END\n",
    "\n",
    "# 상태 그래프 생성\n",
    "graph_builder = StateGraph(State)\n",
    "\n",
    "# 챗봇 노드 추가\n",
    "graph_builder.add_node(\"chatbot_node\", chatbot_node)\n",
    "\n",
    "# 도구 노드 추가\n",
    "graph_builder.add_node(\"tools\", tool_node)\n",
    "\n",
    "#### 엣지 추가\n",
    "\n",
    "# 시작 엣지 추가\n",
    "graph_builder.add_edge(START, \"chatbot_node\")\n",
    "\n",
    "# 도구 노드에서 챗봇 노드로 엣지 추가\n",
    "graph_builder.add_edge(\"tools\", \"chatbot_node\")\n",
    "\n",
    "# 챗봇 노드에서 종료 엣지 추가\n",
    "graph_builder.add_edge(\"chatbot_node\", END)\n"
   ]
  },
  {
   "cell_type": "markdown",
   "id": "0a33de4b",
   "metadata": {},
   "source": [
    "### 조건부 분기 처리\n",
    "**add_conditional_edges**\n",
    "- 그래프 실행 중 특정 조건에 따라 다음에 실행할 노드를 다르게 연결할 수 있도록 할 수 있다.\n",
    "\n",
    "**tools_condition의 동작 원리**\n",
    "1. 상태(State) 입력받기:  \n",
    "    - 그래프의 현재 상태(State) 객체를 입력으로 받습니다. 이 상태에는 대화 기록(messages)이 포함되어 있습니다.\n",
    "\n",
    "2. 마지막 메시지 확인:  \n",
    "    - 대화 기록(messages) 리스트에서 가장 마지막에 추가된 메시지를 확인합니다.\n",
    "\n",
    "3. tool_calls 속성 검사: \n",
    "    - 만약 마지막 메시지에 tool_calls 속성이 있고, 내용이 비어있지 않다면, tools_condition은 미리 정해진 문자열(일반적으로 도구 실행 노드의 이름, 예: \"tools\")을 반환합니다.\n",
    "    - 만약 tool_calls 속성이 없거나 비어있다면, END를 의미하는 문자열을 반환합니다."
   ]
  },
  {
   "cell_type": "code",
   "execution_count": null,
   "id": "c9326cc4",
   "metadata": {},
   "outputs": [],
   "source": [
    "from langgraph.prebuilt import tools_condition\n",
    "\n",
    "# 조건부 엣지 추가\n",
    "graph_builder.add_conditional_edges(\n",
    "    \"chatbot_node\",\n",
    "    tools_condition # chatbot_node에서 \"tools\"로 갈지, \"END\"로 갈지 결정\n",
    ")\n",
    "\n",
    "# 그래프 컴파일\n",
    "graph = graph_builder.compile()"
   ]
  },
  {
   "cell_type": "markdown",
   "id": "ba1c5bce",
   "metadata": {},
   "source": [
    "**그래프 시각화**"
   ]
  },
  {
   "cell_type": "code",
   "execution_count": null,
   "id": "5786252b",
   "metadata": {},
   "outputs": [],
   "source": [
    "# 그래프 시각화\n",
    "from IPython.display import Image, display\n",
    "\n",
    "try:\n",
    "    # 그래프 구조를 Mermaid 다이어그램으로 표시\n",
    "    display(Image(graph.get_graph().draw_mermaid_png()))\n",
    "except Exception as e:\n",
    "    pass"
   ]
  },
  {
   "cell_type": "code",
   "execution_count": null,
   "id": "650fcabc",
   "metadata": {},
   "outputs": [],
   "source": [
    "user_input = \"HelloworldLab 회사에 대해 알려주세요\"\n",
    "# 그래프 이벤트 스트리밍\n",
    "for event in graph.stream({\"messages\": [(\"user\", user_input)]}, stream_mode=\"values\"):\n",
    "    # 이벤트 값 출력\n",
    "    for key, value in event.items():\n",
    "        print(f\"\\n=================\\nSTEP: {key}\\n=================\\n\")\n",
    "        print(value[-1])"
   ]
  }
 ],
 "metadata": {
  "kernelspec": {
   "display_name": "Python 3",
   "language": "python",
   "name": "python3"
  },
  "language_info": {
   "codemirror_mode": {
    "name": "ipython",
    "version": 3
   },
   "file_extension": ".py",
   "mimetype": "text/x-python",
   "name": "python",
   "nbconvert_exporter": "python",
   "pygments_lexer": "ipython3",
   "version": "3.12.11"
  }
 },
 "nbformat": 4,
 "nbformat_minor": 5
}
