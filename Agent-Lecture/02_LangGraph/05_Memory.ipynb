{
 "cells": [
  {
   "cell_type": "markdown",
   "id": "43fb992a",
   "metadata": {},
   "source": [
    "### Memory 기능과 ToolNode 통합\n",
    "**ToolNode와 Memory 기능**은 LangGraph에서 **이전 대화를 기억하면서 도구를 사용할 수 있는 챗봇**을 만들 수 있게 해줍니다.\n",
    "\n",
    "- `In-Memory Checkpointer`:  \n",
    "    대화 기록을 메모리에 저장하여 세션 동안 이전 대화 내용을 유지합니다.\n",
    "\n",
    "- `RunnableConfig`:  \n",
    "    각 대화 세션을 구분하기 위한 thread_id를 관리하고, 동일한 스레드에서 대화 연속성을 보장합니다.\n",
    "\n",
    "- `도구 실행과 메모리 연동`: \n",
    "    도구 실행 결과도 대화 기록에 포함되어 다음 대화에서 참조할 수 있습니다.\n",
    "\n",
    "#### 메모리 기능의 핵심 구성요소\n",
    "1. `MemorySaver (In-Memory Checkpointer)`  \n",
    "    - 대화 상태를 메모리에 저장하고 관리\n",
    "    - thread_id별로 대화 기록을 분리 저장\n",
    "2. `RunnableConfig`  \n",
    "    - 실행 시 설정 정보 전달\n",
    "    - configurable 옵션으로 thread_id 설정\n",
    "3. `State 관리`\n",
    "    - messages 리스트에 모든 대화 기록 누적\n",
    "    - 도구 실행 결과도 ToolMessage로 저장\n",
    "\n"
   ]
  },
  {
   "cell_type": "code",
   "execution_count": 2,
   "metadata": {},
   "outputs": [
    {
     "name": "stdout",
     "output_type": "stream",
     "text": [
      "OPENAI_API_KEY가 설정되어 있나요?: sk-proj-WS...\n"
     ]
    }
   ],
   "source": [
    "import os\n",
    "from dotenv import load_dotenv\n",
    "\n",
    "# .env 파일에서 환경변수 로드\n",
    "load_dotenv()\n",
    "\n",
    "# OpenAI API 환경변수 값 확인\n",
    "openai_api_key = os.getenv('OPENAI_API_KEY')\n",
    "print(f\"OPENAI_API_KEY가 설정되어 있나요?: {openai_api_key[:10]}...\")\n"
   ]
  },
  {
   "cell_type": "code",
   "execution_count": 3,
   "metadata": {},
   "outputs": [],
   "source": [
    "from langchain_community.tools.tavily_search import TavilySearchResults\n",
    "from langchain.chat_models import init_chat_model\n",
    "\n",
    "\n",
    "# Tavily 검색 도구 생성\n",
    "tavily_tool = TavilySearchResults(\n",
    "    max_results=3,  # 최대 검색 결과 수\n",
    "    search_depth=\"advanced\",  # 검색 깊이 설정\n",
    "    include_answer=True,  # 직접적인 답변 포함\n",
    "    include_raw_content=False,  # 원본 콘텐츠 제외 (크기 줄이기)\n",
    "    include_images=False  # 이미지 제외\n",
    ")\n",
    "\n",
    "# 도구 목록 생성\n",
    "tools = [tavily_tool]\n",
    "\n",
    "# LLM 설정 및 도구바인딩\n",
    "llm = init_chat_model(\"gpt-4o-mini\", model_provider=\"openai\")\n",
    "llm_with_tools = llm.bind_tools(tools)\n"
   ]
  },
  {
   "cell_type": "markdown",
   "id": "c91d39c8",
   "metadata": {},
   "source": [
    "**상태(State) 정의 및 노드 함수 작성**"
   ]
  },
  {
   "cell_type": "code",
   "execution_count": 4,
   "metadata": {},
   "outputs": [],
   "source": [
    "from typing import Annotated, TypedDict\n",
    "from langchain_core.messages import AnyMessage\n",
    "from langgraph.graph.message import add_messages\n",
    "from langgraph.prebuilt import ToolNode\n",
    "\n",
    "class State(TypedDict):\n",
    "    # 모든 대화 메시지들 (HumanMessage, AIMessage, ToolMessage 등)\n",
    "    # add_messages로 메시지를 누적하여 대화 기록 유지\n",
    "    messages: Annotated[list[AnyMessage], add_messages]\n",
    "\n",
    "# ChatBot Node 함수 정의\n",
    "def chatbot_node(state: State):\n",
    "\n",
    "    # 1. 현재 상태에서 모든 메시지 가져오기\n",
    "    messages = state[\"messages\"]\n",
    "    \n",
    "    # 2. LLM 호출하여 응답 생성 (도구 바인딩된 모델 사용)\n",
    "    response = llm_with_tools.invoke(messages)\n",
    "    \n",
    "    # 3. 생성된 응답을 새로운 상태로 반환\n",
    "    return {\"messages\": [response]}\n",
    "\n",
    "# ToolNode 초기화\n",
    "tool_node = ToolNode(tools=tools)\n"
   ]
  },
  {
   "cell_type": "markdown",
   "id": "73273af8",
   "metadata": {},
   "source": [
    "**메모리 기능 추가: In-Memory Checkpointer**"
   ]
  },
  {
   "cell_type": "code",
   "execution_count": 5,
   "metadata": {},
   "outputs": [],
   "source": [
    "# Memory 기능을 위한 import\n",
    "from langgraph.checkpoint.memory import MemorySaver\n",
    "\n",
    "# In-Memory Checkpointer 생성\n",
    "# 메모리에 대화 상태를 저장하여 세션 동안 대화 기록 유지\n",
    "memory = MemorySaver()"
   ]
  },
  {
   "cell_type": "markdown",
   "id": "d6c6a8f0",
   "metadata": {},
   "source": [
    "**그래프 구성 및 메모리 연동**"
   ]
  },
  {
   "cell_type": "code",
   "execution_count": 6,
   "metadata": {},
   "outputs": [],
   "source": [
    "from langgraph.graph import StateGraph, START, END\n",
    "from langgraph.prebuilt import tools_condition\n",
    "\n",
    "# 3. 상태 그래프 생성\n",
    "graph_builder = StateGraph(State)\n",
    "\n",
    "# 4. 노드 추가\n",
    "graph_builder.add_node(\"chatbot_node\", chatbot_node)\n",
    "graph_builder.add_node(\"tools\", tool_node)\n",
    "\n",
    "# 5. 엣지 추가\n",
    "graph_builder.add_edge(START, \"chatbot_node\")\n",
    "graph_builder.add_edge(\"tools\", \"chatbot_node\")\n",
    "\n",
    "# 조건부 엣지 추가 (tool_calls가 있으면 tools로, 없으면 END로)\n",
    "graph_builder.add_conditional_edges(\n",
    "    \"chatbot_node\",\n",
    "    tools_condition  # chatbot_node에서 \"tools\"로 갈지, \"END\"로 갈지 결정\n",
    ")\n",
    "\n",
    "# 중요: 메모리(checkpointer)와 함께 그래프 컴파일\n",
    "# 이렇게 해야 대화 기록이 저장되고 이전 대화를 기억할 수 있습니다\n",
    "graph = graph_builder.compile(checkpointer=memory)"
   ]
  },
  {
   "cell_type": "markdown",
   "id": "c1793c12",
   "metadata": {},
   "source": [
    "**RunnableConfig를 사용한 Thread ID 관리**\n",
    "\n",
    "메모리 기능을 사용하려면 **RunnableConfig**를 통해 **thread_id**를 설정해야 합니다.\n",
    "- 같은 thread_id를 사용하면 이전 대화를 기억합니다\n",
    "- 다른 thread_id를 사용하면 새로운 대화 세션이 시작됩니다\n"
   ]
  },
  {
   "cell_type": "markdown",
   "id": "c9a15189",
   "metadata": {},
   "source": [
    "**메모리 기능 테스트: 이전 대화를 기억하는 챗봇**\n",
    "\n",
    "첫 번째 대화에서 기억을 하는지 확인하고 thread_id를 변경해서 질문해보기\n"
   ]
  },
  {
   "cell_type": "code",
   "execution_count": 7,
   "metadata": {},
   "outputs": [],
   "source": [
    "from langchain_core.runnables import RunnableConfig\n",
    "\n",
    "user1_config = RunnableConfig(\n",
    "    recursion_limit=10,\n",
    "    configurable={\"thread_id\": \"user_session_1\"}\n",
    ")"
   ]
  },
  {
   "cell_type": "code",
   "execution_count": 8,
   "metadata": {},
   "outputs": [
    {
     "name": "stdout",
     "output_type": "stream",
     "text": [
      "==================================\u001b[1m Ai Message \u001b[0m==================================\n",
      "\n",
      "안녕하세요, Bear 강사님! 어떤 도움이 필요하신가요?\n"
     ]
    }
   ],
   "source": [
    "user1_input = \"안녕 나는 bear 강사야\"\n",
    "\n",
    "for event in graph.stream({\"messages\": [(\"user\", user1_input)]}, config=user1_config):\n",
    "    for value in event.values():\n",
    "        value[\"messages\"][-1].pretty_print()"
   ]
  },
  {
   "cell_type": "code",
   "execution_count": 11,
   "id": "e63545c6",
   "metadata": {},
   "outputs": [
    {
     "name": "stdout",
     "output_type": "stream",
     "text": [
      "==================================\u001b[1m Ai Message \u001b[0m==================================\n",
      "\n",
      "당신은 \"bear 강사\"라고 하셨습니다. 추가로 궁금하신 점이나 도움이 필요하신 부분이 있으면 말씀해 주세요!\n"
     ]
    }
   ],
   "source": [
    "user1_input = \"내가 누구라고했지?\"\n",
    "\n",
    "for event in graph.stream({\"messages\": [(\"user\", user1_input)]}, config=user1_config):\n",
    "    for value in event.values():\n",
    "        value[\"messages\"][-1].pretty_print()"
   ]
  },
  {
   "cell_type": "code",
   "execution_count": 12,
   "id": "d9951eb5",
   "metadata": {},
   "outputs": [],
   "source": [
    "user2_config = RunnableConfig(\n",
    "    recursion_limit=10,\n",
    "    configurable={\"thread_id\": \"user_session_2\"}\n",
    ")"
   ]
  },
  {
   "cell_type": "code",
   "execution_count": 13,
   "id": "fd3c3a1f",
   "metadata": {},
   "outputs": [
    {
     "name": "stdout",
     "output_type": "stream",
     "text": [
      "==================================\u001b[1m Ai Message \u001b[0m==================================\n",
      "\n",
      "당신은 자신을 정의할 수 있는 독특한 개인입니다. 어떤 특정한 질문이나 주제에 대해 궁금한 점이 있다면 말씀해 주세요!\n"
     ]
    }
   ],
   "source": [
    "user2_input = \"내가누구라고?\"\n",
    "\n",
    "for event in graph.stream({\"messages\": [(\"user\", user2_input)]}, config=user2_config):\n",
    "    for value in event.values():\n",
    "        value[\"messages\"][-1].pretty_print()"
   ]
  },
  {
   "cell_type": "markdown",
   "id": "7af55ca0",
   "metadata": {},
   "source": [
    "**저장된 대화 기록 확인**  \n",
    "- CheckPoint 에는 현재 상태 값, 해당 구성, 처리할 next 노드가 포함되어있어 확인가능하다."
   ]
  },
  {
   "cell_type": "code",
   "execution_count": 14,
   "id": "42ff04f3",
   "metadata": {},
   "outputs": [
    {
     "data": {
      "text/plain": [
       "[HumanMessage(content='안녕 나는 bear 강사야', additional_kwargs={}, response_metadata={}, id='d9f8d1b3-5494-4dda-ba08-e1a2ccf4fa6f'),\n",
       " AIMessage(content='안녕하세요, Bear 강사님! 어떤 도움이 필요하신가요?', additional_kwargs={'refusal': None}, response_metadata={'token_usage': {'completion_tokens': 17, 'prompt_tokens': 86, 'total_tokens': 103, 'completion_tokens_details': {'accepted_prediction_tokens': 0, 'audio_tokens': 0, 'reasoning_tokens': 0, 'rejected_prediction_tokens': 0}, 'prompt_tokens_details': {'audio_tokens': 0, 'cached_tokens': 0}}, 'model_name': 'gpt-4o-mini-2024-07-18', 'system_fingerprint': 'fp_560af6e559', 'id': 'chatcmpl-CH7XH6uOs5Hf6YppBmRmamsArJ2zD', 'service_tier': 'default', 'finish_reason': 'stop', 'logprobs': None}, id='run--64b546c2-fd41-48a2-9c35-72ce08733571-0', usage_metadata={'input_tokens': 86, 'output_tokens': 17, 'total_tokens': 103, 'input_token_details': {'audio': 0, 'cache_read': 0}, 'output_token_details': {'audio': 0, 'reasoning': 0}}),\n",
       " HumanMessage(content='내가 누구라고했지?', additional_kwargs={}, response_metadata={}, id='293e5b2b-db22-4b5c-8eec-7d1fe75f11ec'),\n",
       " HumanMessage(content='내가 누구라고했지?', additional_kwargs={}, response_metadata={}, id='04f7559f-3427-4053-960a-f7554587a9ff'),\n",
       " AIMessage(content='당신은 \"Bear 강사\"라고 하셨습니다. 어떻게 도와드릴까요?', additional_kwargs={'refusal': None}, response_metadata={'token_usage': {'completion_tokens': 21, 'prompt_tokens': 128, 'total_tokens': 149, 'completion_tokens_details': {'accepted_prediction_tokens': 0, 'audio_tokens': 0, 'reasoning_tokens': 0, 'rejected_prediction_tokens': 0}, 'prompt_tokens_details': {'audio_tokens': 0, 'cached_tokens': 0}}, 'model_name': 'gpt-4o-mini-2024-07-18', 'system_fingerprint': 'fp_560af6e559', 'id': 'chatcmpl-CH7XUAVUpzot8eKaBMyKpXLW5wPas', 'service_tier': 'default', 'finish_reason': 'stop', 'logprobs': None}, id='run--8158fb61-00aa-433a-abb9-4dc45fdc4c07-0', usage_metadata={'input_tokens': 128, 'output_tokens': 21, 'total_tokens': 149, 'input_token_details': {'audio': 0, 'cache_read': 0}, 'output_token_details': {'audio': 0, 'reasoning': 0}}),\n",
       " HumanMessage(content='내가 누구라고했지?', additional_kwargs={}, response_metadata={}, id='1c122948-3f4c-49f2-bd56-b3d623dd3879'),\n",
       " AIMessage(content='당신은 \"bear 강사\"라고 하셨습니다. 추가로 궁금하신 점이나 도움이 필요하신 부분이 있으면 말씀해 주세요!', additional_kwargs={'refusal': None}, response_metadata={'token_usage': {'completion_tokens': 34, 'prompt_tokens': 163, 'total_tokens': 197, 'completion_tokens_details': {'accepted_prediction_tokens': 0, 'audio_tokens': 0, 'reasoning_tokens': 0, 'rejected_prediction_tokens': 0}, 'prompt_tokens_details': {'audio_tokens': 0, 'cached_tokens': 0}}, 'model_name': 'gpt-4o-mini-2024-07-18', 'system_fingerprint': 'fp_560af6e559', 'id': 'chatcmpl-CH7XaSpUdICGf9LoJYLXbwglELEjf', 'service_tier': 'default', 'finish_reason': 'stop', 'logprobs': None}, id='run--e2e17e54-fbdd-41ad-9168-99d59e9a75e9-0', usage_metadata={'input_tokens': 163, 'output_tokens': 34, 'total_tokens': 197, 'input_token_details': {'audio': 0, 'cache_read': 0}, 'output_token_details': {'audio': 0, 'reasoning': 0}})]"
      ]
     },
     "execution_count": 14,
     "metadata": {},
     "output_type": "execute_result"
    }
   ],
   "source": [
    "history = graph.get_state(user1_config)\n",
    "\n",
    "history.values[\"messages\"]"
   ]
  },
  {
   "cell_type": "code",
   "execution_count": 15,
   "id": "414c8851",
   "metadata": {},
   "outputs": [
    {
     "name": "stdout",
     "output_type": "stream",
     "text": [
      "메시지 수:  7 다음 노드:  ()\n",
      "--------------------------------------------------------------------------------\n",
      "메시지 수:  6 다음 노드:  ('chatbot_node',)\n",
      "--------------------------------------------------------------------------------\n",
      "메시지 수:  5 다음 노드:  ('__start__',)\n",
      "--------------------------------------------------------------------------------\n",
      "메시지 수:  5 다음 노드:  ()\n",
      "--------------------------------------------------------------------------------\n",
      "메시지 수:  4 다음 노드:  ('chatbot_node',)\n",
      "--------------------------------------------------------------------------------\n",
      "메시지 수:  3 다음 노드:  ('__start__',)\n",
      "--------------------------------------------------------------------------------\n",
      "메시지 수:  3 다음 노드:  ('chatbot_node',)\n",
      "--------------------------------------------------------------------------------\n",
      "메시지 수:  2 다음 노드:  ('__start__',)\n",
      "--------------------------------------------------------------------------------\n",
      "메시지 수:  2 다음 노드:  ()\n",
      "--------------------------------------------------------------------------------\n",
      "메시지 수:  1 다음 노드:  ('chatbot_node',)\n",
      "--------------------------------------------------------------------------------\n",
      "메시지 수:  0 다음 노드:  ('__start__',)\n",
      "--------------------------------------------------------------------------------\n"
     ]
    }
   ],
   "source": [
    "for state in graph.get_state_history(user1_config):\n",
    "    # 메시지 수 및 다음 상태 출력\n",
    "    print(\"메시지 수: \", len(state.values[\"messages\"]), \"다음 노드: \", state.next)\n",
    "    print(\"-\" * 80)"
   ]
  },
  {
   "cell_type": "code",
   "execution_count": null,
   "id": "2f177b2c",
   "metadata": {},
   "outputs": [],
   "source": []
  }
 ],
 "metadata": {
  "kernelspec": {
   "display_name": "agentworld",
   "language": "python",
   "name": "python3"
  },
  "language_info": {
   "codemirror_mode": {
    "name": "ipython",
    "version": 3
   },
   "file_extension": ".py",
   "mimetype": "text/x-python",
   "name": "python",
   "nbconvert_exporter": "python",
   "pygments_lexer": "ipython3",
   "version": "3.12.11"
  }
 },
 "nbformat": 4,
 "nbformat_minor": 5
}
