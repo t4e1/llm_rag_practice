{
 "cells": [
  {
   "cell_type": "markdown",
   "id": "ed9a9476",
   "metadata": {},
   "source": [
    "## 3.LangSmith\n",
    "- LangChain 어플리케이션의 개발, 테스트, 모니터링 및 배포를 위한 플랫폼\n",
    "- LLM 기반어플리케이션의 전체 생명주기를 관리하는데 도움을 받을 수 있다.\n",
    "### 용도\n",
    "- 디버깅 : 복잡한 LLM 체인과 에이전트의 실행을 추적하고 시각화\n",
    "- 테스팅 : 다양한 입력에 대한 모델의 성능을 평가하고 회귀를 방지\n",
    "- 모니터링 : 프로덕션 환경에서 어플리케이션의 성능과 사용량을 추적\n",
    "\n",
    "#### API KEY 발급 및 적용 방법\n",
    "- 환경변수에 LANGCHAIN_TRACING_V2가 True 설정되어있으면 LangChain에서 환경변수에 존재하는 LANGCHAIN_API_KEY 와 LANGSMITH_PROJECT를 읽어와 자동으로 적용해줌\n",
    "1. LangSmith 사이트 접속\n",
    "2. Setting에서 API Key 발급\n",
    "3. .env 파일의 LangSmith KEY에 입력\n",
    "4. LangSmith 프로젝트 명 입력"
   ]
  },
  {
   "cell_type": "code",
   "execution_count": null,
   "id": "dee467bf",
   "metadata": {},
   "outputs": [],
   "source": [
    "%pip install langsmith"
   ]
  },
  {
   "cell_type": "code",
   "execution_count": null,
   "id": "fc838047",
   "metadata": {},
   "outputs": [],
   "source": [
    "# LangchainHub 사용을 위한 패키지 설치 및 환경변수 설정\n",
    "# !pip install langchainhub python-dotenv\n",
    "\n",
    "import os\n",
    "from dotenv import load_dotenv\n",
    "from langchain import hub\n",
    "\n",
    "# .env 파일에서 환경변수 로드\n",
    "load_dotenv()\n",
    "\n",
    "# LANGCHAIN_API_KEY 환경변수 값 확인\n",
    "langchain_api_key = os.getenv('LANGCHAIN_API_KEY')\n",
    "print(f\"LANGCHAIN_API_KEY가 설정되어 있나요?: {langchain_api_key[:10]}...\")\n"
   ]
  },
  {
   "cell_type": "code",
   "execution_count": null,
   "id": "260e5502",
   "metadata": {},
   "outputs": [],
   "source": [
    "from langchain.chat_models import init_chat_model\n",
    "\n",
    "# Google Gemini 모델 초기화\n",
    "llm = init_chat_model(\"gpt-4o-mini\", model_provider=\"openai\", temperature=0.5)\n",
    "\n",
    "print(\"모델이 성공적으로 초기화되었습니다!\")\n"
   ]
  },
  {
   "cell_type": "code",
   "execution_count": null,
   "id": "cdeb9441",
   "metadata": {},
   "outputs": [],
   "source": [
    "from langchain_core.prompts import PromptTemplate\n",
    "\n",
    "prompt = PromptTemplate.from_template(\"{input}가 무엇인가요?\")"
   ]
  },
  {
   "cell_type": "code",
   "execution_count": null,
   "id": "939d90e0",
   "metadata": {},
   "outputs": [],
   "source": [
    "chain = prompt | llm"
   ]
  },
  {
   "cell_type": "code",
   "execution_count": null,
   "id": "c9c63d65",
   "metadata": {},
   "outputs": [],
   "source": [
    "input = \"Retrieval\"\n",
    "\n",
    "response = chain.invoke(input)\n",
    "print(response.content)"
   ]
  }
 ],
 "metadata": {
  "kernelspec": {
   "display_name": "Python 3",
   "language": "python",
   "name": "python3"
  },
  "language_info": {
   "codemirror_mode": {
    "name": "ipython",
    "version": 3
   },
   "file_extension": ".py",
   "mimetype": "text/x-python",
   "name": "python",
   "nbconvert_exporter": "python",
   "pygments_lexer": "ipython3",
   "version": "3.11.13"
  }
 },
 "nbformat": 4,
 "nbformat_minor": 5
}
