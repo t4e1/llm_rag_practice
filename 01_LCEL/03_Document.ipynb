{
 "cells": [
  {
   "cell_type": "markdown",
   "id": "b39918be",
   "metadata": {},
   "source": [
    "## Document 객체와 속성\n",
    "LangChain의 `Document` 객체는 텍스트 데이터를 표현하는 기본 단위입니다.\n",
    "\n",
    "### 주요 속성\n",
    "- page_content : 문서의 실제 텍스트 내용을 저장합니다\n",
    "- metadata : 문서와 관련된 메타데이터를 딕셔너리 형태로 저장합니다\n",
    "  - source : 문서의 출처 (파일 경로 등)\n",
    "  - page : 페이지 번호\n",
    "  - created_at : 생성 시간\n",
    "  - author : 작성자\n",
    "  등 사용자가 필요한 메타데이터를 자유롭게 추가 가능합니다"
   ]
  },
  {
   "cell_type": "code",
   "execution_count": null,
   "id": "7f2e39d0",
   "metadata": {},
   "outputs": [],
   "source": [
    "from langchain.schema import Document\n",
    "\n",
    "# 기본적인 Document 객체 생성\n",
    "doc = Document(\n",
    "    page_content=\"이것은 문서의 내용입니다.\",\n",
    "    metadata={\n",
    "        \"source\": \"example.txt\", # 문서의 출처 (지금은 임의로 입력)\n",
    "        \"page\": 1, # 페이지 번호\n",
    "        \"author\": \"홍길동\", # 작성자\n",
    "        \"created_at\": \"2025-01-01\" # 생성 시간\n",
    "    }\n",
    ")\n",
    "\n",
    "# Document 객체의 속성 확인\n",
    "print(doc.__dict__)"
   ]
  }
 ],
 "metadata": {
  "kernelspec": {
   "display_name": "Python 3",
   "language": "python",
   "name": "python3"
  },
  "language_info": {
   "codemirror_mode": {
    "name": "ipython",
    "version": 3
   },
   "file_extension": ".py",
   "mimetype": "text/x-python",
   "name": "python",
   "nbconvert_exporter": "python",
   "pygments_lexer": "ipython3",
   "version": "3.11.13"
  }
 },
 "nbformat": 4,
 "nbformat_minor": 5
}
